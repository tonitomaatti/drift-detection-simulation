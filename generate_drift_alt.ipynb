{
 "cells": [
  {
   "cell_type": "markdown",
   "id": "3f22ef61-ee06-41a2-95b3-ee436a97d512",
   "metadata": {},
   "source": [
    "## 1. Importing Data"
   ]
  },
  {
   "cell_type": "code",
   "execution_count": null,
   "id": "32f3eb64-01bb-4d2c-b26e-9fd5ed70d00f",
   "metadata": {},
   "outputs": [],
   "source": [
    "#Alternative way to generate drift."
   ]
  },
  {
   "cell_type": "code",
   "execution_count": 4,
   "id": "55a675b5-7d43-4263-bced-1f7d8dedf544",
   "metadata": {},
   "outputs": [],
   "source": [
    "import pandas as pd"
   ]
  },
  {
   "cell_type": "code",
   "execution_count": 5,
   "id": "45c76a9b-38df-41f6-b019-86039f836c5f",
   "metadata": {},
   "outputs": [],
   "source": [
    "df = pd.read_excel(\"https://github.com/statisticspoland/ecoicop_classification/blob/master/products_allshops_dataset.xlsx?raw=true\")"
   ]
  },
  {
   "cell_type": "code",
   "execution_count": 6,
   "id": "1d70d35b-fb6f-48ba-918d-87797e315f0a",
   "metadata": {},
   "outputs": [
    {
     "data": {
      "text/html": [
       "<div>\n",
       "<style scoped>\n",
       "    .dataframe tbody tr th:only-of-type {\n",
       "        vertical-align: middle;\n",
       "    }\n",
       "\n",
       "    .dataframe tbody tr th {\n",
       "        vertical-align: top;\n",
       "    }\n",
       "\n",
       "    .dataframe thead th {\n",
       "        text-align: right;\n",
       "    }\n",
       "</style>\n",
       "<table border=\"1\" class=\"dataframe\">\n",
       "  <thead>\n",
       "    <tr style=\"text-align: right;\">\n",
       "      <th></th>\n",
       "      <th>produkt</th>\n",
       "      <th>kategoria</th>\n",
       "    </tr>\n",
       "  </thead>\n",
       "  <tbody>\n",
       "    <tr>\n",
       "      <th>0</th>\n",
       "      <td>\"słynne roślinne\"</td>\n",
       "      <td>Margaryna i inne tłuszcze roślinne</td>\n",
       "    </tr>\n",
       "    <tr>\n",
       "      <th>1</th>\n",
       "      <td>#Hejki - Emotki lizaki ręcznie robione o smaka...</td>\n",
       "      <td>Wyroby cukiernicze</td>\n",
       "    </tr>\n",
       "    <tr>\n",
       "      <th>2</th>\n",
       "      <td>100% Pur jus d'orange - sok pomarańczowy z mią...</td>\n",
       "      <td>Soki owocowe i warzywne</td>\n",
       "    </tr>\n",
       "    <tr>\n",
       "      <th>3</th>\n",
       "      <td>100% sukraloza bez cukru (substancje słodzące)</td>\n",
       "      <td>Sztuczne substytuty cukru</td>\n",
       "    </tr>\n",
       "    <tr>\n",
       "      <th>4</th>\n",
       "      <td>100% z brzoskwiń produkt owocowy słodzony zag....</td>\n",
       "      <td>Dżemy, marmolady i miód</td>\n",
       "    </tr>\n",
       "    <tr>\n",
       "      <th>...</th>\n",
       "      <td>...</td>\n",
       "      <td>...</td>\n",
       "    </tr>\n",
       "    <tr>\n",
       "      <th>16625</th>\n",
       "      <td>Żywiec Zdrój ze smakiem truskawki Napój niegaz...</td>\n",
       "      <td>Wody mineralne lub źródlane</td>\n",
       "    </tr>\n",
       "    <tr>\n",
       "      <th>16626</th>\n",
       "      <td>Żywiec green tea&amp;gruszka</td>\n",
       "      <td>Napoje orzeźwiające</td>\n",
       "    </tr>\n",
       "    <tr>\n",
       "      <th>16627</th>\n",
       "      <td>Żywioł - Woda źródlana delikatnie gazowana</td>\n",
       "      <td>Wody mineralne lub źródlane</td>\n",
       "    </tr>\n",
       "    <tr>\n",
       "      <th>16628</th>\n",
       "      <td>Żywioł - Woda źródlana gazowana</td>\n",
       "      <td>Wody mineralne lub źródlane</td>\n",
       "    </tr>\n",
       "    <tr>\n",
       "      <th>16629</th>\n",
       "      <td>Żywioł - Woda źródlana gazowana, 8 x 0,5 L</td>\n",
       "      <td>Wody mineralne lub źródlane</td>\n",
       "    </tr>\n",
       "  </tbody>\n",
       "</table>\n",
       "<p>16630 rows × 2 columns</p>\n",
       "</div>"
      ],
      "text/plain": [
       "                                                 produkt  \\\n",
       "0                                      \"słynne roślinne\"   \n",
       "1      #Hejki - Emotki lizaki ręcznie robione o smaka...   \n",
       "2      100% Pur jus d'orange - sok pomarańczowy z mią...   \n",
       "3         100% sukraloza bez cukru (substancje słodzące)   \n",
       "4      100% z brzoskwiń produkt owocowy słodzony zag....   \n",
       "...                                                  ...   \n",
       "16625  Żywiec Zdrój ze smakiem truskawki Napój niegaz...   \n",
       "16626                           Żywiec green tea&gruszka   \n",
       "16627         Żywioł - Woda źródlana delikatnie gazowana   \n",
       "16628                    Żywioł - Woda źródlana gazowana   \n",
       "16629         Żywioł - Woda źródlana gazowana, 8 x 0,5 L   \n",
       "\n",
       "                                kategoria  \n",
       "0      Margaryna i inne tłuszcze roślinne  \n",
       "1                      Wyroby cukiernicze  \n",
       "2                 Soki owocowe i warzywne  \n",
       "3               Sztuczne substytuty cukru  \n",
       "4                 Dżemy, marmolady i miód  \n",
       "...                                   ...  \n",
       "16625         Wody mineralne lub źródlane  \n",
       "16626                 Napoje orzeźwiające  \n",
       "16627         Wody mineralne lub źródlane  \n",
       "16628         Wody mineralne lub źródlane  \n",
       "16629         Wody mineralne lub źródlane  \n",
       "\n",
       "[16630 rows x 2 columns]"
      ]
     },
     "execution_count": 6,
     "metadata": {},
     "output_type": "execute_result"
    }
   ],
   "source": [
    "df"
   ]
  },
  {
   "cell_type": "markdown",
   "id": "4da90d42-aa28-47b0-b99f-0bacbcc546dc",
   "metadata": {},
   "source": [
    "## 2. Generating drift in data"
   ]
  },
  {
   "cell_type": "code",
   "execution_count": 7,
   "id": "12ac1e9c-2ae5-4b4e-b664-068e8c6f5f0e",
   "metadata": {},
   "outputs": [],
   "source": [
    "#We drop categories with few rows (less than 50) to streamline the analysis:\n",
    "df = df[df.groupby(\"kategoria\")[\"kategoria\"].transform(\"count\").ge(50)]\n",
    "df = df.reset_index(drop=True)"
   ]
  },
  {
   "cell_type": "code",
   "execution_count": 8,
   "id": "f361fa1d-521e-43d7-8801-0cb6e82c5800",
   "metadata": {},
   "outputs": [],
   "source": [
    "#Let's make two datasets with different distributions of categories\n",
    "#We'll split the data to reference data and a drifted sample\n",
    "#The drifted data set can be thought of a as new incoming data for which we want predictions, for example "
   ]
  },
  {
   "cell_type": "code",
   "execution_count": 9,
   "id": "32fc1489-27a7-4506-a06f-a1c043b069b9",
   "metadata": {},
   "outputs": [
    {
     "name": "stdout",
     "output_type": "stream",
     "text": [
      "There is a total of 16263 rows in the dataset\n",
      "Let drift sample size be 50 which leaves 16213 rows for reference data set\n"
     ]
    }
   ],
   "source": [
    "drift_sample_size = 50\n",
    "print(f\"There is a total of {len(df)} rows in the dataset\")\n",
    "print(f\"Let drift sample size be {drift_sample_size} which leaves {len(df)-drift_sample_size} rows for reference data set\")"
   ]
  },
  {
   "cell_type": "code",
   "execution_count": 10,
   "id": "d5b7904b-7fa7-49a3-a7d5-789df1366dfa",
   "metadata": {},
   "outputs": [
    {
     "data": {
      "text/plain": [
       "Sery i twarogi                                    0.064072\n",
       "Pozostałe wyroby piekarskie                       0.062719\n",
       "Warzywa suszone i pozostałe przetwory warzywne    0.053865\n",
       "Soki owocowe i warzywne                           0.053434\n",
       "Wyroby cukiernicze                                0.049376\n",
       "                                                    ...   \n",
       "Mięso wieprzowe                                   0.003443\n",
       "Ryby świeże lub chłodzone                         0.003382\n",
       "Jaja                                              0.003382\n",
       "Mleko świeże niskotłuszczowe                      0.003320\n",
       "Mleko świeże pełne                                0.003074\n",
       "Name: kategoria, Length: 50, dtype: float64"
      ]
     },
     "metadata": {},
     "output_type": "display_data"
    }
   ],
   "source": [
    "#To simulate a different distribution, let's take the original category distribution, and change the relative size by random value between 0%-x%\n",
    "original_distribution = df[\"kategoria\"].value_counts(normalize=True, sort=True)\n",
    "with pd.option_context(\"display.max_rows\", 10):\n",
    "    display(original_distribution)"
   ]
  },
  {
   "cell_type": "code",
   "execution_count": 11,
   "id": "cc4f11c1-bd8b-48a6-bb77-0ef857272d53",
   "metadata": {},
   "outputs": [
    {
     "data": {
      "text/plain": [
       "Pozostałe wyroby piekarskie                                   0.109924\n",
       "Warzywa suszone i pozostałe przetwory warzywne                0.094407\n",
       "Inne artykuły żywnościowe, gdzie indziej niesklasyfikowane    0.091828\n",
       "Sól, przyprawy korzenne i zioła kulinarne                     0.054437\n",
       "Owoce suszone i orzechy                                       0.052185\n",
       "                                                                ...   \n",
       "Wędliny                                                       0.000986\n",
       "Mięso wołowe i cielęce                                        0.000567\n",
       "Mleko zagęszczone i w proszku                                 0.000501\n",
       "Mięso drobiowe                                                0.000241\n",
       "Mleko świeże pełne                                            0.000225\n",
       "Name: kategoria, Length: 50, dtype: float64"
      ]
     },
     "metadata": {},
     "output_type": "display_data"
    },
    {
     "name": "stdout",
     "output_type": "stream",
     "text": [
      "Let's check that the distribution is normalized to one: sum() = 0.9999999999999999\n"
     ]
    }
   ],
   "source": [
    "#New distribution:\n",
    "import random\n",
    "new_distribution = original_distribution.apply(lambda x: x * random.uniform(1.0, 100.0))\n",
    "#Normalize to one\n",
    "new_distribution = new_distribution / new_distribution.sum()\n",
    "new_distribution = new_distribution.sort_values(ascending = False)\n",
    "with pd.option_context(\"display.max_rows\", 10):\n",
    "    display(new_distribution)\n",
    "print(f\"Let's check that the distribution is normalized to one: sum() = {new_distribution.sum()}\")"
   ]
  },
  {
   "cell_type": "code",
   "execution_count": 12,
   "id": "c63b3e31-bb41-46f8-9bf4-db570bce93d1",
   "metadata": {},
   "outputs": [
    {
     "data": {
      "text/plain": [
       "Warzywa suszone i pozostałe przetwory warzywne                                     0.111111\n",
       "Inne artykuły żywnościowe, gdzie indziej niesklasyfikowane                         0.111111\n",
       "Pozostałe wyroby piekarskie                                                        0.111111\n",
       "Sól, przyprawy korzenne i zioła kulinarne                                          0.066667\n",
       "Owoce suszone i orzechy                                                            0.066667\n",
       "Pozostałe przetwory z ryb i owoców morza                                           0.044444\n",
       "Napoje orzeźwiające                                                                0.044444\n",
       "Sosy, przyprawy                                                                    0.044444\n",
       "Żywność dla dzieci                                                                 0.044444\n",
       "Makarony i produkty makaronowe                                                     0.044444\n",
       "Jogurt                                                                             0.044444\n",
       "Herbata                                                                            0.044444\n",
       "Mąka i pozostałe zboża                                                             0.022222\n",
       "Pozostałe produkty mleczne                                                         0.022222\n",
       "Gotowe dania                                                                       0.022222\n",
       "Płatki śniadaniowe                                                                 0.022222\n",
       "Sery i twarogi                                                                     0.022222\n",
       "Kawa                                                                               0.022222\n",
       "Warzywa mrożone inne niż ziemniaki lub pozostałe warzywa bulwiaste                 0.022222\n",
       "Warzywa świeże lub chłodzone inne niż ziemniaki lub pozostałe warzywa bulwiaste    0.022222\n",
       "Wyroby cukiernicze                                                                 0.022222\n",
       "Dżemy, marmolady i miód                                                            0.022222\n",
       "Name: kategoria, dtype: float64"
      ]
     },
     "metadata": {},
     "output_type": "display_data"
    },
    {
     "name": "stdout",
     "output_type": "stream",
     "text": [
      "Length: 45\n"
     ]
    }
   ],
   "source": [
    "#Now we populate the new dataset\n",
    "drift_data = df.groupby(\"kategoria\", group_keys=False).apply(lambda x: x.sample(n=int(round(drift_sample_size*new_distribution[x.name])))).copy()\n",
    "display(drift_data[\"kategoria\"].value_counts(normalize=True, sort=True))\n",
    "print(f\"Length: {len(drift_data)}\")"
   ]
  },
  {
   "cell_type": "code",
   "execution_count": 13,
   "id": "8de37def-0c99-44f6-ada0-02c74d88bd48",
   "metadata": {},
   "outputs": [
    {
     "name": "stdout",
     "output_type": "stream",
     "text": [
      "16263\n"
     ]
    }
   ],
   "source": [
    "#Lets remove the drift data rows from reference set\n",
    "print(len(df))\n",
    "reference_data = df.drop(drift_data.index)"
   ]
  }
 ],
 "metadata": {
  "kernelspec": {
   "display_name": "Python 3 (ipykernel)",
   "language": "python",
   "name": "python3"
  },
  "language_info": {
   "codemirror_mode": {
    "name": "ipython",
    "version": 3
   },
   "file_extension": ".py",
   "mimetype": "text/x-python",
   "name": "python",
   "nbconvert_exporter": "python",
   "pygments_lexer": "ipython3",
   "version": "3.8.5"
  }
 },
 "nbformat": 4,
 "nbformat_minor": 5
}
