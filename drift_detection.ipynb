{
 "cells": [
  {
   "cell_type": "markdown",
   "id": "10a76bc1-6559-4291-af12-fa6a7cbbbc66",
   "metadata": {},
   "source": [
    "## 1. Importing data"
   ]
  },
  {
   "cell_type": "code",
   "execution_count": 15,
   "id": "7b5a1f30-555f-448d-83c9-3a4149beb622",
   "metadata": {},
   "outputs": [],
   "source": [
    "import pandas as pd"
   ]
  },
  {
   "cell_type": "code",
   "execution_count": 16,
   "id": "9bc6a453-d3d0-4e5d-9e09-0df7d7d16ba8",
   "metadata": {},
   "outputs": [],
   "source": [
    "df = pd.read_excel(\"https://github.com/statisticspoland/ecoicop_classification/blob/master/products_allshops_dataset.xlsx?raw=true\")"
   ]
  },
  {
   "cell_type": "code",
   "execution_count": 17,
   "id": "206e2635-6c05-4b2f-ab81-062a0a52c87c",
   "metadata": {},
   "outputs": [
    {
     "data": {
      "text/html": [
       "<div>\n",
       "<style scoped>\n",
       "    .dataframe tbody tr th:only-of-type {\n",
       "        vertical-align: middle;\n",
       "    }\n",
       "\n",
       "    .dataframe tbody tr th {\n",
       "        vertical-align: top;\n",
       "    }\n",
       "\n",
       "    .dataframe thead th {\n",
       "        text-align: right;\n",
       "    }\n",
       "</style>\n",
       "<table border=\"1\" class=\"dataframe\">\n",
       "  <thead>\n",
       "    <tr style=\"text-align: right;\">\n",
       "      <th></th>\n",
       "      <th>produkt</th>\n",
       "      <th>kategoria</th>\n",
       "    </tr>\n",
       "  </thead>\n",
       "  <tbody>\n",
       "    <tr>\n",
       "      <th>0</th>\n",
       "      <td>\"słynne roślinne\"</td>\n",
       "      <td>Margaryna i inne tłuszcze roślinne</td>\n",
       "    </tr>\n",
       "    <tr>\n",
       "      <th>1</th>\n",
       "      <td>#Hejki - Emotki lizaki ręcznie robione o smaka...</td>\n",
       "      <td>Wyroby cukiernicze</td>\n",
       "    </tr>\n",
       "    <tr>\n",
       "      <th>2</th>\n",
       "      <td>100% Pur jus d'orange - sok pomarańczowy z mią...</td>\n",
       "      <td>Soki owocowe i warzywne</td>\n",
       "    </tr>\n",
       "    <tr>\n",
       "      <th>3</th>\n",
       "      <td>100% sukraloza bez cukru (substancje słodzące)</td>\n",
       "      <td>Sztuczne substytuty cukru</td>\n",
       "    </tr>\n",
       "    <tr>\n",
       "      <th>4</th>\n",
       "      <td>100% z brzoskwiń produkt owocowy słodzony zag....</td>\n",
       "      <td>Dżemy, marmolady i miód</td>\n",
       "    </tr>\n",
       "    <tr>\n",
       "      <th>...</th>\n",
       "      <td>...</td>\n",
       "      <td>...</td>\n",
       "    </tr>\n",
       "    <tr>\n",
       "      <th>16625</th>\n",
       "      <td>Żywiec Zdrój ze smakiem truskawki Napój niegaz...</td>\n",
       "      <td>Wody mineralne lub źródlane</td>\n",
       "    </tr>\n",
       "    <tr>\n",
       "      <th>16626</th>\n",
       "      <td>Żywiec green tea&amp;gruszka</td>\n",
       "      <td>Napoje orzeźwiające</td>\n",
       "    </tr>\n",
       "    <tr>\n",
       "      <th>16627</th>\n",
       "      <td>Żywioł - Woda źródlana delikatnie gazowana</td>\n",
       "      <td>Wody mineralne lub źródlane</td>\n",
       "    </tr>\n",
       "    <tr>\n",
       "      <th>16628</th>\n",
       "      <td>Żywioł - Woda źródlana gazowana</td>\n",
       "      <td>Wody mineralne lub źródlane</td>\n",
       "    </tr>\n",
       "    <tr>\n",
       "      <th>16629</th>\n",
       "      <td>Żywioł - Woda źródlana gazowana, 8 x 0,5 L</td>\n",
       "      <td>Wody mineralne lub źródlane</td>\n",
       "    </tr>\n",
       "  </tbody>\n",
       "</table>\n",
       "<p>16630 rows × 2 columns</p>\n",
       "</div>"
      ],
      "text/plain": [
       "                                                 produkt  \\\n",
       "0                                      \"słynne roślinne\"   \n",
       "1      #Hejki - Emotki lizaki ręcznie robione o smaka...   \n",
       "2      100% Pur jus d'orange - sok pomarańczowy z mią...   \n",
       "3         100% sukraloza bez cukru (substancje słodzące)   \n",
       "4      100% z brzoskwiń produkt owocowy słodzony zag....   \n",
       "...                                                  ...   \n",
       "16625  Żywiec Zdrój ze smakiem truskawki Napój niegaz...   \n",
       "16626                           Żywiec green tea&gruszka   \n",
       "16627         Żywioł - Woda źródlana delikatnie gazowana   \n",
       "16628                    Żywioł - Woda źródlana gazowana   \n",
       "16629         Żywioł - Woda źródlana gazowana, 8 x 0,5 L   \n",
       "\n",
       "                                kategoria  \n",
       "0      Margaryna i inne tłuszcze roślinne  \n",
       "1                      Wyroby cukiernicze  \n",
       "2                 Soki owocowe i warzywne  \n",
       "3               Sztuczne substytuty cukru  \n",
       "4                 Dżemy, marmolady i miód  \n",
       "...                                   ...  \n",
       "16625         Wody mineralne lub źródlane  \n",
       "16626                 Napoje orzeźwiające  \n",
       "16627         Wody mineralne lub źródlane  \n",
       "16628         Wody mineralne lub źródlane  \n",
       "16629         Wody mineralne lub źródlane  \n",
       "\n",
       "[16630 rows x 2 columns]"
      ]
     },
     "execution_count": 17,
     "metadata": {},
     "output_type": "execute_result"
    }
   ],
   "source": [
    "df"
   ]
  },
  {
   "cell_type": "markdown",
   "id": "912064a0-c4f7-427e-8917-9cb68700745d",
   "metadata": {},
   "source": [
    "## 2. Simulating Data Drift"
   ]
  },
  {
   "cell_type": "code",
   "execution_count": 18,
   "id": "51164aca-5310-42dc-979c-4932ec6a8898",
   "metadata": {},
   "outputs": [],
   "source": [
    "#Let's introduce order to the dataset by sorting with \"produkt\" column\n",
    "df = df.sort_values(by=\"produkt\")"
   ]
  },
  {
   "cell_type": "code",
   "execution_count": 19,
   "id": "b9b67a7d-85c6-4c8d-b754-c76d0a6a99af",
   "metadata": {},
   "outputs": [],
   "source": [
    "#Now any continuous subset of the data should have different characteristics than the data as a whole. Let's divide the data to \"new\" and \"original\" sets. We then compare the sets to determine if the new data has same characteristics as the original data\n",
    "\n",
    "new_data = df[0:20]\n",
    "original_data = df[20:len(df)]"
   ]
  },
  {
   "cell_type": "code",
   "execution_count": 20,
   "id": "de09c7e8-6add-42b8-a393-5ed02af29c3d",
   "metadata": {},
   "outputs": [],
   "source": [
    "#For Data Drift we only consider the \"features\" (or X -columns), which is the \"produkt\" column\n",
    "new_data = new_data[[\"produkt\"]]\n",
    "original_data = original_data[[\"produkt\"]]"
   ]
  },
  {
   "cell_type": "code",
   "execution_count": 21,
   "id": "8237bdda-e41c-42d1-8625-8445732ef752",
   "metadata": {},
   "outputs": [],
   "source": [
    "#To detect datadrift we use the Kolmogorov-Smirnov algorithm from the Alibi Detect library\n",
    "#For algorithm overview, see: https://docs.seldon.io/projects/alibi-detect/en/latest/overview/algorithms.html\n",
    "#For the algorithm used here, see: https://docs.seldon.io/projects/alibi-detect/en/latest/cd/methods/ksdrift.html\n",
    "\n",
    "#The algorithm is \"trained\" with the original data, after which it can be used to detect drift in new data. For p-value we use the standard 0.05.\n",
    "\n",
    "from alibi_detect.cd import KSDrift\n",
    "data_drift_detector = KSDrift(original_data.to_numpy(), p_val=0.05)"
   ]
  },
  {
   "cell_type": "code",
   "execution_count": 22,
   "id": "98e62fe4-3816-46c5-9759-ec5c0d8bc3e9",
   "metadata": {},
   "outputs": [
    {
     "data": {
      "text/plain": [
       "{'data': {'is_drift': 1,\n",
       "  'distance': array([1.], dtype=float32),\n",
       "  'p_val': array([0.], dtype=float32),\n",
       "  'threshold': 0.05},\n",
       " 'meta': {'name': 'KSDrift', 'detector_type': 'offline', 'data_type': None}}"
      ]
     },
     "execution_count": 22,
     "metadata": {},
     "output_type": "execute_result"
    }
   ],
   "source": [
    "#Now we \"predict\" if there is a detectable drift in an incoming \"new\" data\n",
    "#Predictions return a dictionary with the information from our predictions.\n",
    "#The 'is_drift' key has a boolean value which indicates whether there is drift (1) or not (0)\n",
    "#As we can see, our detector detected drift, as expected. At this point we could send an alert of detected drift to whatever monitoring system we have in place.\n",
    "\n",
    "predictions = data_drift_detector.predict(new_data.to_numpy(), drift_type=\"batch\", return_p_val=True, return_distance=True)\n",
    "predictions"
   ]
  },
  {
   "cell_type": "code",
   "execution_count": 35,
   "id": "d6443d31-148a-43af-a40d-f06aa7467427",
   "metadata": {},
   "outputs": [
    {
     "data": {
      "text/plain": [
       "{'data': {'is_drift': 0,\n",
       "  'distance': array([0.21336544], dtype=float32),\n",
       "  'p_val': array([0.28036776], dtype=float32),\n",
       "  'threshold': 0.05},\n",
       " 'meta': {'name': 'KSDrift', 'detector_type': 'offline', 'data_type': None}}"
      ]
     },
     "execution_count": 35,
     "metadata": {},
     "output_type": "execute_result"
    }
   ],
   "source": [
    "#As a sanity check, let's confirm that drift is not detected when it shouldn't be.\n",
    "#Let's take an unbiased sample from the original data and run another predictions.\n",
    "#This sample should have the same characteristics as the original data\n",
    "#As we can see, we do not detect drift\n",
    "\n",
    "unbiased_sample = original_data.sample(n=20)\n",
    "predictions_unbiased = data_drift_detector.predict(unbiased_sample.to_numpy(), drift_type=\"batch\", return_p_val=True, return_distance=True)\n",
    "predictions_unbiased"
   ]
  },
  {
   "cell_type": "code",
   "execution_count": 36,
   "id": "c93ff490-9f23-4f71-b0c5-8099ce92b52b",
   "metadata": {},
   "outputs": [
    {
     "data": {
      "application/vnd.plotly.v1+json": {
       "config": {
        "plotlyServerURL": "https://plot.ly"
       },
       "data": [
        {
         "alignmentgroup": "True",
         "hovertemplate": "feature=%{x}<br>p-value=%{y}<extra></extra>",
         "legendgroup": "",
         "marker": {
          "color": "#636efa",
          "pattern": {
           "shape": ""
          }
         },
         "name": "",
         "offsetgroup": "",
         "orientation": "v",
         "showlegend": false,
         "textposition": "auto",
         "type": "bar",
         "x": [
          "produkt (drift)",
          "produkt (unbiased)"
         ],
         "xaxis": "x",
         "y": [
          0,
          0.28036776185035706
         ],
         "yaxis": "y"
        }
       ],
       "layout": {
        "autosize": true,
        "barmode": "relative",
        "legend": {
         "tracegroupgap": 0
        },
        "shapes": [
         {
          "line": {
           "color": "red"
          },
          "type": "line",
          "x0": 0,
          "x1": 1,
          "xref": "x domain",
          "y0": 0.05,
          "y1": 0.05,
          "yref": "y"
         }
        ],
        "template": {
         "data": {
          "bar": [
           {
            "error_x": {
             "color": "#2a3f5f"
            },
            "error_y": {
             "color": "#2a3f5f"
            },
            "marker": {
             "line": {
              "color": "#E5ECF6",
              "width": 0.5
             },
             "pattern": {
              "fillmode": "overlay",
              "size": 10,
              "solidity": 0.2
             }
            },
            "type": "bar"
           }
          ],
          "barpolar": [
           {
            "marker": {
             "line": {
              "color": "#E5ECF6",
              "width": 0.5
             },
             "pattern": {
              "fillmode": "overlay",
              "size": 10,
              "solidity": 0.2
             }
            },
            "type": "barpolar"
           }
          ],
          "carpet": [
           {
            "aaxis": {
             "endlinecolor": "#2a3f5f",
             "gridcolor": "white",
             "linecolor": "white",
             "minorgridcolor": "white",
             "startlinecolor": "#2a3f5f"
            },
            "baxis": {
             "endlinecolor": "#2a3f5f",
             "gridcolor": "white",
             "linecolor": "white",
             "minorgridcolor": "white",
             "startlinecolor": "#2a3f5f"
            },
            "type": "carpet"
           }
          ],
          "choropleth": [
           {
            "colorbar": {
             "outlinewidth": 0,
             "ticks": ""
            },
            "type": "choropleth"
           }
          ],
          "contour": [
           {
            "colorbar": {
             "outlinewidth": 0,
             "ticks": ""
            },
            "colorscale": [
             [
              0,
              "#0d0887"
             ],
             [
              0.1111111111111111,
              "#46039f"
             ],
             [
              0.2222222222222222,
              "#7201a8"
             ],
             [
              0.3333333333333333,
              "#9c179e"
             ],
             [
              0.4444444444444444,
              "#bd3786"
             ],
             [
              0.5555555555555556,
              "#d8576b"
             ],
             [
              0.6666666666666666,
              "#ed7953"
             ],
             [
              0.7777777777777778,
              "#fb9f3a"
             ],
             [
              0.8888888888888888,
              "#fdca26"
             ],
             [
              1,
              "#f0f921"
             ]
            ],
            "type": "contour"
           }
          ],
          "contourcarpet": [
           {
            "colorbar": {
             "outlinewidth": 0,
             "ticks": ""
            },
            "type": "contourcarpet"
           }
          ],
          "heatmap": [
           {
            "colorbar": {
             "outlinewidth": 0,
             "ticks": ""
            },
            "colorscale": [
             [
              0,
              "#0d0887"
             ],
             [
              0.1111111111111111,
              "#46039f"
             ],
             [
              0.2222222222222222,
              "#7201a8"
             ],
             [
              0.3333333333333333,
              "#9c179e"
             ],
             [
              0.4444444444444444,
              "#bd3786"
             ],
             [
              0.5555555555555556,
              "#d8576b"
             ],
             [
              0.6666666666666666,
              "#ed7953"
             ],
             [
              0.7777777777777778,
              "#fb9f3a"
             ],
             [
              0.8888888888888888,
              "#fdca26"
             ],
             [
              1,
              "#f0f921"
             ]
            ],
            "type": "heatmap"
           }
          ],
          "heatmapgl": [
           {
            "colorbar": {
             "outlinewidth": 0,
             "ticks": ""
            },
            "colorscale": [
             [
              0,
              "#0d0887"
             ],
             [
              0.1111111111111111,
              "#46039f"
             ],
             [
              0.2222222222222222,
              "#7201a8"
             ],
             [
              0.3333333333333333,
              "#9c179e"
             ],
             [
              0.4444444444444444,
              "#bd3786"
             ],
             [
              0.5555555555555556,
              "#d8576b"
             ],
             [
              0.6666666666666666,
              "#ed7953"
             ],
             [
              0.7777777777777778,
              "#fb9f3a"
             ],
             [
              0.8888888888888888,
              "#fdca26"
             ],
             [
              1,
              "#f0f921"
             ]
            ],
            "type": "heatmapgl"
           }
          ],
          "histogram": [
           {
            "marker": {
             "pattern": {
              "fillmode": "overlay",
              "size": 10,
              "solidity": 0.2
             }
            },
            "type": "histogram"
           }
          ],
          "histogram2d": [
           {
            "colorbar": {
             "outlinewidth": 0,
             "ticks": ""
            },
            "colorscale": [
             [
              0,
              "#0d0887"
             ],
             [
              0.1111111111111111,
              "#46039f"
             ],
             [
              0.2222222222222222,
              "#7201a8"
             ],
             [
              0.3333333333333333,
              "#9c179e"
             ],
             [
              0.4444444444444444,
              "#bd3786"
             ],
             [
              0.5555555555555556,
              "#d8576b"
             ],
             [
              0.6666666666666666,
              "#ed7953"
             ],
             [
              0.7777777777777778,
              "#fb9f3a"
             ],
             [
              0.8888888888888888,
              "#fdca26"
             ],
             [
              1,
              "#f0f921"
             ]
            ],
            "type": "histogram2d"
           }
          ],
          "histogram2dcontour": [
           {
            "colorbar": {
             "outlinewidth": 0,
             "ticks": ""
            },
            "colorscale": [
             [
              0,
              "#0d0887"
             ],
             [
              0.1111111111111111,
              "#46039f"
             ],
             [
              0.2222222222222222,
              "#7201a8"
             ],
             [
              0.3333333333333333,
              "#9c179e"
             ],
             [
              0.4444444444444444,
              "#bd3786"
             ],
             [
              0.5555555555555556,
              "#d8576b"
             ],
             [
              0.6666666666666666,
              "#ed7953"
             ],
             [
              0.7777777777777778,
              "#fb9f3a"
             ],
             [
              0.8888888888888888,
              "#fdca26"
             ],
             [
              1,
              "#f0f921"
             ]
            ],
            "type": "histogram2dcontour"
           }
          ],
          "mesh3d": [
           {
            "colorbar": {
             "outlinewidth": 0,
             "ticks": ""
            },
            "type": "mesh3d"
           }
          ],
          "parcoords": [
           {
            "line": {
             "colorbar": {
              "outlinewidth": 0,
              "ticks": ""
             }
            },
            "type": "parcoords"
           }
          ],
          "pie": [
           {
            "automargin": true,
            "type": "pie"
           }
          ],
          "scatter": [
           {
            "marker": {
             "colorbar": {
              "outlinewidth": 0,
              "ticks": ""
             }
            },
            "type": "scatter"
           }
          ],
          "scatter3d": [
           {
            "line": {
             "colorbar": {
              "outlinewidth": 0,
              "ticks": ""
             }
            },
            "marker": {
             "colorbar": {
              "outlinewidth": 0,
              "ticks": ""
             }
            },
            "type": "scatter3d"
           }
          ],
          "scattercarpet": [
           {
            "marker": {
             "colorbar": {
              "outlinewidth": 0,
              "ticks": ""
             }
            },
            "type": "scattercarpet"
           }
          ],
          "scattergeo": [
           {
            "marker": {
             "colorbar": {
              "outlinewidth": 0,
              "ticks": ""
             }
            },
            "type": "scattergeo"
           }
          ],
          "scattergl": [
           {
            "marker": {
             "colorbar": {
              "outlinewidth": 0,
              "ticks": ""
             }
            },
            "type": "scattergl"
           }
          ],
          "scattermapbox": [
           {
            "marker": {
             "colorbar": {
              "outlinewidth": 0,
              "ticks": ""
             }
            },
            "type": "scattermapbox"
           }
          ],
          "scatterpolar": [
           {
            "marker": {
             "colorbar": {
              "outlinewidth": 0,
              "ticks": ""
             }
            },
            "type": "scatterpolar"
           }
          ],
          "scatterpolargl": [
           {
            "marker": {
             "colorbar": {
              "outlinewidth": 0,
              "ticks": ""
             }
            },
            "type": "scatterpolargl"
           }
          ],
          "scatterternary": [
           {
            "marker": {
             "colorbar": {
              "outlinewidth": 0,
              "ticks": ""
             }
            },
            "type": "scatterternary"
           }
          ],
          "surface": [
           {
            "colorbar": {
             "outlinewidth": 0,
             "ticks": ""
            },
            "colorscale": [
             [
              0,
              "#0d0887"
             ],
             [
              0.1111111111111111,
              "#46039f"
             ],
             [
              0.2222222222222222,
              "#7201a8"
             ],
             [
              0.3333333333333333,
              "#9c179e"
             ],
             [
              0.4444444444444444,
              "#bd3786"
             ],
             [
              0.5555555555555556,
              "#d8576b"
             ],
             [
              0.6666666666666666,
              "#ed7953"
             ],
             [
              0.7777777777777778,
              "#fb9f3a"
             ],
             [
              0.8888888888888888,
              "#fdca26"
             ],
             [
              1,
              "#f0f921"
             ]
            ],
            "type": "surface"
           }
          ],
          "table": [
           {
            "cells": {
             "fill": {
              "color": "#EBF0F8"
             },
             "line": {
              "color": "white"
             }
            },
            "header": {
             "fill": {
              "color": "#C8D4E3"
             },
             "line": {
              "color": "white"
             }
            },
            "type": "table"
           }
          ]
         },
         "layout": {
          "annotationdefaults": {
           "arrowcolor": "#2a3f5f",
           "arrowhead": 0,
           "arrowwidth": 1
          },
          "autotypenumbers": "strict",
          "coloraxis": {
           "colorbar": {
            "outlinewidth": 0,
            "ticks": ""
           }
          },
          "colorscale": {
           "diverging": [
            [
             0,
             "#8e0152"
            ],
            [
             0.1,
             "#c51b7d"
            ],
            [
             0.2,
             "#de77ae"
            ],
            [
             0.3,
             "#f1b6da"
            ],
            [
             0.4,
             "#fde0ef"
            ],
            [
             0.5,
             "#f7f7f7"
            ],
            [
             0.6,
             "#e6f5d0"
            ],
            [
             0.7,
             "#b8e186"
            ],
            [
             0.8,
             "#7fbc41"
            ],
            [
             0.9,
             "#4d9221"
            ],
            [
             1,
             "#276419"
            ]
           ],
           "sequential": [
            [
             0,
             "#0d0887"
            ],
            [
             0.1111111111111111,
             "#46039f"
            ],
            [
             0.2222222222222222,
             "#7201a8"
            ],
            [
             0.3333333333333333,
             "#9c179e"
            ],
            [
             0.4444444444444444,
             "#bd3786"
            ],
            [
             0.5555555555555556,
             "#d8576b"
            ],
            [
             0.6666666666666666,
             "#ed7953"
            ],
            [
             0.7777777777777778,
             "#fb9f3a"
            ],
            [
             0.8888888888888888,
             "#fdca26"
            ],
            [
             1,
             "#f0f921"
            ]
           ],
           "sequentialminus": [
            [
             0,
             "#0d0887"
            ],
            [
             0.1111111111111111,
             "#46039f"
            ],
            [
             0.2222222222222222,
             "#7201a8"
            ],
            [
             0.3333333333333333,
             "#9c179e"
            ],
            [
             0.4444444444444444,
             "#bd3786"
            ],
            [
             0.5555555555555556,
             "#d8576b"
            ],
            [
             0.6666666666666666,
             "#ed7953"
            ],
            [
             0.7777777777777778,
             "#fb9f3a"
            ],
            [
             0.8888888888888888,
             "#fdca26"
            ],
            [
             1,
             "#f0f921"
            ]
           ]
          },
          "colorway": [
           "#636efa",
           "#EF553B",
           "#00cc96",
           "#ab63fa",
           "#FFA15A",
           "#19d3f3",
           "#FF6692",
           "#B6E880",
           "#FF97FF",
           "#FECB52"
          ],
          "font": {
           "color": "#2a3f5f"
          },
          "geo": {
           "bgcolor": "white",
           "lakecolor": "white",
           "landcolor": "#E5ECF6",
           "showlakes": true,
           "showland": true,
           "subunitcolor": "white"
          },
          "hoverlabel": {
           "align": "left"
          },
          "hovermode": "closest",
          "mapbox": {
           "style": "light"
          },
          "paper_bgcolor": "white",
          "plot_bgcolor": "#E5ECF6",
          "polar": {
           "angularaxis": {
            "gridcolor": "white",
            "linecolor": "white",
            "ticks": ""
           },
           "bgcolor": "#E5ECF6",
           "radialaxis": {
            "gridcolor": "white",
            "linecolor": "white",
            "ticks": ""
           }
          },
          "scene": {
           "xaxis": {
            "backgroundcolor": "#E5ECF6",
            "gridcolor": "white",
            "gridwidth": 2,
            "linecolor": "white",
            "showbackground": true,
            "ticks": "",
            "zerolinecolor": "white"
           },
           "yaxis": {
            "backgroundcolor": "#E5ECF6",
            "gridcolor": "white",
            "gridwidth": 2,
            "linecolor": "white",
            "showbackground": true,
            "ticks": "",
            "zerolinecolor": "white"
           },
           "zaxis": {
            "backgroundcolor": "#E5ECF6",
            "gridcolor": "white",
            "gridwidth": 2,
            "linecolor": "white",
            "showbackground": true,
            "ticks": "",
            "zerolinecolor": "white"
           }
          },
          "shapedefaults": {
           "line": {
            "color": "#2a3f5f"
           }
          },
          "ternary": {
           "aaxis": {
            "gridcolor": "white",
            "linecolor": "white",
            "ticks": ""
           },
           "baxis": {
            "gridcolor": "white",
            "linecolor": "white",
            "ticks": ""
           },
           "bgcolor": "#E5ECF6",
           "caxis": {
            "gridcolor": "white",
            "linecolor": "white",
            "ticks": ""
           }
          },
          "title": {
           "x": 0.05
          },
          "xaxis": {
           "automargin": true,
           "gridcolor": "white",
           "linecolor": "white",
           "ticks": "",
           "title": {
            "standoff": 15
           },
           "zerolinecolor": "white",
           "zerolinewidth": 2
          },
          "yaxis": {
           "automargin": true,
           "gridcolor": "white",
           "linecolor": "white",
           "ticks": "",
           "title": {
            "standoff": 15
           },
           "zerolinecolor": "white",
           "zerolinewidth": 2
          }
         }
        },
        "title": {
         "text": "Drift detection measured by p-values. Value under the red line (0.05) indicates drift"
        },
        "xaxis": {
         "anchor": "y",
         "autorange": true,
         "domain": [
          0,
          1
         ],
         "range": [
          -0.5,
          1.5
         ],
         "title": {
          "text": "feature"
         },
         "type": "category"
        },
        "yaxis": {
         "anchor": "x",
         "domain": [
          0,
          1
         ],
         "range": [
          0,
          1
         ],
         "title": {
          "text": "p-value"
         },
         "type": "linear"
        }
       }
      },
      "image/png": "[encoded data removed]",
      "text/html": [
       "<div>                            <div id=\"d1f5c66b-521b-4f7a-9e1b-5ec6b5a4ecf0\" class=\"plotly-graph-div\" style=\"height:525px; width:100%;\"></div>            <script type=\"text/javascript\">                require([\"plotly\"], function(Plotly) {                    window.PLOTLYENV=window.PLOTLYENV || {};                                    if (document.getElementById(\"d1f5c66b-521b-4f7a-9e1b-5ec6b5a4ecf0\")) {                    Plotly.newPlot(                        \"d1f5c66b-521b-4f7a-9e1b-5ec6b5a4ecf0\",                        [{\"alignmentgroup\":\"True\",\"hovertemplate\":\"feature=%{x}<br>p-value=%{y}<extra></extra>\",\"legendgroup\":\"\",\"marker\":{\"color\":\"#636efa\",\"pattern\":{\"shape\":\"\"}},\"name\":\"\",\"offsetgroup\":\"\",\"orientation\":\"v\",\"showlegend\":false,\"textposition\":\"auto\",\"type\":\"bar\",\"x\":[\"produkt (drift)\",\"produkt (unbiased)\"],\"xaxis\":\"x\",\"y\":[0.0,0.28036776185035706],\"yaxis\":\"y\"}],                        {\"barmode\":\"relative\",\"legend\":{\"tracegroupgap\":0},\"shapes\":[{\"line\":{\"color\":\"red\"},\"type\":\"line\",\"x0\":0,\"x1\":1,\"xref\":\"x domain\",\"y0\":0.05,\"y1\":0.05,\"yref\":\"y\"}],\"template\":{\"data\":{\"bar\":[{\"error_x\":{\"color\":\"#2a3f5f\"},\"error_y\":{\"color\":\"#2a3f5f\"},\"marker\":{\"line\":{\"color\":\"#E5ECF6\",\"width\":0.5},\"pattern\":{\"fillmode\":\"overlay\",\"size\":10,\"solidity\":0.2}},\"type\":\"bar\"}],\"barpolar\":[{\"marker\":{\"line\":{\"color\":\"#E5ECF6\",\"width\":0.5},\"pattern\":{\"fillmode\":\"overlay\",\"size\":10,\"solidity\":0.2}},\"type\":\"barpolar\"}],\"carpet\":[{\"aaxis\":{\"endlinecolor\":\"#2a3f5f\",\"gridcolor\":\"white\",\"linecolor\":\"white\",\"minorgridcolor\":\"white\",\"startlinecolor\":\"#2a3f5f\"},\"baxis\":{\"endlinecolor\":\"#2a3f5f\",\"gridcolor\":\"white\",\"linecolor\":\"white\",\"minorgridcolor\":\"white\",\"startlinecolor\":\"#2a3f5f\"},\"type\":\"carpet\"}],\"choropleth\":[{\"colorbar\":{\"outlinewidth\":0,\"ticks\":\"\"},\"type\":\"choropleth\"}],\"contour\":[{\"colorbar\":{\"outlinewidth\":0,\"ticks\":\"\"},\"colorscale\":[[0.0,\"#0d0887\"],[0.1111111111111111,\"#46039f\"],[0.2222222222222222,\"#7201a8\"],[0.3333333333333333,\"#9c179e\"],[0.4444444444444444,\"#bd3786\"],[0.5555555555555556,\"#d8576b\"],[0.6666666666666666,\"#ed7953\"],[0.7777777777777778,\"#fb9f3a\"],[0.8888888888888888,\"#fdca26\"],[1.0,\"#f0f921\"]],\"type\":\"contour\"}],\"contourcarpet\":[{\"colorbar\":{\"outlinewidth\":0,\"ticks\":\"\"},\"type\":\"contourcarpet\"}],\"heatmap\":[{\"colorbar\":{\"outlinewidth\":0,\"ticks\":\"\"},\"colorscale\":[[0.0,\"#0d0887\"],[0.1111111111111111,\"#46039f\"],[0.2222222222222222,\"#7201a8\"],[0.3333333333333333,\"#9c179e\"],[0.4444444444444444,\"#bd3786\"],[0.5555555555555556,\"#d8576b\"],[0.6666666666666666,\"#ed7953\"],[0.7777777777777778,\"#fb9f3a\"],[0.8888888888888888,\"#fdca26\"],[1.0,\"#f0f921\"]],\"type\":\"heatmap\"}],\"heatmapgl\":[{\"colorbar\":{\"outlinewidth\":0,\"ticks\":\"\"},\"colorscale\":[[0.0,\"#0d0887\"],[0.1111111111111111,\"#46039f\"],[0.2222222222222222,\"#7201a8\"],[0.3333333333333333,\"#9c179e\"],[0.4444444444444444,\"#bd3786\"],[0.5555555555555556,\"#d8576b\"],[0.6666666666666666,\"#ed7953\"],[0.7777777777777778,\"#fb9f3a\"],[0.8888888888888888,\"#fdca26\"],[1.0,\"#f0f921\"]],\"type\":\"heatmapgl\"}],\"histogram\":[{\"marker\":{\"pattern\":{\"fillmode\":\"overlay\",\"size\":10,\"solidity\":0.2}},\"type\":\"histogram\"}],\"histogram2d\":[{\"colorbar\":{\"outlinewidth\":0,\"ticks\":\"\"},\"colorscale\":[[0.0,\"#0d0887\"],[0.1111111111111111,\"#46039f\"],[0.2222222222222222,\"#7201a8\"],[0.3333333333333333,\"#9c179e\"],[0.4444444444444444,\"#bd3786\"],[0.5555555555555556,\"#d8576b\"],[0.6666666666666666,\"#ed7953\"],[0.7777777777777778,\"#fb9f3a\"],[0.8888888888888888,\"#fdca26\"],[1.0,\"#f0f921\"]],\"type\":\"histogram2d\"}],\"histogram2dcontour\":[{\"colorbar\":{\"outlinewidth\":0,\"ticks\":\"\"},\"colorscale\":[[0.0,\"#0d0887\"],[0.1111111111111111,\"#46039f\"],[0.2222222222222222,\"#7201a8\"],[0.3333333333333333,\"#9c179e\"],[0.4444444444444444,\"#bd3786\"],[0.5555555555555556,\"#d8576b\"],[0.6666666666666666,\"#ed7953\"],[0.7777777777777778,\"#fb9f3a\"],[0.8888888888888888,\"#fdca26\"],[1.0,\"#f0f921\"]],\"type\":\"histogram2dcontour\"}],\"mesh3d\":[{\"colorbar\":{\"outlinewidth\":0,\"ticks\":\"\"},\"type\":\"mesh3d\"}],\"parcoords\":[{\"line\":{\"colorbar\":{\"outlinewidth\":0,\"ticks\":\"\"}},\"type\":\"parcoords\"}],\"pie\":[{\"automargin\":true,\"type\":\"pie\"}],\"scatter\":[{\"marker\":{\"colorbar\":{\"outlinewidth\":0,\"ticks\":\"\"}},\"type\":\"scatter\"}],\"scatter3d\":[{\"line\":{\"colorbar\":{\"outlinewidth\":0,\"ticks\":\"\"}},\"marker\":{\"colorbar\":{\"outlinewidth\":0,\"ticks\":\"\"}},\"type\":\"scatter3d\"}],\"scattercarpet\":[{\"marker\":{\"colorbar\":{\"outlinewidth\":0,\"ticks\":\"\"}},\"type\":\"scattercarpet\"}],\"scattergeo\":[{\"marker\":{\"colorbar\":{\"outlinewidth\":0,\"ticks\":\"\"}},\"type\":\"scattergeo\"}],\"scattergl\":[{\"marker\":{\"colorbar\":{\"outlinewidth\":0,\"ticks\":\"\"}},\"type\":\"scattergl\"}],\"scattermapbox\":[{\"marker\":{\"colorbar\":{\"outlinewidth\":0,\"ticks\":\"\"}},\"type\":\"scattermapbox\"}],\"scatterpolar\":[{\"marker\":{\"colorbar\":{\"outlinewidth\":0,\"ticks\":\"\"}},\"type\":\"scatterpolar\"}],\"scatterpolargl\":[{\"marker\":{\"colorbar\":{\"outlinewidth\":0,\"ticks\":\"\"}},\"type\":\"scatterpolargl\"}],\"scatterternary\":[{\"marker\":{\"colorbar\":{\"outlinewidth\":0,\"ticks\":\"\"}},\"type\":\"scatterternary\"}],\"surface\":[{\"colorbar\":{\"outlinewidth\":0,\"ticks\":\"\"},\"colorscale\":[[0.0,\"#0d0887\"],[0.1111111111111111,\"#46039f\"],[0.2222222222222222,\"#7201a8\"],[0.3333333333333333,\"#9c179e\"],[0.4444444444444444,\"#bd3786\"],[0.5555555555555556,\"#d8576b\"],[0.6666666666666666,\"#ed7953\"],[0.7777777777777778,\"#fb9f3a\"],[0.8888888888888888,\"#fdca26\"],[1.0,\"#f0f921\"]],\"type\":\"surface\"}],\"table\":[{\"cells\":{\"fill\":{\"color\":\"#EBF0F8\"},\"line\":{\"color\":\"white\"}},\"header\":{\"fill\":{\"color\":\"#C8D4E3\"},\"line\":{\"color\":\"white\"}},\"type\":\"table\"}]},\"layout\":{\"annotationdefaults\":{\"arrowcolor\":\"#2a3f5f\",\"arrowhead\":0,\"arrowwidth\":1},\"autotypenumbers\":\"strict\",\"coloraxis\":{\"colorbar\":{\"outlinewidth\":0,\"ticks\":\"\"}},\"colorscale\":{\"diverging\":[[0,\"#8e0152\"],[0.1,\"#c51b7d\"],[0.2,\"#de77ae\"],[0.3,\"#f1b6da\"],[0.4,\"#fde0ef\"],[0.5,\"#f7f7f7\"],[0.6,\"#e6f5d0\"],[0.7,\"#b8e186\"],[0.8,\"#7fbc41\"],[0.9,\"#4d9221\"],[1,\"#276419\"]],\"sequential\":[[0.0,\"#0d0887\"],[0.1111111111111111,\"#46039f\"],[0.2222222222222222,\"#7201a8\"],[0.3333333333333333,\"#9c179e\"],[0.4444444444444444,\"#bd3786\"],[0.5555555555555556,\"#d8576b\"],[0.6666666666666666,\"#ed7953\"],[0.7777777777777778,\"#fb9f3a\"],[0.8888888888888888,\"#fdca26\"],[1.0,\"#f0f921\"]],\"sequentialminus\":[[0.0,\"#0d0887\"],[0.1111111111111111,\"#46039f\"],[0.2222222222222222,\"#7201a8\"],[0.3333333333333333,\"#9c179e\"],[0.4444444444444444,\"#bd3786\"],[0.5555555555555556,\"#d8576b\"],[0.6666666666666666,\"#ed7953\"],[0.7777777777777778,\"#fb9f3a\"],[0.8888888888888888,\"#fdca26\"],[1.0,\"#f0f921\"]]},\"colorway\":[\"#636efa\",\"#EF553B\",\"#00cc96\",\"#ab63fa\",\"#FFA15A\",\"#19d3f3\",\"#FF6692\",\"#B6E880\",\"#FF97FF\",\"#FECB52\"],\"font\":{\"color\":\"#2a3f5f\"},\"geo\":{\"bgcolor\":\"white\",\"lakecolor\":\"white\",\"landcolor\":\"#E5ECF6\",\"showlakes\":true,\"showland\":true,\"subunitcolor\":\"white\"},\"hoverlabel\":{\"align\":\"left\"},\"hovermode\":\"closest\",\"mapbox\":{\"style\":\"light\"},\"paper_bgcolor\":\"white\",\"plot_bgcolor\":\"#E5ECF6\",\"polar\":{\"angularaxis\":{\"gridcolor\":\"white\",\"linecolor\":\"white\",\"ticks\":\"\"},\"bgcolor\":\"#E5ECF6\",\"radialaxis\":{\"gridcolor\":\"white\",\"linecolor\":\"white\",\"ticks\":\"\"}},\"scene\":{\"xaxis\":{\"backgroundcolor\":\"#E5ECF6\",\"gridcolor\":\"white\",\"gridwidth\":2,\"linecolor\":\"white\",\"showbackground\":true,\"ticks\":\"\",\"zerolinecolor\":\"white\"},\"yaxis\":{\"backgroundcolor\":\"#E5ECF6\",\"gridcolor\":\"white\",\"gridwidth\":2,\"linecolor\":\"white\",\"showbackground\":true,\"ticks\":\"\",\"zerolinecolor\":\"white\"},\"zaxis\":{\"backgroundcolor\":\"#E5ECF6\",\"gridcolor\":\"white\",\"gridwidth\":2,\"linecolor\":\"white\",\"showbackground\":true,\"ticks\":\"\",\"zerolinecolor\":\"white\"}},\"shapedefaults\":{\"line\":{\"color\":\"#2a3f5f\"}},\"ternary\":{\"aaxis\":{\"gridcolor\":\"white\",\"linecolor\":\"white\",\"ticks\":\"\"},\"baxis\":{\"gridcolor\":\"white\",\"linecolor\":\"white\",\"ticks\":\"\"},\"bgcolor\":\"#E5ECF6\",\"caxis\":{\"gridcolor\":\"white\",\"linecolor\":\"white\",\"ticks\":\"\"}},\"title\":{\"x\":0.05},\"xaxis\":{\"automargin\":true,\"gridcolor\":\"white\",\"linecolor\":\"white\",\"ticks\":\"\",\"title\":{\"standoff\":15},\"zerolinecolor\":\"white\",\"zerolinewidth\":2},\"yaxis\":{\"automargin\":true,\"gridcolor\":\"white\",\"linecolor\":\"white\",\"ticks\":\"\",\"title\":{\"standoff\":15},\"zerolinecolor\":\"white\",\"zerolinewidth\":2}}},\"title\":{\"text\":\"Drift detection measured by p-values. Value under the red line (0.05) indicates drift\"},\"xaxis\":{\"anchor\":\"y\",\"domain\":[0.0,1.0],\"title\":{\"text\":\"feature\"}},\"yaxis\":{\"anchor\":\"x\",\"domain\":[0.0,1.0],\"range\":[0,1],\"title\":{\"text\":\"p-value\"}}},                        {\"responsive\": true}                    ).then(function(){\n",
       "                            \n",
       "var gd = document.getElementById('d1f5c66b-521b-4f7a-9e1b-5ec6b5a4ecf0');\n",
       "var x = new MutationObserver(function (mutations, observer) {{\n",
       "        var display = window.getComputedStyle(gd).display;\n",
       "        if (!display || display === 'none') {{\n",
       "            console.log([gd, 'removed!']);\n",
       "            Plotly.purge(gd);\n",
       "            observer.disconnect();\n",
       "        }}\n",
       "}});\n",
       "\n",
       "// Listen for the removal of the full notebook cells\n",
       "var notebookContainer = gd.closest('#notebook-container');\n",
       "if (notebookContainer) {{\n",
       "    x.observe(notebookContainer, {childList: true});\n",
       "}}\n",
       "\n",
       "// Listen for the clearing of the current output cell\n",
       "var outputEl = gd.closest('.output');\n",
       "if (outputEl) {{\n",
       "    x.observe(outputEl, {childList: true});\n",
       "}}\n",
       "\n",
       "                        })                };                });            </script>        </div>"
      ]
     },
     "metadata": {},
     "output_type": "display_data"
    }
   ],
   "source": [
    "#Let's visualize the drift predictions:\n",
    "p_values = [predictions[\"data\"][\"p_val\"][0], predictions_unbiased[\"data\"][\"p_val\"][0]]\n",
    "features = [\"produkt (drift)\", \"produkt (unbiased)\"]\n",
    "\n",
    "from plotly import express as px\n",
    "fig = px.bar({\"p-value\": p_values, \"feature\": features}, x=\"feature\", y=\"p-value\", range_y=[0,1], title=\"Drift detection measured by p-values. Value under the red line (0.05) indicates drift\")\n",
    "fig.add_hline(y=0.05, line_color=\"red\")\n",
    "fig.show()"
   ]
  },
  {
   "cell_type": "markdown",
   "id": "822edf9f-99f3-4d6b-a490-c64446f78820",
   "metadata": {},
   "source": [
    "## 3. Simulating Concept Drift"
   ]
  },
  {
   "cell_type": "code",
   "execution_count": 26,
   "id": "2ed75c3e-a2b8-440b-aec4-51697d96f0f0",
   "metadata": {},
   "outputs": [
    {
     "data": {
      "application/vnd.plotly.v1+json": {
       "config": {
        "plotlyServerURL": "https://plot.ly"
       },
       "data": [
        {
         "alignmentgroup": "True",
         "hovertemplate": "Kategoria=%{x}<br>Count=%{y}<extra></extra>",
         "legendgroup": "",
         "marker": {
          "color": "#636efa",
          "pattern": {
           "shape": ""
          }
         },
         "name": "",
         "offsetgroup": "",
         "orientation": "v",
         "showlegend": false,
         "textposition": "auto",
         "type": "bar",
         "x": [
          "Sery i twarogi",
          "Pozostałe wyroby piekarskie",
          "Warzywa suszone i pozostałe przetwory warzywne",
          "Soki owocowe i warzywne",
          "Wyroby cukiernicze",
          "Inne artykuły żywnościowe, gdzie indziej niesklasyfikowane",
          "Sosy, przyprawy",
          "Wędliny",
          "Sól, przyprawy korzenne i zioła kulinarne",
          "Herbata",
          "Pozostałe przetwory z ryb i owoców morza",
          "Kawa",
          "Owoce suszone i orzechy",
          "Jogurt",
          "Napoje orzeźwiające",
          "Makarony i produkty makaronowe",
          "Czekolada",
          "Pozostałe produkty mleczne",
          "Lody",
          "Żywność dla dzieci",
          "Warzywa świeże lub chłodzone inne niż ziemniaki lub pozostałe warzywa bulwiaste",
          "Wody mineralne lub źródlane",
          "Płatki śniadaniowe",
          "Dżemy, marmolady i miód",
          "Gotowe dania",
          "Mąka i pozostałe zboża",
          "Pozostałe przetwory mięsne",
          "Pieczywo",
          "Chipsy",
          "Ryż",
          "Owoce świeże lub chłodzone",
          "Margaryna i inne tłuszcze roślinne",
          "Pizza i inne półprodukty mączne",
          "Warzywa mrożone inne niż ziemniaki lub pozostałe warzywa bulwiaste",
          "Oliwa z oliwek",
          "Mleko zagęszczone i w proszku",
          "Pozostałe oleje jadalne",
          "Mięso drobiowe",
          "Pozostałe produkty zbożowe",
          "Cukier",
          "Przetwory owocowe",
          "Ziemniaki",
          "Ryby i owoce morza suszone, wędzone lub solone",
          "Masło",
          "Mięso wołowe i cielęce",
          "Mięso wieprzowe",
          "Ryby świeże lub chłodzone",
          "Jaja",
          "Mleko świeże niskotłuszczowe",
          "Mleko świeże pełne",
          "Owoce morza mrożone",
          "Sztuczne substytuty cukru",
          "Owoce mrożone",
          "Podroby i przetwory podrobowe",
          "Kakao i czekolada w proszku",
          "Ryby mrożone",
          "Pozostałe warzywa bulwiaste i przetwory z warzyw bulwiastych",
          "Owoce morza świeże lub chłodzone",
          "Pozostałe tłuszcze zwierzęce",
          "Pozostałe mięsa",
          "Mięso baranie i kozie"
         ],
         "xaxis": "x",
         "y": [
          1042,
          1020,
          876,
          869,
          803,
          789,
          780,
          701,
          694,
          629,
          513,
          491,
          477,
          450,
          420,
          391,
          388,
          358,
          305,
          304,
          266,
          263,
          254,
          249,
          245,
          242,
          237,
          231,
          160,
          143,
          132,
          115,
          112,
          108,
          103,
          101,
          100,
          93,
          86,
          84,
          82,
          82,
          78,
          66,
          61,
          56,
          55,
          55,
          54,
          50,
          48,
          46,
          41,
          41,
          39,
          37,
          30,
          26,
          23,
          21,
          15
         ],
         "yaxis": "y"
        }
       ],
       "layout": {
        "autosize": true,
        "barmode": "group",
        "legend": {
         "tracegroupgap": 0
        },
        "template": {
         "data": {
          "bar": [
           {
            "error_x": {
             "color": "#2a3f5f"
            },
            "error_y": {
             "color": "#2a3f5f"
            },
            "marker": {
             "line": {
              "color": "#E5ECF6",
              "width": 0.5
             },
             "pattern": {
              "fillmode": "overlay",
              "size": 10,
              "solidity": 0.2
             }
            },
            "type": "bar"
           }
          ],
          "barpolar": [
           {
            "marker": {
             "line": {
              "color": "#E5ECF6",
              "width": 0.5
             },
             "pattern": {
              "fillmode": "overlay",
              "size": 10,
              "solidity": 0.2
             }
            },
            "type": "barpolar"
           }
          ],
          "carpet": [
           {
            "aaxis": {
             "endlinecolor": "#2a3f5f",
             "gridcolor": "white",
             "linecolor": "white",
             "minorgridcolor": "white",
             "startlinecolor": "#2a3f5f"
            },
            "baxis": {
             "endlinecolor": "#2a3f5f",
             "gridcolor": "white",
             "linecolor": "white",
             "minorgridcolor": "white",
             "startlinecolor": "#2a3f5f"
            },
            "type": "carpet"
           }
          ],
          "choropleth": [
           {
            "colorbar": {
             "outlinewidth": 0,
             "ticks": ""
            },
            "type": "choropleth"
           }
          ],
          "contour": [
           {
            "colorbar": {
             "outlinewidth": 0,
             "ticks": ""
            },
            "colorscale": [
             [
              0,
              "#0d0887"
             ],
             [
              0.1111111111111111,
              "#46039f"
             ],
             [
              0.2222222222222222,
              "#7201a8"
             ],
             [
              0.3333333333333333,
              "#9c179e"
             ],
             [
              0.4444444444444444,
              "#bd3786"
             ],
             [
              0.5555555555555556,
              "#d8576b"
             ],
             [
              0.6666666666666666,
              "#ed7953"
             ],
             [
              0.7777777777777778,
              "#fb9f3a"
             ],
             [
              0.8888888888888888,
              "#fdca26"
             ],
             [
              1,
              "#f0f921"
             ]
            ],
            "type": "contour"
           }
          ],
          "contourcarpet": [
           {
            "colorbar": {
             "outlinewidth": 0,
             "ticks": ""
            },
            "type": "contourcarpet"
           }
          ],
          "heatmap": [
           {
            "colorbar": {
             "outlinewidth": 0,
             "ticks": ""
            },
            "colorscale": [
             [
              0,
              "#0d0887"
             ],
             [
              0.1111111111111111,
              "#46039f"
             ],
             [
              0.2222222222222222,
              "#7201a8"
             ],
             [
              0.3333333333333333,
              "#9c179e"
             ],
             [
              0.4444444444444444,
              "#bd3786"
             ],
             [
              0.5555555555555556,
              "#d8576b"
             ],
             [
              0.6666666666666666,
              "#ed7953"
             ],
             [
              0.7777777777777778,
              "#fb9f3a"
             ],
             [
              0.8888888888888888,
              "#fdca26"
             ],
             [
              1,
              "#f0f921"
             ]
            ],
            "type": "heatmap"
           }
          ],
          "heatmapgl": [
           {
            "colorbar": {
             "outlinewidth": 0,
             "ticks": ""
            },
            "colorscale": [
             [
              0,
              "#0d0887"
             ],
             [
              0.1111111111111111,
              "#46039f"
             ],
             [
              0.2222222222222222,
              "#7201a8"
             ],
             [
              0.3333333333333333,
              "#9c179e"
             ],
             [
              0.4444444444444444,
              "#bd3786"
             ],
             [
              0.5555555555555556,
              "#d8576b"
             ],
             [
              0.6666666666666666,
              "#ed7953"
             ],
             [
              0.7777777777777778,
              "#fb9f3a"
             ],
             [
              0.8888888888888888,
              "#fdca26"
             ],
             [
              1,
              "#f0f921"
             ]
            ],
            "type": "heatmapgl"
           }
          ],
          "histogram": [
           {
            "marker": {
             "pattern": {
              "fillmode": "overlay",
              "size": 10,
              "solidity": 0.2
             }
            },
            "type": "histogram"
           }
          ],
          "histogram2d": [
           {
            "colorbar": {
             "outlinewidth": 0,
             "ticks": ""
            },
            "colorscale": [
             [
              0,
              "#0d0887"
             ],
             [
              0.1111111111111111,
              "#46039f"
             ],
             [
              0.2222222222222222,
              "#7201a8"
             ],
             [
              0.3333333333333333,
              "#9c179e"
             ],
             [
              0.4444444444444444,
              "#bd3786"
             ],
             [
              0.5555555555555556,
              "#d8576b"
             ],
             [
              0.6666666666666666,
              "#ed7953"
             ],
             [
              0.7777777777777778,
              "#fb9f3a"
             ],
             [
              0.8888888888888888,
              "#fdca26"
             ],
             [
              1,
              "#f0f921"
             ]
            ],
            "type": "histogram2d"
           }
          ],
          "histogram2dcontour": [
           {
            "colorbar": {
             "outlinewidth": 0,
             "ticks": ""
            },
            "colorscale": [
             [
              0,
              "#0d0887"
             ],
             [
              0.1111111111111111,
              "#46039f"
             ],
             [
              0.2222222222222222,
              "#7201a8"
             ],
             [
              0.3333333333333333,
              "#9c179e"
             ],
             [
              0.4444444444444444,
              "#bd3786"
             ],
             [
              0.5555555555555556,
              "#d8576b"
             ],
             [
              0.6666666666666666,
              "#ed7953"
             ],
             [
              0.7777777777777778,
              "#fb9f3a"
             ],
             [
              0.8888888888888888,
              "#fdca26"
             ],
             [
              1,
              "#f0f921"
             ]
            ],
            "type": "histogram2dcontour"
           }
          ],
          "mesh3d": [
           {
            "colorbar": {
             "outlinewidth": 0,
             "ticks": ""
            },
            "type": "mesh3d"
           }
          ],
          "parcoords": [
           {
            "line": {
             "colorbar": {
              "outlinewidth": 0,
              "ticks": ""
             }
            },
            "type": "parcoords"
           }
          ],
          "pie": [
           {
            "automargin": true,
            "type": "pie"
           }
          ],
          "scatter": [
           {
            "marker": {
             "colorbar": {
              "outlinewidth": 0,
              "ticks": ""
             }
            },
            "type": "scatter"
           }
          ],
          "scatter3d": [
           {
            "line": {
             "colorbar": {
              "outlinewidth": 0,
              "ticks": ""
             }
            },
            "marker": {
             "colorbar": {
              "outlinewidth": 0,
              "ticks": ""
             }
            },
            "type": "scatter3d"
           }
          ],
          "scattercarpet": [
           {
            "marker": {
             "colorbar": {
              "outlinewidth": 0,
              "ticks": ""
             }
            },
            "type": "scattercarpet"
           }
          ],
          "scattergeo": [
           {
            "marker": {
             "colorbar": {
              "outlinewidth": 0,
              "ticks": ""
             }
            },
            "type": "scattergeo"
           }
          ],
          "scattergl": [
           {
            "marker": {
             "colorbar": {
              "outlinewidth": 0,
              "ticks": ""
             }
            },
            "type": "scattergl"
           }
          ],
          "scattermapbox": [
           {
            "marker": {
             "colorbar": {
              "outlinewidth": 0,
              "ticks": ""
             }
            },
            "type": "scattermapbox"
           }
          ],
          "scatterpolar": [
           {
            "marker": {
             "colorbar": {
              "outlinewidth": 0,
              "ticks": ""
             }
            },
            "type": "scatterpolar"
           }
          ],
          "scatterpolargl": [
           {
            "marker": {
             "colorbar": {
              "outlinewidth": 0,
              "ticks": ""
             }
            },
            "type": "scatterpolargl"
           }
          ],
          "scatterternary": [
           {
            "marker": {
             "colorbar": {
              "outlinewidth": 0,
              "ticks": ""
             }
            },
            "type": "scatterternary"
           }
          ],
          "surface": [
           {
            "colorbar": {
             "outlinewidth": 0,
             "ticks": ""
            },
            "colorscale": [
             [
              0,
              "#0d0887"
             ],
             [
              0.1111111111111111,
              "#46039f"
             ],
             [
              0.2222222222222222,
              "#7201a8"
             ],
             [
              0.3333333333333333,
              "#9c179e"
             ],
             [
              0.4444444444444444,
              "#bd3786"
             ],
             [
              0.5555555555555556,
              "#d8576b"
             ],
             [
              0.6666666666666666,
              "#ed7953"
             ],
             [
              0.7777777777777778,
              "#fb9f3a"
             ],
             [
              0.8888888888888888,
              "#fdca26"
             ],
             [
              1,
              "#f0f921"
             ]
            ],
            "type": "surface"
           }
          ],
          "table": [
           {
            "cells": {
             "fill": {
              "color": "#EBF0F8"
             },
             "line": {
              "color": "white"
             }
            },
            "header": {
             "fill": {
              "color": "#C8D4E3"
             },
             "line": {
              "color": "white"
             }
            },
            "type": "table"
           }
          ]
         },
         "layout": {
          "annotationdefaults": {
           "arrowcolor": "#2a3f5f",
           "arrowhead": 0,
           "arrowwidth": 1
          },
          "autotypenumbers": "strict",
          "coloraxis": {
           "colorbar": {
            "outlinewidth": 0,
            "ticks": ""
           }
          },
          "colorscale": {
           "diverging": [
            [
             0,
             "#8e0152"
            ],
            [
             0.1,
             "#c51b7d"
            ],
            [
             0.2,
             "#de77ae"
            ],
            [
             0.3,
             "#f1b6da"
            ],
            [
             0.4,
             "#fde0ef"
            ],
            [
             0.5,
             "#f7f7f7"
            ],
            [
             0.6,
             "#e6f5d0"
            ],
            [
             0.7,
             "#b8e186"
            ],
            [
             0.8,
             "#7fbc41"
            ],
            [
             0.9,
             "#4d9221"
            ],
            [
             1,
             "#276419"
            ]
           ],
           "sequential": [
            [
             0,
             "#0d0887"
            ],
            [
             0.1111111111111111,
             "#46039f"
            ],
            [
             0.2222222222222222,
             "#7201a8"
            ],
            [
             0.3333333333333333,
             "#9c179e"
            ],
            [
             0.4444444444444444,
             "#bd3786"
            ],
            [
             0.5555555555555556,
             "#d8576b"
            ],
            [
             0.6666666666666666,
             "#ed7953"
            ],
            [
             0.7777777777777778,
             "#fb9f3a"
            ],
            [
             0.8888888888888888,
             "#fdca26"
            ],
            [
             1,
             "#f0f921"
            ]
           ],
           "sequentialminus": [
            [
             0,
             "#0d0887"
            ],
            [
             0.1111111111111111,
             "#46039f"
            ],
            [
             0.2222222222222222,
             "#7201a8"
            ],
            [
             0.3333333333333333,
             "#9c179e"
            ],
            [
             0.4444444444444444,
             "#bd3786"
            ],
            [
             0.5555555555555556,
             "#d8576b"
            ],
            [
             0.6666666666666666,
             "#ed7953"
            ],
            [
             0.7777777777777778,
             "#fb9f3a"
            ],
            [
             0.8888888888888888,
             "#fdca26"
            ],
            [
             1,
             "#f0f921"
            ]
           ]
          },
          "colorway": [
           "#636efa",
           "#EF553B",
           "#00cc96",
           "#ab63fa",
           "#FFA15A",
           "#19d3f3",
           "#FF6692",
           "#B6E880",
           "#FF97FF",
           "#FECB52"
          ],
          "font": {
           "color": "#2a3f5f"
          },
          "geo": {
           "bgcolor": "white",
           "lakecolor": "white",
           "landcolor": "#E5ECF6",
           "showlakes": true,
           "showland": true,
           "subunitcolor": "white"
          },
          "hoverlabel": {
           "align": "left"
          },
          "hovermode": "closest",
          "mapbox": {
           "style": "light"
          },
          "paper_bgcolor": "white",
          "plot_bgcolor": "#E5ECF6",
          "polar": {
           "angularaxis": {
            "gridcolor": "white",
            "linecolor": "white",
            "ticks": ""
           },
           "bgcolor": "#E5ECF6",
           "radialaxis": {
            "gridcolor": "white",
            "linecolor": "white",
            "ticks": ""
           }
          },
          "scene": {
           "xaxis": {
            "backgroundcolor": "#E5ECF6",
            "gridcolor": "white",
            "gridwidth": 2,
            "linecolor": "white",
            "showbackground": true,
            "ticks": "",
            "zerolinecolor": "white"
           },
           "yaxis": {
            "backgroundcolor": "#E5ECF6",
            "gridcolor": "white",
            "gridwidth": 2,
            "linecolor": "white",
            "showbackground": true,
            "ticks": "",
            "zerolinecolor": "white"
           },
           "zaxis": {
            "backgroundcolor": "#E5ECF6",
            "gridcolor": "white",
            "gridwidth": 2,
            "linecolor": "white",
            "showbackground": true,
            "ticks": "",
            "zerolinecolor": "white"
           }
          },
          "shapedefaults": {
           "line": {
            "color": "#2a3f5f"
           }
          },
          "ternary": {
           "aaxis": {
            "gridcolor": "white",
            "linecolor": "white",
            "ticks": ""
           },
           "baxis": {
            "gridcolor": "white",
            "linecolor": "white",
            "ticks": ""
           },
           "bgcolor": "#E5ECF6",
           "caxis": {
            "gridcolor": "white",
            "linecolor": "white",
            "ticks": ""
           }
          },
          "title": {
           "x": 0.05
          },
          "xaxis": {
           "automargin": true,
           "gridcolor": "white",
           "linecolor": "white",
           "ticks": "",
           "title": {
            "standoff": 15
           },
           "zerolinecolor": "white",
           "zerolinewidth": 2
          },
          "yaxis": {
           "automargin": true,
           "gridcolor": "white",
           "linecolor": "white",
           "ticks": "",
           "title": {
            "standoff": 15
           },
           "zerolinecolor": "white",
           "zerolinewidth": 2
          }
         }
        },
        "title": {
         "text": "Original distribution of categories"
        },
        "xaxis": {
         "anchor": "y",
         "autorange": true,
         "domain": [
          0,
          1
         ],
         "range": [
          -0.5,
          60.5
         ],
         "ticktext": [
          "Sery i twarogi",
          "Pozostałe wyroby...",
          "Warzywa suszone ...",
          "Soki owocowe i w...",
          "Wyroby cukiernic...",
          "Inne artykuły ży...",
          "Sosy, przyprawy",
          "Wędliny",
          "Sól, przyprawy k...",
          "Herbata",
          "Pozostałe przetw...",
          "Kawa",
          "Owoce suszone i ...",
          "Jogurt",
          "Napoje orzeźwiaj...",
          "Makarony i produ...",
          "Czekolada",
          "Pozostałe produk...",
          "Lody",
          "Żywność dla dzie...",
          "Warzywa świeże l...",
          "Wody mineralne l...",
          "Płatki śniadanio...",
          "Dżemy, marmolady...",
          "Gotowe dania",
          "Mąka i pozostałe...",
          "Pozostałe przetw...",
          "Pieczywo",
          "Chipsy",
          "Ryż",
          "Owoce świeże lub...",
          "Margaryna i inne...",
          "Pizza i inne pół...",
          "Warzywa mrożone ...",
          "Oliwa z oliwek",
          "Mleko zagęszczon...",
          "Pozostałe oleje ...",
          "Mięso drobiowe",
          "Pozostałe produk...",
          "Cukier",
          "Przetwory owocow...",
          "Ziemniaki",
          "Ryby i owoce mor...",
          "Masło",
          "Mięso wołowe i c...",
          "Mięso wieprzowe",
          "Ryby świeże lub ...",
          "Jaja",
          "Mleko świeże nis...",
          "Mleko świeże peł...",
          "Owoce morza mroż...",
          "Sztuczne substyt...",
          "Owoce mrożone",
          "Podroby i przetw...",
          "Kakao i czekolad...",
          "Ryby mrożone",
          "Pozostałe warzyw...",
          "Owoce morza świe...",
          "Pozostałe tłuszc...",
          "Pozostałe mięsa",
          "Mięso baranie i ..."
         ],
         "tickvals": [
          "Sery i twarogi",
          "Pozostałe wyroby piekarskie",
          "Warzywa suszone i pozostałe przetwory warzywne",
          "Soki owocowe i warzywne",
          "Wyroby cukiernicze",
          "Inne artykuły żywnościowe, gdzie indziej niesklasyfikowane",
          "Sosy, przyprawy",
          "Wędliny",
          "Sól, przyprawy korzenne i zioła kulinarne",
          "Herbata",
          "Pozostałe przetwory z ryb i owoców morza",
          "Kawa",
          "Owoce suszone i orzechy",
          "Jogurt",
          "Napoje orzeźwiające",
          "Makarony i produkty makaronowe",
          "Czekolada",
          "Pozostałe produkty mleczne",
          "Lody",
          "Żywność dla dzieci",
          "Warzywa świeże lub chłodzone inne niż ziemniaki lub pozostałe warzywa bulwiaste",
          "Wody mineralne lub źródlane",
          "Płatki śniadaniowe",
          "Dżemy, marmolady i miód",
          "Gotowe dania",
          "Mąka i pozostałe zboża",
          "Pozostałe przetwory mięsne",
          "Pieczywo",
          "Chipsy",
          "Ryż",
          "Owoce świeże lub chłodzone",
          "Margaryna i inne tłuszcze roślinne",
          "Pizza i inne półprodukty mączne",
          "Warzywa mrożone inne niż ziemniaki lub pozostałe warzywa bulwiaste",
          "Oliwa z oliwek",
          "Mleko zagęszczone i w proszku",
          "Pozostałe oleje jadalne",
          "Mięso drobiowe",
          "Pozostałe produkty zbożowe",
          "Cukier",
          "Przetwory owocowe",
          "Ziemniaki",
          "Ryby i owoce morza suszone, wędzone lub solone",
          "Masło",
          "Mięso wołowe i cielęce",
          "Mięso wieprzowe",
          "Ryby świeże lub chłodzone",
          "Jaja",
          "Mleko świeże niskotłuszczowe",
          "Mleko świeże pełne",
          "Owoce morza mrożone",
          "Sztuczne substytuty cukru",
          "Owoce mrożone",
          "Podroby i przetwory podrobowe",
          "Kakao i czekolada w proszku",
          "Ryby mrożone",
          "Pozostałe warzywa bulwiaste i przetwory z warzyw bulwiastych",
          "Owoce morza świeże lub chłodzone",
          "Pozostałe tłuszcze zwierzęce",
          "Pozostałe mięsa",
          "Mięso baranie i kozie"
         ],
         "title": {
          "text": "Kategoria"
         },
         "type": "category"
        },
        "yaxis": {
         "anchor": "x",
         "autorange": true,
         "domain": [
          0,
          1
         ],
         "range": [
          0,
          1096.842105263158
         ],
         "title": {
          "text": "Count"
         },
         "type": "linear"
        }
       }
      },
      "image/png": "[encoded data removed]",
      "text/html": [
       "<div>                            <div id=\"5c815129-6bb0-45da-969c-bb4be20c3588\" class=\"plotly-graph-div\" style=\"height:800px; width:100%;\"></div>            <script type=\"text/javascript\">                require([\"plotly\"], function(Plotly) {                    window.PLOTLYENV=window.PLOTLYENV || {};                                    if (document.getElementById(\"5c815129-6bb0-45da-969c-bb4be20c3588\")) {                    Plotly.newPlot(                        \"5c815129-6bb0-45da-969c-bb4be20c3588\",                        [{\"alignmentgroup\":\"True\",\"hovertemplate\":\"Kategoria=%{x}<br>Count=%{y}<extra></extra>\",\"legendgroup\":\"\",\"marker\":{\"color\":\"#636efa\",\"pattern\":{\"shape\":\"\"}},\"name\":\"\",\"offsetgroup\":\"\",\"orientation\":\"v\",\"showlegend\":false,\"textposition\":\"auto\",\"type\":\"bar\",\"x\":[\"Sery i twarogi\",\"Pozosta\\u0142e wyroby piekarskie\",\"Warzywa suszone i pozosta\\u0142e przetwory warzywne\",\"Soki owocowe i warzywne\",\"Wyroby cukiernicze\",\"Inne artyku\\u0142y \\u017cywno\\u015bciowe, gdzie indziej niesklasyfikowane\",\"Sosy, przyprawy\",\"W\\u0119dliny\",\"S\\u00f3l, przyprawy korzenne i zio\\u0142a kulinarne\",\"Herbata\",\"Pozosta\\u0142e przetwory z ryb i owoc\\u00f3w morza\",\"Kawa\",\"Owoce suszone i orzechy\",\"Jogurt\",\"Napoje orze\\u017awiaj\\u0105ce\",\"Makarony i produkty makaronowe\",\"Czekolada\",\"Pozosta\\u0142e produkty mleczne\",\"Lody\",\"\\u017bywno\\u015b\\u0107 dla dzieci\",\"Warzywa \\u015bwie\\u017ce lub ch\\u0142odzone inne ni\\u017c ziemniaki lub pozosta\\u0142e warzywa bulwiaste\",\"Wody mineralne lub \\u017ar\\u00f3dlane\",\"P\\u0142atki \\u015bniadaniowe\",\"D\\u017cemy, marmolady i mi\\u00f3d\",\"Gotowe dania\",\"M\\u0105ka i pozosta\\u0142e zbo\\u017ca\",\"Pozosta\\u0142e przetwory mi\\u0119sne\",\"Pieczywo\",\"Chipsy\",\"Ry\\u017c\",\"Owoce \\u015bwie\\u017ce lub ch\\u0142odzone\",\"Margaryna i inne t\\u0142uszcze ro\\u015blinne\",\"Pizza i inne p\\u00f3\\u0142produkty m\\u0105czne\",\"Warzywa mro\\u017cone inne ni\\u017c ziemniaki lub pozosta\\u0142e warzywa bulwiaste\",\"Oliwa z oliwek\",\"Mleko zag\\u0119szczone i w proszku\",\"Pozosta\\u0142e oleje jadalne\",\"Mi\\u0119so drobiowe\",\"Pozosta\\u0142e produkty zbo\\u017cowe\",\"Cukier\",\"Przetwory owocowe\",\"Ziemniaki\",\"Ryby i owoce morza suszone, w\\u0119dzone lub solone\",\"Mas\\u0142o\",\"Mi\\u0119so wo\\u0142owe i ciel\\u0119ce\",\"Mi\\u0119so wieprzowe\",\"Ryby \\u015bwie\\u017ce lub ch\\u0142odzone\",\"Jaja\",\"Mleko \\u015bwie\\u017ce niskot\\u0142uszczowe\",\"Mleko \\u015bwie\\u017ce pe\\u0142ne\",\"Owoce morza mro\\u017cone\",\"Sztuczne substytuty cukru\",\"Owoce mro\\u017cone\",\"Podroby i przetwory podrobowe\",\"Kakao i czekolada w proszku\",\"Ryby mro\\u017cone\",\"Pozosta\\u0142e warzywa bulwiaste i przetwory z warzyw bulwiastych\",\"Owoce morza \\u015bwie\\u017ce lub ch\\u0142odzone\",\"Pozosta\\u0142e t\\u0142uszcze zwierz\\u0119ce\",\"Pozosta\\u0142e mi\\u0119sa\",\"Mi\\u0119so baranie i kozie\"],\"xaxis\":\"x\",\"y\":[1042,1020,876,869,803,789,780,701,694,629,513,491,477,450,420,391,388,358,305,304,266,263,254,249,245,242,237,231,160,143,132,115,112,108,103,101,100,93,86,84,82,82,78,66,61,56,55,55,54,50,48,46,41,41,39,37,30,26,23,21,15],\"yaxis\":\"y\"}],                        {\"barmode\":\"group\",\"height\":800,\"legend\":{\"tracegroupgap\":0},\"template\":{\"data\":{\"bar\":[{\"error_x\":{\"color\":\"#2a3f5f\"},\"error_y\":{\"color\":\"#2a3f5f\"},\"marker\":{\"line\":{\"color\":\"#E5ECF6\",\"width\":0.5},\"pattern\":{\"fillmode\":\"overlay\",\"size\":10,\"solidity\":0.2}},\"type\":\"bar\"}],\"barpolar\":[{\"marker\":{\"line\":{\"color\":\"#E5ECF6\",\"width\":0.5},\"pattern\":{\"fillmode\":\"overlay\",\"size\":10,\"solidity\":0.2}},\"type\":\"barpolar\"}],\"carpet\":[{\"aaxis\":{\"endlinecolor\":\"#2a3f5f\",\"gridcolor\":\"white\",\"linecolor\":\"white\",\"minorgridcolor\":\"white\",\"startlinecolor\":\"#2a3f5f\"},\"baxis\":{\"endlinecolor\":\"#2a3f5f\",\"gridcolor\":\"white\",\"linecolor\":\"white\",\"minorgridcolor\":\"white\",\"startlinecolor\":\"#2a3f5f\"},\"type\":\"carpet\"}],\"choropleth\":[{\"colorbar\":{\"outlinewidth\":0,\"ticks\":\"\"},\"type\":\"choropleth\"}],\"contour\":[{\"colorbar\":{\"outlinewidth\":0,\"ticks\":\"\"},\"colorscale\":[[0.0,\"#0d0887\"],[0.1111111111111111,\"#46039f\"],[0.2222222222222222,\"#7201a8\"],[0.3333333333333333,\"#9c179e\"],[0.4444444444444444,\"#bd3786\"],[0.5555555555555556,\"#d8576b\"],[0.6666666666666666,\"#ed7953\"],[0.7777777777777778,\"#fb9f3a\"],[0.8888888888888888,\"#fdca26\"],[1.0,\"#f0f921\"]],\"type\":\"contour\"}],\"contourcarpet\":[{\"colorbar\":{\"outlinewidth\":0,\"ticks\":\"\"},\"type\":\"contourcarpet\"}],\"heatmap\":[{\"colorbar\":{\"outlinewidth\":0,\"ticks\":\"\"},\"colorscale\":[[0.0,\"#0d0887\"],[0.1111111111111111,\"#46039f\"],[0.2222222222222222,\"#7201a8\"],[0.3333333333333333,\"#9c179e\"],[0.4444444444444444,\"#bd3786\"],[0.5555555555555556,\"#d8576b\"],[0.6666666666666666,\"#ed7953\"],[0.7777777777777778,\"#fb9f3a\"],[0.8888888888888888,\"#fdca26\"],[1.0,\"#f0f921\"]],\"type\":\"heatmap\"}],\"heatmapgl\":[{\"colorbar\":{\"outlinewidth\":0,\"ticks\":\"\"},\"colorscale\":[[0.0,\"#0d0887\"],[0.1111111111111111,\"#46039f\"],[0.2222222222222222,\"#7201a8\"],[0.3333333333333333,\"#9c179e\"],[0.4444444444444444,\"#bd3786\"],[0.5555555555555556,\"#d8576b\"],[0.6666666666666666,\"#ed7953\"],[0.7777777777777778,\"#fb9f3a\"],[0.8888888888888888,\"#fdca26\"],[1.0,\"#f0f921\"]],\"type\":\"heatmapgl\"}],\"histogram\":[{\"marker\":{\"pattern\":{\"fillmode\":\"overlay\",\"size\":10,\"solidity\":0.2}},\"type\":\"histogram\"}],\"histogram2d\":[{\"colorbar\":{\"outlinewidth\":0,\"ticks\":\"\"},\"colorscale\":[[0.0,\"#0d0887\"],[0.1111111111111111,\"#46039f\"],[0.2222222222222222,\"#7201a8\"],[0.3333333333333333,\"#9c179e\"],[0.4444444444444444,\"#bd3786\"],[0.5555555555555556,\"#d8576b\"],[0.6666666666666666,\"#ed7953\"],[0.7777777777777778,\"#fb9f3a\"],[0.8888888888888888,\"#fdca26\"],[1.0,\"#f0f921\"]],\"type\":\"histogram2d\"}],\"histogram2dcontour\":[{\"colorbar\":{\"outlinewidth\":0,\"ticks\":\"\"},\"colorscale\":[[0.0,\"#0d0887\"],[0.1111111111111111,\"#46039f\"],[0.2222222222222222,\"#7201a8\"],[0.3333333333333333,\"#9c179e\"],[0.4444444444444444,\"#bd3786\"],[0.5555555555555556,\"#d8576b\"],[0.6666666666666666,\"#ed7953\"],[0.7777777777777778,\"#fb9f3a\"],[0.8888888888888888,\"#fdca26\"],[1.0,\"#f0f921\"]],\"type\":\"histogram2dcontour\"}],\"mesh3d\":[{\"colorbar\":{\"outlinewidth\":0,\"ticks\":\"\"},\"type\":\"mesh3d\"}],\"parcoords\":[{\"line\":{\"colorbar\":{\"outlinewidth\":0,\"ticks\":\"\"}},\"type\":\"parcoords\"}],\"pie\":[{\"automargin\":true,\"type\":\"pie\"}],\"scatter\":[{\"marker\":{\"colorbar\":{\"outlinewidth\":0,\"ticks\":\"\"}},\"type\":\"scatter\"}],\"scatter3d\":[{\"line\":{\"colorbar\":{\"outlinewidth\":0,\"ticks\":\"\"}},\"marker\":{\"colorbar\":{\"outlinewidth\":0,\"ticks\":\"\"}},\"type\":\"scatter3d\"}],\"scattercarpet\":[{\"marker\":{\"colorbar\":{\"outlinewidth\":0,\"ticks\":\"\"}},\"type\":\"scattercarpet\"}],\"scattergeo\":[{\"marker\":{\"colorbar\":{\"outlinewidth\":0,\"ticks\":\"\"}},\"type\":\"scattergeo\"}],\"scattergl\":[{\"marker\":{\"colorbar\":{\"outlinewidth\":0,\"ticks\":\"\"}},\"type\":\"scattergl\"}],\"scattermapbox\":[{\"marker\":{\"colorbar\":{\"outlinewidth\":0,\"ticks\":\"\"}},\"type\":\"scattermapbox\"}],\"scatterpolar\":[{\"marker\":{\"colorbar\":{\"outlinewidth\":0,\"ticks\":\"\"}},\"type\":\"scatterpolar\"}],\"scatterpolargl\":[{\"marker\":{\"colorbar\":{\"outlinewidth\":0,\"ticks\":\"\"}},\"type\":\"scatterpolargl\"}],\"scatterternary\":[{\"marker\":{\"colorbar\":{\"outlinewidth\":0,\"ticks\":\"\"}},\"type\":\"scatterternary\"}],\"surface\":[{\"colorbar\":{\"outlinewidth\":0,\"ticks\":\"\"},\"colorscale\":[[0.0,\"#0d0887\"],[0.1111111111111111,\"#46039f\"],[0.2222222222222222,\"#7201a8\"],[0.3333333333333333,\"#9c179e\"],[0.4444444444444444,\"#bd3786\"],[0.5555555555555556,\"#d8576b\"],[0.6666666666666666,\"#ed7953\"],[0.7777777777777778,\"#fb9f3a\"],[0.8888888888888888,\"#fdca26\"],[1.0,\"#f0f921\"]],\"type\":\"surface\"}],\"table\":[{\"cells\":{\"fill\":{\"color\":\"#EBF0F8\"},\"line\":{\"color\":\"white\"}},\"header\":{\"fill\":{\"color\":\"#C8D4E3\"},\"line\":{\"color\":\"white\"}},\"type\":\"table\"}]},\"layout\":{\"annotationdefaults\":{\"arrowcolor\":\"#2a3f5f\",\"arrowhead\":0,\"arrowwidth\":1},\"autotypenumbers\":\"strict\",\"coloraxis\":{\"colorbar\":{\"outlinewidth\":0,\"ticks\":\"\"}},\"colorscale\":{\"diverging\":[[0,\"#8e0152\"],[0.1,\"#c51b7d\"],[0.2,\"#de77ae\"],[0.3,\"#f1b6da\"],[0.4,\"#fde0ef\"],[0.5,\"#f7f7f7\"],[0.6,\"#e6f5d0\"],[0.7,\"#b8e186\"],[0.8,\"#7fbc41\"],[0.9,\"#4d9221\"],[1,\"#276419\"]],\"sequential\":[[0.0,\"#0d0887\"],[0.1111111111111111,\"#46039f\"],[0.2222222222222222,\"#7201a8\"],[0.3333333333333333,\"#9c179e\"],[0.4444444444444444,\"#bd3786\"],[0.5555555555555556,\"#d8576b\"],[0.6666666666666666,\"#ed7953\"],[0.7777777777777778,\"#fb9f3a\"],[0.8888888888888888,\"#fdca26\"],[1.0,\"#f0f921\"]],\"sequentialminus\":[[0.0,\"#0d0887\"],[0.1111111111111111,\"#46039f\"],[0.2222222222222222,\"#7201a8\"],[0.3333333333333333,\"#9c179e\"],[0.4444444444444444,\"#bd3786\"],[0.5555555555555556,\"#d8576b\"],[0.6666666666666666,\"#ed7953\"],[0.7777777777777778,\"#fb9f3a\"],[0.8888888888888888,\"#fdca26\"],[1.0,\"#f0f921\"]]},\"colorway\":[\"#636efa\",\"#EF553B\",\"#00cc96\",\"#ab63fa\",\"#FFA15A\",\"#19d3f3\",\"#FF6692\",\"#B6E880\",\"#FF97FF\",\"#FECB52\"],\"font\":{\"color\":\"#2a3f5f\"},\"geo\":{\"bgcolor\":\"white\",\"lakecolor\":\"white\",\"landcolor\":\"#E5ECF6\",\"showlakes\":true,\"showland\":true,\"subunitcolor\":\"white\"},\"hoverlabel\":{\"align\":\"left\"},\"hovermode\":\"closest\",\"mapbox\":{\"style\":\"light\"},\"paper_bgcolor\":\"white\",\"plot_bgcolor\":\"#E5ECF6\",\"polar\":{\"angularaxis\":{\"gridcolor\":\"white\",\"linecolor\":\"white\",\"ticks\":\"\"},\"bgcolor\":\"#E5ECF6\",\"radialaxis\":{\"gridcolor\":\"white\",\"linecolor\":\"white\",\"ticks\":\"\"}},\"scene\":{\"xaxis\":{\"backgroundcolor\":\"#E5ECF6\",\"gridcolor\":\"white\",\"gridwidth\":2,\"linecolor\":\"white\",\"showbackground\":true,\"ticks\":\"\",\"zerolinecolor\":\"white\"},\"yaxis\":{\"backgroundcolor\":\"#E5ECF6\",\"gridcolor\":\"white\",\"gridwidth\":2,\"linecolor\":\"white\",\"showbackground\":true,\"ticks\":\"\",\"zerolinecolor\":\"white\"},\"zaxis\":{\"backgroundcolor\":\"#E5ECF6\",\"gridcolor\":\"white\",\"gridwidth\":2,\"linecolor\":\"white\",\"showbackground\":true,\"ticks\":\"\",\"zerolinecolor\":\"white\"}},\"shapedefaults\":{\"line\":{\"color\":\"#2a3f5f\"}},\"ternary\":{\"aaxis\":{\"gridcolor\":\"white\",\"linecolor\":\"white\",\"ticks\":\"\"},\"baxis\":{\"gridcolor\":\"white\",\"linecolor\":\"white\",\"ticks\":\"\"},\"bgcolor\":\"#E5ECF6\",\"caxis\":{\"gridcolor\":\"white\",\"linecolor\":\"white\",\"ticks\":\"\"}},\"title\":{\"x\":0.05},\"xaxis\":{\"automargin\":true,\"gridcolor\":\"white\",\"linecolor\":\"white\",\"ticks\":\"\",\"title\":{\"standoff\":15},\"zerolinecolor\":\"white\",\"zerolinewidth\":2},\"yaxis\":{\"automargin\":true,\"gridcolor\":\"white\",\"linecolor\":\"white\",\"ticks\":\"\",\"title\":{\"standoff\":15},\"zerolinecolor\":\"white\",\"zerolinewidth\":2}}},\"title\":{\"text\":\"Original distribution of categories\"},\"xaxis\":{\"anchor\":\"y\",\"domain\":[0.0,1.0],\"ticktext\":[\"Sery i twarogi\",\"Pozosta\\u0142e wyroby...\",\"Warzywa suszone ...\",\"Soki owocowe i w...\",\"Wyroby cukiernic...\",\"Inne artyku\\u0142y \\u017cy...\",\"Sosy, przyprawy\",\"W\\u0119dliny\",\"S\\u00f3l, przyprawy k...\",\"Herbata\",\"Pozosta\\u0142e przetw...\",\"Kawa\",\"Owoce suszone i ...\",\"Jogurt\",\"Napoje orze\\u017awiaj...\",\"Makarony i produ...\",\"Czekolada\",\"Pozosta\\u0142e produk...\",\"Lody\",\"\\u017bywno\\u015b\\u0107 dla dzie...\",\"Warzywa \\u015bwie\\u017ce l...\",\"Wody mineralne l...\",\"P\\u0142atki \\u015bniadanio...\",\"D\\u017cemy, marmolady...\",\"Gotowe dania\",\"M\\u0105ka i pozosta\\u0142e...\",\"Pozosta\\u0142e przetw...\",\"Pieczywo\",\"Chipsy\",\"Ry\\u017c\",\"Owoce \\u015bwie\\u017ce lub...\",\"Margaryna i inne...\",\"Pizza i inne p\\u00f3\\u0142...\",\"Warzywa mro\\u017cone ...\",\"Oliwa z oliwek\",\"Mleko zag\\u0119szczon...\",\"Pozosta\\u0142e oleje ...\",\"Mi\\u0119so drobiowe\",\"Pozosta\\u0142e produk...\",\"Cukier\",\"Przetwory owocow...\",\"Ziemniaki\",\"Ryby i owoce mor...\",\"Mas\\u0142o\",\"Mi\\u0119so wo\\u0142owe i c...\",\"Mi\\u0119so wieprzowe\",\"Ryby \\u015bwie\\u017ce lub ...\",\"Jaja\",\"Mleko \\u015bwie\\u017ce nis...\",\"Mleko \\u015bwie\\u017ce pe\\u0142...\",\"Owoce morza mro\\u017c...\",\"Sztuczne substyt...\",\"Owoce mro\\u017cone\",\"Podroby i przetw...\",\"Kakao i czekolad...\",\"Ryby mro\\u017cone\",\"Pozosta\\u0142e warzyw...\",\"Owoce morza \\u015bwie...\",\"Pozosta\\u0142e t\\u0142uszc...\",\"Pozosta\\u0142e mi\\u0119sa\",\"Mi\\u0119so baranie i ...\"],\"tickvals\":[\"Sery i twarogi\",\"Pozosta\\u0142e wyroby piekarskie\",\"Warzywa suszone i pozosta\\u0142e przetwory warzywne\",\"Soki owocowe i warzywne\",\"Wyroby cukiernicze\",\"Inne artyku\\u0142y \\u017cywno\\u015bciowe, gdzie indziej niesklasyfikowane\",\"Sosy, przyprawy\",\"W\\u0119dliny\",\"S\\u00f3l, przyprawy korzenne i zio\\u0142a kulinarne\",\"Herbata\",\"Pozosta\\u0142e przetwory z ryb i owoc\\u00f3w morza\",\"Kawa\",\"Owoce suszone i orzechy\",\"Jogurt\",\"Napoje orze\\u017awiaj\\u0105ce\",\"Makarony i produkty makaronowe\",\"Czekolada\",\"Pozosta\\u0142e produkty mleczne\",\"Lody\",\"\\u017bywno\\u015b\\u0107 dla dzieci\",\"Warzywa \\u015bwie\\u017ce lub ch\\u0142odzone inne ni\\u017c ziemniaki lub pozosta\\u0142e warzywa bulwiaste\",\"Wody mineralne lub \\u017ar\\u00f3dlane\",\"P\\u0142atki \\u015bniadaniowe\",\"D\\u017cemy, marmolady i mi\\u00f3d\",\"Gotowe dania\",\"M\\u0105ka i pozosta\\u0142e zbo\\u017ca\",\"Pozosta\\u0142e przetwory mi\\u0119sne\",\"Pieczywo\",\"Chipsy\",\"Ry\\u017c\",\"Owoce \\u015bwie\\u017ce lub ch\\u0142odzone\",\"Margaryna i inne t\\u0142uszcze ro\\u015blinne\",\"Pizza i inne p\\u00f3\\u0142produkty m\\u0105czne\",\"Warzywa mro\\u017cone inne ni\\u017c ziemniaki lub pozosta\\u0142e warzywa bulwiaste\",\"Oliwa z oliwek\",\"Mleko zag\\u0119szczone i w proszku\",\"Pozosta\\u0142e oleje jadalne\",\"Mi\\u0119so drobiowe\",\"Pozosta\\u0142e produkty zbo\\u017cowe\",\"Cukier\",\"Przetwory owocowe\",\"Ziemniaki\",\"Ryby i owoce morza suszone, w\\u0119dzone lub solone\",\"Mas\\u0142o\",\"Mi\\u0119so wo\\u0142owe i ciel\\u0119ce\",\"Mi\\u0119so wieprzowe\",\"Ryby \\u015bwie\\u017ce lub ch\\u0142odzone\",\"Jaja\",\"Mleko \\u015bwie\\u017ce niskot\\u0142uszczowe\",\"Mleko \\u015bwie\\u017ce pe\\u0142ne\",\"Owoce morza mro\\u017cone\",\"Sztuczne substytuty cukru\",\"Owoce mro\\u017cone\",\"Podroby i przetwory podrobowe\",\"Kakao i czekolada w proszku\",\"Ryby mro\\u017cone\",\"Pozosta\\u0142e warzywa bulwiaste i przetwory z warzyw bulwiastych\",\"Owoce morza \\u015bwie\\u017ce lub ch\\u0142odzone\",\"Pozosta\\u0142e t\\u0142uszcze zwierz\\u0119ce\",\"Pozosta\\u0142e mi\\u0119sa\",\"Mi\\u0119so baranie i kozie\"],\"title\":{\"text\":\"Kategoria\"}},\"yaxis\":{\"anchor\":\"x\",\"domain\":[0.0,1.0],\"title\":{\"text\":\"Count\"}}},                        {\"responsive\": true}                    ).then(function(){\n",
       "                            \n",
       "var gd = document.getElementById('5c815129-6bb0-45da-969c-bb4be20c3588');\n",
       "var x = new MutationObserver(function (mutations, observer) {{\n",
       "        var display = window.getComputedStyle(gd).display;\n",
       "        if (!display || display === 'none') {{\n",
       "            console.log([gd, 'removed!']);\n",
       "            Plotly.purge(gd);\n",
       "            observer.disconnect();\n",
       "        }}\n",
       "}});\n",
       "\n",
       "// Listen for the removal of the full notebook cells\n",
       "var notebookContainer = gd.closest('#notebook-container');\n",
       "if (notebookContainer) {{\n",
       "    x.observe(notebookContainer, {childList: true});\n",
       "}}\n",
       "\n",
       "// Listen for the clearing of the current output cell\n",
       "var outputEl = gd.closest('.output');\n",
       "if (outputEl) {{\n",
       "    x.observe(outputEl, {childList: true});\n",
       "}}\n",
       "\n",
       "                        })                };                });            </script>        </div>"
      ]
     },
     "metadata": {},
     "output_type": "display_data"
    }
   ],
   "source": [
    "#Let's simulate a change in target variable \"kategoria\"\n",
    "#First we visualize the original distribution of categories\n",
    "\n",
    "fig = px.bar({\"Count\": df[\"kategoria\"].value_counts().values, \"Kategoria\": df[\"kategoria\"].value_counts().index}, x=\"Kategoria\", y=\"Count\", title=\"Original distribution of categories\", barmode=\"group\", height=800)\n",
    "\n",
    "fig.update_xaxes(\n",
    "  tickvals=df[\"kategoria\"].value_counts().index,\n",
    "  ticktext=[s if len(s)<16 else s[0:16]+\"...\" for s in df[\"kategoria\"].value_counts().index]\n",
    ")\n",
    "\n",
    "fig.show()"
   ]
  },
  {
   "cell_type": "code",
   "execution_count": 30,
   "id": "4b29dafd-27bf-4991-aa3b-61a6eefd37cb",
   "metadata": {},
   "outputs": [
    {
     "name": "stdout",
     "output_type": "stream",
     "text": [
      "Examples of labeling changes:\n",
      "Margaryna i inne tłuszcze roślinne ---> Pozostałe produkty zbożowe\n",
      "Wyroby cukiernicze ---> Jaja\n",
      "Soki owocowe i warzywne ---> Mleko świeże niskotłuszczowe\n",
      "Sztuczne substytuty cukru ---> Jogurt\n",
      "Dżemy, marmolady i miód ---> Pizza i inne półprodukty mączne\n",
      "\n",
      "New Category system in the data set:\n"
     ]
    },
    {
     "data": {
      "text/html": [
       "<div>\n",
       "<style scoped>\n",
       "    .dataframe tbody tr th:only-of-type {\n",
       "        vertical-align: middle;\n",
       "    }\n",
       "\n",
       "    .dataframe tbody tr th {\n",
       "        vertical-align: top;\n",
       "    }\n",
       "\n",
       "    .dataframe thead th {\n",
       "        text-align: right;\n",
       "    }\n",
       "</style>\n",
       "<table border=\"1\" class=\"dataframe\">\n",
       "  <thead>\n",
       "    <tr style=\"text-align: right;\">\n",
       "      <th></th>\n",
       "      <th>produkt</th>\n",
       "      <th>kategoria</th>\n",
       "      <th>new kategoria</th>\n",
       "    </tr>\n",
       "  </thead>\n",
       "  <tbody>\n",
       "    <tr>\n",
       "      <th>0</th>\n",
       "      <td>\"słynne roślinne\"</td>\n",
       "      <td>Margaryna i inne tłuszcze roślinne</td>\n",
       "      <td>Pozostałe produkty zbożowe</td>\n",
       "    </tr>\n",
       "    <tr>\n",
       "      <th>1</th>\n",
       "      <td>#Hejki - Emotki lizaki ręcznie robione o smaka...</td>\n",
       "      <td>Wyroby cukiernicze</td>\n",
       "      <td>Jaja</td>\n",
       "    </tr>\n",
       "    <tr>\n",
       "      <th>2</th>\n",
       "      <td>100% Pur jus d'orange - sok pomarańczowy z mią...</td>\n",
       "      <td>Soki owocowe i warzywne</td>\n",
       "      <td>Mleko świeże niskotłuszczowe</td>\n",
       "    </tr>\n",
       "    <tr>\n",
       "      <th>3</th>\n",
       "      <td>100% sukraloza bez cukru (substancje słodzące)</td>\n",
       "      <td>Sztuczne substytuty cukru</td>\n",
       "      <td>Jogurt</td>\n",
       "    </tr>\n",
       "    <tr>\n",
       "      <th>4</th>\n",
       "      <td>100% z brzoskwiń produkt owocowy słodzony zag....</td>\n",
       "      <td>Dżemy, marmolady i miód</td>\n",
       "      <td>Pizza i inne półprodukty mączne</td>\n",
       "    </tr>\n",
       "  </tbody>\n",
       "</table>\n",
       "</div>"
      ],
      "text/plain": [
       "                                             produkt  \\\n",
       "0                                  \"słynne roślinne\"   \n",
       "1  #Hejki - Emotki lizaki ręcznie robione o smaka...   \n",
       "2  100% Pur jus d'orange - sok pomarańczowy z mią...   \n",
       "3     100% sukraloza bez cukru (substancje słodzące)   \n",
       "4  100% z brzoskwiń produkt owocowy słodzony zag....   \n",
       "\n",
       "                            kategoria                    new kategoria  \n",
       "0  Margaryna i inne tłuszcze roślinne       Pozostałe produkty zbożowe  \n",
       "1                  Wyroby cukiernicze                             Jaja  \n",
       "2             Soki owocowe i warzywne     Mleko świeże niskotłuszczowe  \n",
       "3           Sztuczne substytuty cukru                           Jogurt  \n",
       "4             Dżemy, marmolady i miód  Pizza i inne półprodukty mączne  "
      ]
     },
     "execution_count": 30,
     "metadata": {},
     "output_type": "execute_result"
    }
   ],
   "source": [
    "#For simulation purposes let's assume the labeling system changes. So products that used to be in category x are now in y. Let's build data with this alternative system:\n",
    "import random\n",
    "categories = df[\"kategoria\"].unique()\n",
    "int_list = [i for i in range(0, len(categories))]\n",
    "random.shuffle(int_list)\n",
    "\n",
    "mapper = {categories[idx]:categories[val] for idx, val in enumerate(int_list)}\n",
    "df[\"new kategoria\"] = df[\"kategoria\"].map(mapper)\n",
    "\n",
    "print(\"Examples of labeling changes:\")\n",
    "i = 0\n",
    "for key, val in mapper.items():\n",
    "  print(f\"{key} ---> {val}\")\n",
    "  i = i + 1\n",
    "  if i == 5:\n",
    "    break\n",
    "\n",
    "print(\"\")\n",
    "print(\"New Category system in the data set:\")\n",
    "df.head()"
   ]
  },
  {
   "cell_type": "code",
   "execution_count": 34,
   "id": "a41d5edc-7f57-4e09-b690-58d69f920654",
   "metadata": {},
   "outputs": [
    {
     "data": {
      "application/vnd.plotly.v1+json": {
       "config": {
        "plotlyServerURL": "https://plot.ly"
       },
       "data": [
        {
         "alignmentgroup": "True",
         "hovertemplate": "New Kategoria=%{x}<br>Count=%{y}<extra></extra>",
         "legendgroup": "",
         "marker": {
          "color": "#636efa",
          "pattern": {
           "shape": ""
          }
         },
         "name": "",
         "offsetgroup": "",
         "orientation": "v",
         "showlegend": false,
         "textposition": "auto",
         "type": "bar",
         "x": [
          "Oliwa z oliwek",
          "Herbata",
          "Czekolada",
          "Mleko świeże niskotłuszczowe",
          "Jaja",
          "Kakao i czekolada w proszku",
          "Pozostałe mięsa",
          "Płatki śniadaniowe",
          "Chipsy",
          "Gotowe dania",
          "Mięso drobiowe",
          "Ryby i owoce morza suszone, wędzone lub solone",
          "Pozostałe oleje jadalne",
          "Makarony i produkty makaronowe",
          "Owoce morza mrożone",
          "Warzywa mrożone inne niż ziemniaki lub pozostałe warzywa bulwiaste",
          "Warzywa suszone i pozostałe przetwory warzywne",
          "Pozostałe przetwory z ryb i owoców morza",
          "Sztuczne substytuty cukru",
          "Żywność dla dzieci",
          "Owoce mrożone",
          "Ziemniaki",
          "Margaryna i inne tłuszcze roślinne",
          "Pizza i inne półprodukty mączne",
          "Podroby i przetwory podrobowe",
          "Mięso wołowe i cielęce",
          "Pozostałe wyroby piekarskie",
          "Wody mineralne lub źródlane",
          "Pozostałe tłuszcze zwierzęce",
          "Owoce świeże lub chłodzone",
          "Mięso baranie i kozie",
          "Pozostałe produkty zbożowe",
          "Ryby świeże lub chłodzone",
          "Inne artykuły żywnościowe, gdzie indziej niesklasyfikowane",
          "Owoce morza świeże lub chłodzone",
          "Wędliny",
          "Sery i twarogi",
          "Pozostałe przetwory mięsne",
          "Dżemy, marmolady i miód",
          "Sól, przyprawy korzenne i zioła kulinarne",
          "Kawa",
          "Lody",
          "Ryby mrożone",
          "Mąka i pozostałe zboża",
          "Sosy, przyprawy",
          "Owoce suszone i orzechy",
          "Wyroby cukiernicze",
          "Napoje orzeźwiające",
          "Cukier",
          "Pozostałe warzywa bulwiaste i przetwory z warzyw bulwiastych",
          "Przetwory owocowe",
          "Jogurt",
          "Ryż",
          "Mleko zagęszczone i w proszku",
          "Mięso wieprzowe",
          "Masło",
          "Pozostałe produkty mleczne",
          "Soki owocowe i warzywne",
          "Mleko świeże pełne",
          "Warzywa świeże lub chłodzone inne niż ziemniaki lub pozostałe warzywa bulwiaste",
          "Pieczywo"
         ],
         "xaxis": "x",
         "y": [
          1042,
          1020,
          876,
          869,
          803,
          789,
          780,
          701,
          694,
          629,
          513,
          491,
          477,
          450,
          420,
          391,
          388,
          358,
          305,
          304,
          266,
          263,
          254,
          249,
          245,
          242,
          237,
          231,
          160,
          143,
          132,
          115,
          112,
          108,
          103,
          101,
          100,
          93,
          86,
          84,
          82,
          82,
          78,
          66,
          61,
          56,
          55,
          55,
          54,
          50,
          48,
          46,
          41,
          41,
          39,
          37,
          30,
          26,
          23,
          21,
          15
         ],
         "yaxis": "y"
        }
       ],
       "layout": {
        "autosize": true,
        "barmode": "group",
        "legend": {
         "tracegroupgap": 0
        },
        "template": {
         "data": {
          "bar": [
           {
            "error_x": {
             "color": "#2a3f5f"
            },
            "error_y": {
             "color": "#2a3f5f"
            },
            "marker": {
             "line": {
              "color": "#E5ECF6",
              "width": 0.5
             },
             "pattern": {
              "fillmode": "overlay",
              "size": 10,
              "solidity": 0.2
             }
            },
            "type": "bar"
           }
          ],
          "barpolar": [
           {
            "marker": {
             "line": {
              "color": "#E5ECF6",
              "width": 0.5
             },
             "pattern": {
              "fillmode": "overlay",
              "size": 10,
              "solidity": 0.2
             }
            },
            "type": "barpolar"
           }
          ],
          "carpet": [
           {
            "aaxis": {
             "endlinecolor": "#2a3f5f",
             "gridcolor": "white",
             "linecolor": "white",
             "minorgridcolor": "white",
             "startlinecolor": "#2a3f5f"
            },
            "baxis": {
             "endlinecolor": "#2a3f5f",
             "gridcolor": "white",
             "linecolor": "white",
             "minorgridcolor": "white",
             "startlinecolor": "#2a3f5f"
            },
            "type": "carpet"
           }
          ],
          "choropleth": [
           {
            "colorbar": {
             "outlinewidth": 0,
             "ticks": ""
            },
            "type": "choropleth"
           }
          ],
          "contour": [
           {
            "colorbar": {
             "outlinewidth": 0,
             "ticks": ""
            },
            "colorscale": [
             [
              0,
              "#0d0887"
             ],
             [
              0.1111111111111111,
              "#46039f"
             ],
             [
              0.2222222222222222,
              "#7201a8"
             ],
             [
              0.3333333333333333,
              "#9c179e"
             ],
             [
              0.4444444444444444,
              "#bd3786"
             ],
             [
              0.5555555555555556,
              "#d8576b"
             ],
             [
              0.6666666666666666,
              "#ed7953"
             ],
             [
              0.7777777777777778,
              "#fb9f3a"
             ],
             [
              0.8888888888888888,
              "#fdca26"
             ],
             [
              1,
              "#f0f921"
             ]
            ],
            "type": "contour"
           }
          ],
          "contourcarpet": [
           {
            "colorbar": {
             "outlinewidth": 0,
             "ticks": ""
            },
            "type": "contourcarpet"
           }
          ],
          "heatmap": [
           {
            "colorbar": {
             "outlinewidth": 0,
             "ticks": ""
            },
            "colorscale": [
             [
              0,
              "#0d0887"
             ],
             [
              0.1111111111111111,
              "#46039f"
             ],
             [
              0.2222222222222222,
              "#7201a8"
             ],
             [
              0.3333333333333333,
              "#9c179e"
             ],
             [
              0.4444444444444444,
              "#bd3786"
             ],
             [
              0.5555555555555556,
              "#d8576b"
             ],
             [
              0.6666666666666666,
              "#ed7953"
             ],
             [
              0.7777777777777778,
              "#fb9f3a"
             ],
             [
              0.8888888888888888,
              "#fdca26"
             ],
             [
              1,
              "#f0f921"
             ]
            ],
            "type": "heatmap"
           }
          ],
          "heatmapgl": [
           {
            "colorbar": {
             "outlinewidth": 0,
             "ticks": ""
            },
            "colorscale": [
             [
              0,
              "#0d0887"
             ],
             [
              0.1111111111111111,
              "#46039f"
             ],
             [
              0.2222222222222222,
              "#7201a8"
             ],
             [
              0.3333333333333333,
              "#9c179e"
             ],
             [
              0.4444444444444444,
              "#bd3786"
             ],
             [
              0.5555555555555556,
              "#d8576b"
             ],
             [
              0.6666666666666666,
              "#ed7953"
             ],
             [
              0.7777777777777778,
              "#fb9f3a"
             ],
             [
              0.8888888888888888,
              "#fdca26"
             ],
             [
              1,
              "#f0f921"
             ]
            ],
            "type": "heatmapgl"
           }
          ],
          "histogram": [
           {
            "marker": {
             "pattern": {
              "fillmode": "overlay",
              "size": 10,
              "solidity": 0.2
             }
            },
            "type": "histogram"
           }
          ],
          "histogram2d": [
           {
            "colorbar": {
             "outlinewidth": 0,
             "ticks": ""
            },
            "colorscale": [
             [
              0,
              "#0d0887"
             ],
             [
              0.1111111111111111,
              "#46039f"
             ],
             [
              0.2222222222222222,
              "#7201a8"
             ],
             [
              0.3333333333333333,
              "#9c179e"
             ],
             [
              0.4444444444444444,
              "#bd3786"
             ],
             [
              0.5555555555555556,
              "#d8576b"
             ],
             [
              0.6666666666666666,
              "#ed7953"
             ],
             [
              0.7777777777777778,
              "#fb9f3a"
             ],
             [
              0.8888888888888888,
              "#fdca26"
             ],
             [
              1,
              "#f0f921"
             ]
            ],
            "type": "histogram2d"
           }
          ],
          "histogram2dcontour": [
           {
            "colorbar": {
             "outlinewidth": 0,
             "ticks": ""
            },
            "colorscale": [
             [
              0,
              "#0d0887"
             ],
             [
              0.1111111111111111,
              "#46039f"
             ],
             [
              0.2222222222222222,
              "#7201a8"
             ],
             [
              0.3333333333333333,
              "#9c179e"
             ],
             [
              0.4444444444444444,
              "#bd3786"
             ],
             [
              0.5555555555555556,
              "#d8576b"
             ],
             [
              0.6666666666666666,
              "#ed7953"
             ],
             [
              0.7777777777777778,
              "#fb9f3a"
             ],
             [
              0.8888888888888888,
              "#fdca26"
             ],
             [
              1,
              "#f0f921"
             ]
            ],
            "type": "histogram2dcontour"
           }
          ],
          "mesh3d": [
           {
            "colorbar": {
             "outlinewidth": 0,
             "ticks": ""
            },
            "type": "mesh3d"
           }
          ],
          "parcoords": [
           {
            "line": {
             "colorbar": {
              "outlinewidth": 0,
              "ticks": ""
             }
            },
            "type": "parcoords"
           }
          ],
          "pie": [
           {
            "automargin": true,
            "type": "pie"
           }
          ],
          "scatter": [
           {
            "marker": {
             "colorbar": {
              "outlinewidth": 0,
              "ticks": ""
             }
            },
            "type": "scatter"
           }
          ],
          "scatter3d": [
           {
            "line": {
             "colorbar": {
              "outlinewidth": 0,
              "ticks": ""
             }
            },
            "marker": {
             "colorbar": {
              "outlinewidth": 0,
              "ticks": ""
             }
            },
            "type": "scatter3d"
           }
          ],
          "scattercarpet": [
           {
            "marker": {
             "colorbar": {
              "outlinewidth": 0,
              "ticks": ""
             }
            },
            "type": "scattercarpet"
           }
          ],
          "scattergeo": [
           {
            "marker": {
             "colorbar": {
              "outlinewidth": 0,
              "ticks": ""
             }
            },
            "type": "scattergeo"
           }
          ],
          "scattergl": [
           {
            "marker": {
             "colorbar": {
              "outlinewidth": 0,
              "ticks": ""
             }
            },
            "type": "scattergl"
           }
          ],
          "scattermapbox": [
           {
            "marker": {
             "colorbar": {
              "outlinewidth": 0,
              "ticks": ""
             }
            },
            "type": "scattermapbox"
           }
          ],
          "scatterpolar": [
           {
            "marker": {
             "colorbar": {
              "outlinewidth": 0,
              "ticks": ""
             }
            },
            "type": "scatterpolar"
           }
          ],
          "scatterpolargl": [
           {
            "marker": {
             "colorbar": {
              "outlinewidth": 0,
              "ticks": ""
             }
            },
            "type": "scatterpolargl"
           }
          ],
          "scatterternary": [
           {
            "marker": {
             "colorbar": {
              "outlinewidth": 0,
              "ticks": ""
             }
            },
            "type": "scatterternary"
           }
          ],
          "surface": [
           {
            "colorbar": {
             "outlinewidth": 0,
             "ticks": ""
            },
            "colorscale": [
             [
              0,
              "#0d0887"
             ],
             [
              0.1111111111111111,
              "#46039f"
             ],
             [
              0.2222222222222222,
              "#7201a8"
             ],
             [
              0.3333333333333333,
              "#9c179e"
             ],
             [
              0.4444444444444444,
              "#bd3786"
             ],
             [
              0.5555555555555556,
              "#d8576b"
             ],
             [
              0.6666666666666666,
              "#ed7953"
             ],
             [
              0.7777777777777778,
              "#fb9f3a"
             ],
             [
              0.8888888888888888,
              "#fdca26"
             ],
             [
              1,
              "#f0f921"
             ]
            ],
            "type": "surface"
           }
          ],
          "table": [
           {
            "cells": {
             "fill": {
              "color": "#EBF0F8"
             },
             "line": {
              "color": "white"
             }
            },
            "header": {
             "fill": {
              "color": "#C8D4E3"
             },
             "line": {
              "color": "white"
             }
            },
            "type": "table"
           }
          ]
         },
         "layout": {
          "annotationdefaults": {
           "arrowcolor": "#2a3f5f",
           "arrowhead": 0,
           "arrowwidth": 1
          },
          "autotypenumbers": "strict",
          "coloraxis": {
           "colorbar": {
            "outlinewidth": 0,
            "ticks": ""
           }
          },
          "colorscale": {
           "diverging": [
            [
             0,
             "#8e0152"
            ],
            [
             0.1,
             "#c51b7d"
            ],
            [
             0.2,
             "#de77ae"
            ],
            [
             0.3,
             "#f1b6da"
            ],
            [
             0.4,
             "#fde0ef"
            ],
            [
             0.5,
             "#f7f7f7"
            ],
            [
             0.6,
             "#e6f5d0"
            ],
            [
             0.7,
             "#b8e186"
            ],
            [
             0.8,
             "#7fbc41"
            ],
            [
             0.9,
             "#4d9221"
            ],
            [
             1,
             "#276419"
            ]
           ],
           "sequential": [
            [
             0,
             "#0d0887"
            ],
            [
             0.1111111111111111,
             "#46039f"
            ],
            [
             0.2222222222222222,
             "#7201a8"
            ],
            [
             0.3333333333333333,
             "#9c179e"
            ],
            [
             0.4444444444444444,
             "#bd3786"
            ],
            [
             0.5555555555555556,
             "#d8576b"
            ],
            [
             0.6666666666666666,
             "#ed7953"
            ],
            [
             0.7777777777777778,
             "#fb9f3a"
            ],
            [
             0.8888888888888888,
             "#fdca26"
            ],
            [
             1,
             "#f0f921"
            ]
           ],
           "sequentialminus": [
            [
             0,
             "#0d0887"
            ],
            [
             0.1111111111111111,
             "#46039f"
            ],
            [
             0.2222222222222222,
             "#7201a8"
            ],
            [
             0.3333333333333333,
             "#9c179e"
            ],
            [
             0.4444444444444444,
             "#bd3786"
            ],
            [
             0.5555555555555556,
             "#d8576b"
            ],
            [
             0.6666666666666666,
             "#ed7953"
            ],
            [
             0.7777777777777778,
             "#fb9f3a"
            ],
            [
             0.8888888888888888,
             "#fdca26"
            ],
            [
             1,
             "#f0f921"
            ]
           ]
          },
          "colorway": [
           "#636efa",
           "#EF553B",
           "#00cc96",
           "#ab63fa",
           "#FFA15A",
           "#19d3f3",
           "#FF6692",
           "#B6E880",
           "#FF97FF",
           "#FECB52"
          ],
          "font": {
           "color": "#2a3f5f"
          },
          "geo": {
           "bgcolor": "white",
           "lakecolor": "white",
           "landcolor": "#E5ECF6",
           "showlakes": true,
           "showland": true,
           "subunitcolor": "white"
          },
          "hoverlabel": {
           "align": "left"
          },
          "hovermode": "closest",
          "mapbox": {
           "style": "light"
          },
          "paper_bgcolor": "white",
          "plot_bgcolor": "#E5ECF6",
          "polar": {
           "angularaxis": {
            "gridcolor": "white",
            "linecolor": "white",
            "ticks": ""
           },
           "bgcolor": "#E5ECF6",
           "radialaxis": {
            "gridcolor": "white",
            "linecolor": "white",
            "ticks": ""
           }
          },
          "scene": {
           "xaxis": {
            "backgroundcolor": "#E5ECF6",
            "gridcolor": "white",
            "gridwidth": 2,
            "linecolor": "white",
            "showbackground": true,
            "ticks": "",
            "zerolinecolor": "white"
           },
           "yaxis": {
            "backgroundcolor": "#E5ECF6",
            "gridcolor": "white",
            "gridwidth": 2,
            "linecolor": "white",
            "showbackground": true,
            "ticks": "",
            "zerolinecolor": "white"
           },
           "zaxis": {
            "backgroundcolor": "#E5ECF6",
            "gridcolor": "white",
            "gridwidth": 2,
            "linecolor": "white",
            "showbackground": true,
            "ticks": "",
            "zerolinecolor": "white"
           }
          },
          "shapedefaults": {
           "line": {
            "color": "#2a3f5f"
           }
          },
          "ternary": {
           "aaxis": {
            "gridcolor": "white",
            "linecolor": "white",
            "ticks": ""
           },
           "baxis": {
            "gridcolor": "white",
            "linecolor": "white",
            "ticks": ""
           },
           "bgcolor": "#E5ECF6",
           "caxis": {
            "gridcolor": "white",
            "linecolor": "white",
            "ticks": ""
           }
          },
          "title": {
           "x": 0.05
          },
          "xaxis": {
           "automargin": true,
           "gridcolor": "white",
           "linecolor": "white",
           "ticks": "",
           "title": {
            "standoff": 15
           },
           "zerolinecolor": "white",
           "zerolinewidth": 2
          },
          "yaxis": {
           "automargin": true,
           "gridcolor": "white",
           "linecolor": "white",
           "ticks": "",
           "title": {
            "standoff": 15
           },
           "zerolinecolor": "white",
           "zerolinewidth": 2
          }
         }
        },
        "title": {
         "text": "New distribution of categories"
        },
        "xaxis": {
         "anchor": "y",
         "autorange": true,
         "domain": [
          0,
          1
         ],
         "range": [
          -0.5,
          60.5
         ],
         "ticktext": [
          "Oliwa z oliwek",
          "Herbata",
          "Czekolada",
          "Mleko świeże nis...",
          "Jaja",
          "Kakao i czekolad...",
          "Pozostałe mięsa",
          "Płatki śniadanio...",
          "Chipsy",
          "Gotowe dania",
          "Mięso drobiowe",
          "Ryby i owoce mor...",
          "Pozostałe oleje ...",
          "Makarony i produ...",
          "Owoce morza mroż...",
          "Warzywa mrożone ...",
          "Warzywa suszone ...",
          "Pozostałe przetw...",
          "Sztuczne substyt...",
          "Żywność dla dzie...",
          "Owoce mrożone",
          "Ziemniaki",
          "Margaryna i inne...",
          "Pizza i inne pół...",
          "Podroby i przetw...",
          "Mięso wołowe i c...",
          "Pozostałe wyroby...",
          "Wody mineralne l...",
          "Pozostałe tłuszc...",
          "Owoce świeże lub...",
          "Mięso baranie i ...",
          "Pozostałe produk...",
          "Ryby świeże lub ...",
          "Inne artykuły ży...",
          "Owoce morza świe...",
          "Wędliny",
          "Sery i twarogi",
          "Pozostałe przetw...",
          "Dżemy, marmolady...",
          "Sól, przyprawy k...",
          "Kawa",
          "Lody",
          "Ryby mrożone",
          "Mąka i pozostałe...",
          "Sosy, przyprawy",
          "Owoce suszone i ...",
          "Wyroby cukiernic...",
          "Napoje orzeźwiaj...",
          "Cukier",
          "Pozostałe warzyw...",
          "Przetwory owocow...",
          "Jogurt",
          "Ryż",
          "Mleko zagęszczon...",
          "Mięso wieprzowe",
          "Masło",
          "Pozostałe produk...",
          "Soki owocowe i w...",
          "Mleko świeże peł...",
          "Warzywa świeże l...",
          "Pieczywo"
         ],
         "tickvals": [
          "Oliwa z oliwek",
          "Herbata",
          "Czekolada",
          "Mleko świeże niskotłuszczowe",
          "Jaja",
          "Kakao i czekolada w proszku",
          "Pozostałe mięsa",
          "Płatki śniadaniowe",
          "Chipsy",
          "Gotowe dania",
          "Mięso drobiowe",
          "Ryby i owoce morza suszone, wędzone lub solone",
          "Pozostałe oleje jadalne",
          "Makarony i produkty makaronowe",
          "Owoce morza mrożone",
          "Warzywa mrożone inne niż ziemniaki lub pozostałe warzywa bulwiaste",
          "Warzywa suszone i pozostałe przetwory warzywne",
          "Pozostałe przetwory z ryb i owoców morza",
          "Sztuczne substytuty cukru",
          "Żywność dla dzieci",
          "Owoce mrożone",
          "Ziemniaki",
          "Margaryna i inne tłuszcze roślinne",
          "Pizza i inne półprodukty mączne",
          "Podroby i przetwory podrobowe",
          "Mięso wołowe i cielęce",
          "Pozostałe wyroby piekarskie",
          "Wody mineralne lub źródlane",
          "Pozostałe tłuszcze zwierzęce",
          "Owoce świeże lub chłodzone",
          "Mięso baranie i kozie",
          "Pozostałe produkty zbożowe",
          "Ryby świeże lub chłodzone",
          "Inne artykuły żywnościowe, gdzie indziej niesklasyfikowane",
          "Owoce morza świeże lub chłodzone",
          "Wędliny",
          "Sery i twarogi",
          "Pozostałe przetwory mięsne",
          "Dżemy, marmolady i miód",
          "Sól, przyprawy korzenne i zioła kulinarne",
          "Kawa",
          "Lody",
          "Ryby mrożone",
          "Mąka i pozostałe zboża",
          "Sosy, przyprawy",
          "Owoce suszone i orzechy",
          "Wyroby cukiernicze",
          "Napoje orzeźwiające",
          "Cukier",
          "Pozostałe warzywa bulwiaste i przetwory z warzyw bulwiastych",
          "Przetwory owocowe",
          "Jogurt",
          "Ryż",
          "Mleko zagęszczone i w proszku",
          "Mięso wieprzowe",
          "Masło",
          "Pozostałe produkty mleczne",
          "Soki owocowe i warzywne",
          "Mleko świeże pełne",
          "Warzywa świeże lub chłodzone inne niż ziemniaki lub pozostałe warzywa bulwiaste",
          "Pieczywo"
         ],
         "title": {
          "text": "New Kategoria"
         },
         "type": "category"
        },
        "yaxis": {
         "anchor": "x",
         "autorange": true,
         "domain": [
          0,
          1
         ],
         "range": [
          0,
          1096.842105263158
         ],
         "title": {
          "text": "Count"
         },
         "type": "linear"
        }
       }
      },
      "image/png": "[encoded data removed]",
      "text/html": [
       "<div>                            <div id=\"aa474136-c8ff-4deb-8b3b-1ceb05328820\" class=\"plotly-graph-div\" style=\"height:800px; width:100%;\"></div>            <script type=\"text/javascript\">                require([\"plotly\"], function(Plotly) {                    window.PLOTLYENV=window.PLOTLYENV || {};                                    if (document.getElementById(\"aa474136-c8ff-4deb-8b3b-1ceb05328820\")) {                    Plotly.newPlot(                        \"aa474136-c8ff-4deb-8b3b-1ceb05328820\",                        [{\"alignmentgroup\":\"True\",\"hovertemplate\":\"New Kategoria=%{x}<br>Count=%{y}<extra></extra>\",\"legendgroup\":\"\",\"marker\":{\"color\":\"#636efa\",\"pattern\":{\"shape\":\"\"}},\"name\":\"\",\"offsetgroup\":\"\",\"orientation\":\"v\",\"showlegend\":false,\"textposition\":\"auto\",\"type\":\"bar\",\"x\":[\"Oliwa z oliwek\",\"Herbata\",\"Czekolada\",\"Mleko \\u015bwie\\u017ce niskot\\u0142uszczowe\",\"Jaja\",\"Kakao i czekolada w proszku\",\"Pozosta\\u0142e mi\\u0119sa\",\"P\\u0142atki \\u015bniadaniowe\",\"Chipsy\",\"Gotowe dania\",\"Mi\\u0119so drobiowe\",\"Ryby i owoce morza suszone, w\\u0119dzone lub solone\",\"Pozosta\\u0142e oleje jadalne\",\"Makarony i produkty makaronowe\",\"Owoce morza mro\\u017cone\",\"Warzywa mro\\u017cone inne ni\\u017c ziemniaki lub pozosta\\u0142e warzywa bulwiaste\",\"Warzywa suszone i pozosta\\u0142e przetwory warzywne\",\"Pozosta\\u0142e przetwory z ryb i owoc\\u00f3w morza\",\"Sztuczne substytuty cukru\",\"\\u017bywno\\u015b\\u0107 dla dzieci\",\"Owoce mro\\u017cone\",\"Ziemniaki\",\"Margaryna i inne t\\u0142uszcze ro\\u015blinne\",\"Pizza i inne p\\u00f3\\u0142produkty m\\u0105czne\",\"Podroby i przetwory podrobowe\",\"Mi\\u0119so wo\\u0142owe i ciel\\u0119ce\",\"Pozosta\\u0142e wyroby piekarskie\",\"Wody mineralne lub \\u017ar\\u00f3dlane\",\"Pozosta\\u0142e t\\u0142uszcze zwierz\\u0119ce\",\"Owoce \\u015bwie\\u017ce lub ch\\u0142odzone\",\"Mi\\u0119so baranie i kozie\",\"Pozosta\\u0142e produkty zbo\\u017cowe\",\"Ryby \\u015bwie\\u017ce lub ch\\u0142odzone\",\"Inne artyku\\u0142y \\u017cywno\\u015bciowe, gdzie indziej niesklasyfikowane\",\"Owoce morza \\u015bwie\\u017ce lub ch\\u0142odzone\",\"W\\u0119dliny\",\"Sery i twarogi\",\"Pozosta\\u0142e przetwory mi\\u0119sne\",\"D\\u017cemy, marmolady i mi\\u00f3d\",\"S\\u00f3l, przyprawy korzenne i zio\\u0142a kulinarne\",\"Kawa\",\"Lody\",\"Ryby mro\\u017cone\",\"M\\u0105ka i pozosta\\u0142e zbo\\u017ca\",\"Sosy, przyprawy\",\"Owoce suszone i orzechy\",\"Wyroby cukiernicze\",\"Napoje orze\\u017awiaj\\u0105ce\",\"Cukier\",\"Pozosta\\u0142e warzywa bulwiaste i przetwory z warzyw bulwiastych\",\"Przetwory owocowe\",\"Jogurt\",\"Ry\\u017c\",\"Mleko zag\\u0119szczone i w proszku\",\"Mi\\u0119so wieprzowe\",\"Mas\\u0142o\",\"Pozosta\\u0142e produkty mleczne\",\"Soki owocowe i warzywne\",\"Mleko \\u015bwie\\u017ce pe\\u0142ne\",\"Warzywa \\u015bwie\\u017ce lub ch\\u0142odzone inne ni\\u017c ziemniaki lub pozosta\\u0142e warzywa bulwiaste\",\"Pieczywo\"],\"xaxis\":\"x\",\"y\":[1042,1020,876,869,803,789,780,701,694,629,513,491,477,450,420,391,388,358,305,304,266,263,254,249,245,242,237,231,160,143,132,115,112,108,103,101,100,93,86,84,82,82,78,66,61,56,55,55,54,50,48,46,41,41,39,37,30,26,23,21,15],\"yaxis\":\"y\"}],                        {\"barmode\":\"group\",\"height\":800,\"legend\":{\"tracegroupgap\":0},\"template\":{\"data\":{\"bar\":[{\"error_x\":{\"color\":\"#2a3f5f\"},\"error_y\":{\"color\":\"#2a3f5f\"},\"marker\":{\"line\":{\"color\":\"#E5ECF6\",\"width\":0.5},\"pattern\":{\"fillmode\":\"overlay\",\"size\":10,\"solidity\":0.2}},\"type\":\"bar\"}],\"barpolar\":[{\"marker\":{\"line\":{\"color\":\"#E5ECF6\",\"width\":0.5},\"pattern\":{\"fillmode\":\"overlay\",\"size\":10,\"solidity\":0.2}},\"type\":\"barpolar\"}],\"carpet\":[{\"aaxis\":{\"endlinecolor\":\"#2a3f5f\",\"gridcolor\":\"white\",\"linecolor\":\"white\",\"minorgridcolor\":\"white\",\"startlinecolor\":\"#2a3f5f\"},\"baxis\":{\"endlinecolor\":\"#2a3f5f\",\"gridcolor\":\"white\",\"linecolor\":\"white\",\"minorgridcolor\":\"white\",\"startlinecolor\":\"#2a3f5f\"},\"type\":\"carpet\"}],\"choropleth\":[{\"colorbar\":{\"outlinewidth\":0,\"ticks\":\"\"},\"type\":\"choropleth\"}],\"contour\":[{\"colorbar\":{\"outlinewidth\":0,\"ticks\":\"\"},\"colorscale\":[[0.0,\"#0d0887\"],[0.1111111111111111,\"#46039f\"],[0.2222222222222222,\"#7201a8\"],[0.3333333333333333,\"#9c179e\"],[0.4444444444444444,\"#bd3786\"],[0.5555555555555556,\"#d8576b\"],[0.6666666666666666,\"#ed7953\"],[0.7777777777777778,\"#fb9f3a\"],[0.8888888888888888,\"#fdca26\"],[1.0,\"#f0f921\"]],\"type\":\"contour\"}],\"contourcarpet\":[{\"colorbar\":{\"outlinewidth\":0,\"ticks\":\"\"},\"type\":\"contourcarpet\"}],\"heatmap\":[{\"colorbar\":{\"outlinewidth\":0,\"ticks\":\"\"},\"colorscale\":[[0.0,\"#0d0887\"],[0.1111111111111111,\"#46039f\"],[0.2222222222222222,\"#7201a8\"],[0.3333333333333333,\"#9c179e\"],[0.4444444444444444,\"#bd3786\"],[0.5555555555555556,\"#d8576b\"],[0.6666666666666666,\"#ed7953\"],[0.7777777777777778,\"#fb9f3a\"],[0.8888888888888888,\"#fdca26\"],[1.0,\"#f0f921\"]],\"type\":\"heatmap\"}],\"heatmapgl\":[{\"colorbar\":{\"outlinewidth\":0,\"ticks\":\"\"},\"colorscale\":[[0.0,\"#0d0887\"],[0.1111111111111111,\"#46039f\"],[0.2222222222222222,\"#7201a8\"],[0.3333333333333333,\"#9c179e\"],[0.4444444444444444,\"#bd3786\"],[0.5555555555555556,\"#d8576b\"],[0.6666666666666666,\"#ed7953\"],[0.7777777777777778,\"#fb9f3a\"],[0.8888888888888888,\"#fdca26\"],[1.0,\"#f0f921\"]],\"type\":\"heatmapgl\"}],\"histogram\":[{\"marker\":{\"pattern\":{\"fillmode\":\"overlay\",\"size\":10,\"solidity\":0.2}},\"type\":\"histogram\"}],\"histogram2d\":[{\"colorbar\":{\"outlinewidth\":0,\"ticks\":\"\"},\"colorscale\":[[0.0,\"#0d0887\"],[0.1111111111111111,\"#46039f\"],[0.2222222222222222,\"#7201a8\"],[0.3333333333333333,\"#9c179e\"],[0.4444444444444444,\"#bd3786\"],[0.5555555555555556,\"#d8576b\"],[0.6666666666666666,\"#ed7953\"],[0.7777777777777778,\"#fb9f3a\"],[0.8888888888888888,\"#fdca26\"],[1.0,\"#f0f921\"]],\"type\":\"histogram2d\"}],\"histogram2dcontour\":[{\"colorbar\":{\"outlinewidth\":0,\"ticks\":\"\"},\"colorscale\":[[0.0,\"#0d0887\"],[0.1111111111111111,\"#46039f\"],[0.2222222222222222,\"#7201a8\"],[0.3333333333333333,\"#9c179e\"],[0.4444444444444444,\"#bd3786\"],[0.5555555555555556,\"#d8576b\"],[0.6666666666666666,\"#ed7953\"],[0.7777777777777778,\"#fb9f3a\"],[0.8888888888888888,\"#fdca26\"],[1.0,\"#f0f921\"]],\"type\":\"histogram2dcontour\"}],\"mesh3d\":[{\"colorbar\":{\"outlinewidth\":0,\"ticks\":\"\"},\"type\":\"mesh3d\"}],\"parcoords\":[{\"line\":{\"colorbar\":{\"outlinewidth\":0,\"ticks\":\"\"}},\"type\":\"parcoords\"}],\"pie\":[{\"automargin\":true,\"type\":\"pie\"}],\"scatter\":[{\"marker\":{\"colorbar\":{\"outlinewidth\":0,\"ticks\":\"\"}},\"type\":\"scatter\"}],\"scatter3d\":[{\"line\":{\"colorbar\":{\"outlinewidth\":0,\"ticks\":\"\"}},\"marker\":{\"colorbar\":{\"outlinewidth\":0,\"ticks\":\"\"}},\"type\":\"scatter3d\"}],\"scattercarpet\":[{\"marker\":{\"colorbar\":{\"outlinewidth\":0,\"ticks\":\"\"}},\"type\":\"scattercarpet\"}],\"scattergeo\":[{\"marker\":{\"colorbar\":{\"outlinewidth\":0,\"ticks\":\"\"}},\"type\":\"scattergeo\"}],\"scattergl\":[{\"marker\":{\"colorbar\":{\"outlinewidth\":0,\"ticks\":\"\"}},\"type\":\"scattergl\"}],\"scattermapbox\":[{\"marker\":{\"colorbar\":{\"outlinewidth\":0,\"ticks\":\"\"}},\"type\":\"scattermapbox\"}],\"scatterpolar\":[{\"marker\":{\"colorbar\":{\"outlinewidth\":0,\"ticks\":\"\"}},\"type\":\"scatterpolar\"}],\"scatterpolargl\":[{\"marker\":{\"colorbar\":{\"outlinewidth\":0,\"ticks\":\"\"}},\"type\":\"scatterpolargl\"}],\"scatterternary\":[{\"marker\":{\"colorbar\":{\"outlinewidth\":0,\"ticks\":\"\"}},\"type\":\"scatterternary\"}],\"surface\":[{\"colorbar\":{\"outlinewidth\":0,\"ticks\":\"\"},\"colorscale\":[[0.0,\"#0d0887\"],[0.1111111111111111,\"#46039f\"],[0.2222222222222222,\"#7201a8\"],[0.3333333333333333,\"#9c179e\"],[0.4444444444444444,\"#bd3786\"],[0.5555555555555556,\"#d8576b\"],[0.6666666666666666,\"#ed7953\"],[0.7777777777777778,\"#fb9f3a\"],[0.8888888888888888,\"#fdca26\"],[1.0,\"#f0f921\"]],\"type\":\"surface\"}],\"table\":[{\"cells\":{\"fill\":{\"color\":\"#EBF0F8\"},\"line\":{\"color\":\"white\"}},\"header\":{\"fill\":{\"color\":\"#C8D4E3\"},\"line\":{\"color\":\"white\"}},\"type\":\"table\"}]},\"layout\":{\"annotationdefaults\":{\"arrowcolor\":\"#2a3f5f\",\"arrowhead\":0,\"arrowwidth\":1},\"autotypenumbers\":\"strict\",\"coloraxis\":{\"colorbar\":{\"outlinewidth\":0,\"ticks\":\"\"}},\"colorscale\":{\"diverging\":[[0,\"#8e0152\"],[0.1,\"#c51b7d\"],[0.2,\"#de77ae\"],[0.3,\"#f1b6da\"],[0.4,\"#fde0ef\"],[0.5,\"#f7f7f7\"],[0.6,\"#e6f5d0\"],[0.7,\"#b8e186\"],[0.8,\"#7fbc41\"],[0.9,\"#4d9221\"],[1,\"#276419\"]],\"sequential\":[[0.0,\"#0d0887\"],[0.1111111111111111,\"#46039f\"],[0.2222222222222222,\"#7201a8\"],[0.3333333333333333,\"#9c179e\"],[0.4444444444444444,\"#bd3786\"],[0.5555555555555556,\"#d8576b\"],[0.6666666666666666,\"#ed7953\"],[0.7777777777777778,\"#fb9f3a\"],[0.8888888888888888,\"#fdca26\"],[1.0,\"#f0f921\"]],\"sequentialminus\":[[0.0,\"#0d0887\"],[0.1111111111111111,\"#46039f\"],[0.2222222222222222,\"#7201a8\"],[0.3333333333333333,\"#9c179e\"],[0.4444444444444444,\"#bd3786\"],[0.5555555555555556,\"#d8576b\"],[0.6666666666666666,\"#ed7953\"],[0.7777777777777778,\"#fb9f3a\"],[0.8888888888888888,\"#fdca26\"],[1.0,\"#f0f921\"]]},\"colorway\":[\"#636efa\",\"#EF553B\",\"#00cc96\",\"#ab63fa\",\"#FFA15A\",\"#19d3f3\",\"#FF6692\",\"#B6E880\",\"#FF97FF\",\"#FECB52\"],\"font\":{\"color\":\"#2a3f5f\"},\"geo\":{\"bgcolor\":\"white\",\"lakecolor\":\"white\",\"landcolor\":\"#E5ECF6\",\"showlakes\":true,\"showland\":true,\"subunitcolor\":\"white\"},\"hoverlabel\":{\"align\":\"left\"},\"hovermode\":\"closest\",\"mapbox\":{\"style\":\"light\"},\"paper_bgcolor\":\"white\",\"plot_bgcolor\":\"#E5ECF6\",\"polar\":{\"angularaxis\":{\"gridcolor\":\"white\",\"linecolor\":\"white\",\"ticks\":\"\"},\"bgcolor\":\"#E5ECF6\",\"radialaxis\":{\"gridcolor\":\"white\",\"linecolor\":\"white\",\"ticks\":\"\"}},\"scene\":{\"xaxis\":{\"backgroundcolor\":\"#E5ECF6\",\"gridcolor\":\"white\",\"gridwidth\":2,\"linecolor\":\"white\",\"showbackground\":true,\"ticks\":\"\",\"zerolinecolor\":\"white\"},\"yaxis\":{\"backgroundcolor\":\"#E5ECF6\",\"gridcolor\":\"white\",\"gridwidth\":2,\"linecolor\":\"white\",\"showbackground\":true,\"ticks\":\"\",\"zerolinecolor\":\"white\"},\"zaxis\":{\"backgroundcolor\":\"#E5ECF6\",\"gridcolor\":\"white\",\"gridwidth\":2,\"linecolor\":\"white\",\"showbackground\":true,\"ticks\":\"\",\"zerolinecolor\":\"white\"}},\"shapedefaults\":{\"line\":{\"color\":\"#2a3f5f\"}},\"ternary\":{\"aaxis\":{\"gridcolor\":\"white\",\"linecolor\":\"white\",\"ticks\":\"\"},\"baxis\":{\"gridcolor\":\"white\",\"linecolor\":\"white\",\"ticks\":\"\"},\"bgcolor\":\"#E5ECF6\",\"caxis\":{\"gridcolor\":\"white\",\"linecolor\":\"white\",\"ticks\":\"\"}},\"title\":{\"x\":0.05},\"xaxis\":{\"automargin\":true,\"gridcolor\":\"white\",\"linecolor\":\"white\",\"ticks\":\"\",\"title\":{\"standoff\":15},\"zerolinecolor\":\"white\",\"zerolinewidth\":2},\"yaxis\":{\"automargin\":true,\"gridcolor\":\"white\",\"linecolor\":\"white\",\"ticks\":\"\",\"title\":{\"standoff\":15},\"zerolinecolor\":\"white\",\"zerolinewidth\":2}}},\"title\":{\"text\":\"New distribution of categories\"},\"xaxis\":{\"anchor\":\"y\",\"domain\":[0.0,1.0],\"ticktext\":[\"Oliwa z oliwek\",\"Herbata\",\"Czekolada\",\"Mleko \\u015bwie\\u017ce nis...\",\"Jaja\",\"Kakao i czekolad...\",\"Pozosta\\u0142e mi\\u0119sa\",\"P\\u0142atki \\u015bniadanio...\",\"Chipsy\",\"Gotowe dania\",\"Mi\\u0119so drobiowe\",\"Ryby i owoce mor...\",\"Pozosta\\u0142e oleje ...\",\"Makarony i produ...\",\"Owoce morza mro\\u017c...\",\"Warzywa mro\\u017cone ...\",\"Warzywa suszone ...\",\"Pozosta\\u0142e przetw...\",\"Sztuczne substyt...\",\"\\u017bywno\\u015b\\u0107 dla dzie...\",\"Owoce mro\\u017cone\",\"Ziemniaki\",\"Margaryna i inne...\",\"Pizza i inne p\\u00f3\\u0142...\",\"Podroby i przetw...\",\"Mi\\u0119so wo\\u0142owe i c...\",\"Pozosta\\u0142e wyroby...\",\"Wody mineralne l...\",\"Pozosta\\u0142e t\\u0142uszc...\",\"Owoce \\u015bwie\\u017ce lub...\",\"Mi\\u0119so baranie i ...\",\"Pozosta\\u0142e produk...\",\"Ryby \\u015bwie\\u017ce lub ...\",\"Inne artyku\\u0142y \\u017cy...\",\"Owoce morza \\u015bwie...\",\"W\\u0119dliny\",\"Sery i twarogi\",\"Pozosta\\u0142e przetw...\",\"D\\u017cemy, marmolady...\",\"S\\u00f3l, przyprawy k...\",\"Kawa\",\"Lody\",\"Ryby mro\\u017cone\",\"M\\u0105ka i pozosta\\u0142e...\",\"Sosy, przyprawy\",\"Owoce suszone i ...\",\"Wyroby cukiernic...\",\"Napoje orze\\u017awiaj...\",\"Cukier\",\"Pozosta\\u0142e warzyw...\",\"Przetwory owocow...\",\"Jogurt\",\"Ry\\u017c\",\"Mleko zag\\u0119szczon...\",\"Mi\\u0119so wieprzowe\",\"Mas\\u0142o\",\"Pozosta\\u0142e produk...\",\"Soki owocowe i w...\",\"Mleko \\u015bwie\\u017ce pe\\u0142...\",\"Warzywa \\u015bwie\\u017ce l...\",\"Pieczywo\"],\"tickvals\":[\"Oliwa z oliwek\",\"Herbata\",\"Czekolada\",\"Mleko \\u015bwie\\u017ce niskot\\u0142uszczowe\",\"Jaja\",\"Kakao i czekolada w proszku\",\"Pozosta\\u0142e mi\\u0119sa\",\"P\\u0142atki \\u015bniadaniowe\",\"Chipsy\",\"Gotowe dania\",\"Mi\\u0119so drobiowe\",\"Ryby i owoce morza suszone, w\\u0119dzone lub solone\",\"Pozosta\\u0142e oleje jadalne\",\"Makarony i produkty makaronowe\",\"Owoce morza mro\\u017cone\",\"Warzywa mro\\u017cone inne ni\\u017c ziemniaki lub pozosta\\u0142e warzywa bulwiaste\",\"Warzywa suszone i pozosta\\u0142e przetwory warzywne\",\"Pozosta\\u0142e przetwory z ryb i owoc\\u00f3w morza\",\"Sztuczne substytuty cukru\",\"\\u017bywno\\u015b\\u0107 dla dzieci\",\"Owoce mro\\u017cone\",\"Ziemniaki\",\"Margaryna i inne t\\u0142uszcze ro\\u015blinne\",\"Pizza i inne p\\u00f3\\u0142produkty m\\u0105czne\",\"Podroby i przetwory podrobowe\",\"Mi\\u0119so wo\\u0142owe i ciel\\u0119ce\",\"Pozosta\\u0142e wyroby piekarskie\",\"Wody mineralne lub \\u017ar\\u00f3dlane\",\"Pozosta\\u0142e t\\u0142uszcze zwierz\\u0119ce\",\"Owoce \\u015bwie\\u017ce lub ch\\u0142odzone\",\"Mi\\u0119so baranie i kozie\",\"Pozosta\\u0142e produkty zbo\\u017cowe\",\"Ryby \\u015bwie\\u017ce lub ch\\u0142odzone\",\"Inne artyku\\u0142y \\u017cywno\\u015bciowe, gdzie indziej niesklasyfikowane\",\"Owoce morza \\u015bwie\\u017ce lub ch\\u0142odzone\",\"W\\u0119dliny\",\"Sery i twarogi\",\"Pozosta\\u0142e przetwory mi\\u0119sne\",\"D\\u017cemy, marmolady i mi\\u00f3d\",\"S\\u00f3l, przyprawy korzenne i zio\\u0142a kulinarne\",\"Kawa\",\"Lody\",\"Ryby mro\\u017cone\",\"M\\u0105ka i pozosta\\u0142e zbo\\u017ca\",\"Sosy, przyprawy\",\"Owoce suszone i orzechy\",\"Wyroby cukiernicze\",\"Napoje orze\\u017awiaj\\u0105ce\",\"Cukier\",\"Pozosta\\u0142e warzywa bulwiaste i przetwory z warzyw bulwiastych\",\"Przetwory owocowe\",\"Jogurt\",\"Ry\\u017c\",\"Mleko zag\\u0119szczone i w proszku\",\"Mi\\u0119so wieprzowe\",\"Mas\\u0142o\",\"Pozosta\\u0142e produkty mleczne\",\"Soki owocowe i warzywne\",\"Mleko \\u015bwie\\u017ce pe\\u0142ne\",\"Warzywa \\u015bwie\\u017ce lub ch\\u0142odzone inne ni\\u017c ziemniaki lub pozosta\\u0142e warzywa bulwiaste\",\"Pieczywo\"],\"title\":{\"text\":\"New Kategoria\"}},\"yaxis\":{\"anchor\":\"x\",\"domain\":[0.0,1.0],\"title\":{\"text\":\"Count\"}}},                        {\"responsive\": true}                    ).then(function(){\n",
       "                            \n",
       "var gd = document.getElementById('aa474136-c8ff-4deb-8b3b-1ceb05328820');\n",
       "var x = new MutationObserver(function (mutations, observer) {{\n",
       "        var display = window.getComputedStyle(gd).display;\n",
       "        if (!display || display === 'none') {{\n",
       "            console.log([gd, 'removed!']);\n",
       "            Plotly.purge(gd);\n",
       "            observer.disconnect();\n",
       "        }}\n",
       "}});\n",
       "\n",
       "// Listen for the removal of the full notebook cells\n",
       "var notebookContainer = gd.closest('#notebook-container');\n",
       "if (notebookContainer) {{\n",
       "    x.observe(notebookContainer, {childList: true});\n",
       "}}\n",
       "\n",
       "// Listen for the clearing of the current output cell\n",
       "var outputEl = gd.closest('.output');\n",
       "if (outputEl) {{\n",
       "    x.observe(outputEl, {childList: true});\n",
       "}}\n",
       "\n",
       "                        })                };                });            </script>        </div>"
      ]
     },
     "metadata": {},
     "output_type": "display_data"
    }
   ],
   "source": [
    "#Lets see the new distribution:\n",
    "\n",
    "fig = px.bar({\"Count\": df[\"new kategoria\"].value_counts().values, \"New Kategoria\": df[\"new kategoria\"].value_counts().index}, x=\"New Kategoria\", y=\"Count\", title=\"New distribution of categories\", barmode=\"group\", height=800)\n",
    "\n",
    "fig.update_xaxes(\n",
    "  tickvals=df[\"new kategoria\"].value_counts().index,\n",
    "  ticktext=[s if len(s)<16 else s[0:16]+\"...\" for s in df[\"new kategoria\"].value_counts().index]\n",
    ")\n",
    "\n",
    "fig.show()"
   ]
  },
  {
   "cell_type": "code",
   "execution_count": 59,
   "id": "6cb4bed5-81f6-4194-81e5-da6fee2ec2f0",
   "metadata": {},
   "outputs": [
    {
     "data": {
      "application/vnd.plotly.v1+json": {
       "config": {
        "plotlyServerURL": "https://plot.ly"
       },
       "data": [
        {
         "name": "Original",
         "type": "bar",
         "x": [
          "Herbata",
          "Inne artykuły żywnościowe, gdzie indziej niesklasyfikowane",
          "Pozostałe wyroby piekarskie",
          "Sery i twarogi",
          "Soki owocowe i warzywne",
          "Sosy, przyprawy",
          "Sól, przyprawy korzenne i zioła kulinarne",
          "Warzywa suszone i pozostałe przetwory warzywne",
          "Wyroby cukiernicze",
          "Wędliny"
         ],
         "y": [
          629,
          789,
          1020,
          1042,
          869,
          780,
          694,
          876,
          803,
          701
         ]
        },
        {
         "name": "New",
         "type": "bar",
         "x": [
          "Herbata",
          "Inne artykuły żywnościowe, gdzie indziej niesklasyfikowane",
          "Pozostałe wyroby piekarskie",
          "Sery i twarogi",
          "Soki owocowe i warzywne",
          "Sosy, przyprawy",
          "Sól, przyprawy korzenne i zioła kulinarne",
          "Warzywa suszone i pozostałe przetwory warzywne",
          "Wyroby cukiernicze",
          "Wędliny"
         ],
         "y": [
          1020,
          108,
          237,
          100,
          26,
          61,
          84,
          388,
          55,
          101
         ]
        }
       ],
       "layout": {
        "autosize": true,
        "barmode": "group",
        "template": {
         "data": {
          "bar": [
           {
            "error_x": {
             "color": "#2a3f5f"
            },
            "error_y": {
             "color": "#2a3f5f"
            },
            "marker": {
             "line": {
              "color": "#E5ECF6",
              "width": 0.5
             },
             "pattern": {
              "fillmode": "overlay",
              "size": 10,
              "solidity": 0.2
             }
            },
            "type": "bar"
           }
          ],
          "barpolar": [
           {
            "marker": {
             "line": {
              "color": "#E5ECF6",
              "width": 0.5
             },
             "pattern": {
              "fillmode": "overlay",
              "size": 10,
              "solidity": 0.2
             }
            },
            "type": "barpolar"
           }
          ],
          "carpet": [
           {
            "aaxis": {
             "endlinecolor": "#2a3f5f",
             "gridcolor": "white",
             "linecolor": "white",
             "minorgridcolor": "white",
             "startlinecolor": "#2a3f5f"
            },
            "baxis": {
             "endlinecolor": "#2a3f5f",
             "gridcolor": "white",
             "linecolor": "white",
             "minorgridcolor": "white",
             "startlinecolor": "#2a3f5f"
            },
            "type": "carpet"
           }
          ],
          "choropleth": [
           {
            "colorbar": {
             "outlinewidth": 0,
             "ticks": ""
            },
            "type": "choropleth"
           }
          ],
          "contour": [
           {
            "colorbar": {
             "outlinewidth": 0,
             "ticks": ""
            },
            "colorscale": [
             [
              0,
              "#0d0887"
             ],
             [
              0.1111111111111111,
              "#46039f"
             ],
             [
              0.2222222222222222,
              "#7201a8"
             ],
             [
              0.3333333333333333,
              "#9c179e"
             ],
             [
              0.4444444444444444,
              "#bd3786"
             ],
             [
              0.5555555555555556,
              "#d8576b"
             ],
             [
              0.6666666666666666,
              "#ed7953"
             ],
             [
              0.7777777777777778,
              "#fb9f3a"
             ],
             [
              0.8888888888888888,
              "#fdca26"
             ],
             [
              1,
              "#f0f921"
             ]
            ],
            "type": "contour"
           }
          ],
          "contourcarpet": [
           {
            "colorbar": {
             "outlinewidth": 0,
             "ticks": ""
            },
            "type": "contourcarpet"
           }
          ],
          "heatmap": [
           {
            "colorbar": {
             "outlinewidth": 0,
             "ticks": ""
            },
            "colorscale": [
             [
              0,
              "#0d0887"
             ],
             [
              0.1111111111111111,
              "#46039f"
             ],
             [
              0.2222222222222222,
              "#7201a8"
             ],
             [
              0.3333333333333333,
              "#9c179e"
             ],
             [
              0.4444444444444444,
              "#bd3786"
             ],
             [
              0.5555555555555556,
              "#d8576b"
             ],
             [
              0.6666666666666666,
              "#ed7953"
             ],
             [
              0.7777777777777778,
              "#fb9f3a"
             ],
             [
              0.8888888888888888,
              "#fdca26"
             ],
             [
              1,
              "#f0f921"
             ]
            ],
            "type": "heatmap"
           }
          ],
          "heatmapgl": [
           {
            "colorbar": {
             "outlinewidth": 0,
             "ticks": ""
            },
            "colorscale": [
             [
              0,
              "#0d0887"
             ],
             [
              0.1111111111111111,
              "#46039f"
             ],
             [
              0.2222222222222222,
              "#7201a8"
             ],
             [
              0.3333333333333333,
              "#9c179e"
             ],
             [
              0.4444444444444444,
              "#bd3786"
             ],
             [
              0.5555555555555556,
              "#d8576b"
             ],
             [
              0.6666666666666666,
              "#ed7953"
             ],
             [
              0.7777777777777778,
              "#fb9f3a"
             ],
             [
              0.8888888888888888,
              "#fdca26"
             ],
             [
              1,
              "#f0f921"
             ]
            ],
            "type": "heatmapgl"
           }
          ],
          "histogram": [
           {
            "marker": {
             "pattern": {
              "fillmode": "overlay",
              "size": 10,
              "solidity": 0.2
             }
            },
            "type": "histogram"
           }
          ],
          "histogram2d": [
           {
            "colorbar": {
             "outlinewidth": 0,
             "ticks": ""
            },
            "colorscale": [
             [
              0,
              "#0d0887"
             ],
             [
              0.1111111111111111,
              "#46039f"
             ],
             [
              0.2222222222222222,
              "#7201a8"
             ],
             [
              0.3333333333333333,
              "#9c179e"
             ],
             [
              0.4444444444444444,
              "#bd3786"
             ],
             [
              0.5555555555555556,
              "#d8576b"
             ],
             [
              0.6666666666666666,
              "#ed7953"
             ],
             [
              0.7777777777777778,
              "#fb9f3a"
             ],
             [
              0.8888888888888888,
              "#fdca26"
             ],
             [
              1,
              "#f0f921"
             ]
            ],
            "type": "histogram2d"
           }
          ],
          "histogram2dcontour": [
           {
            "colorbar": {
             "outlinewidth": 0,
             "ticks": ""
            },
            "colorscale": [
             [
              0,
              "#0d0887"
             ],
             [
              0.1111111111111111,
              "#46039f"
             ],
             [
              0.2222222222222222,
              "#7201a8"
             ],
             [
              0.3333333333333333,
              "#9c179e"
             ],
             [
              0.4444444444444444,
              "#bd3786"
             ],
             [
              0.5555555555555556,
              "#d8576b"
             ],
             [
              0.6666666666666666,
              "#ed7953"
             ],
             [
              0.7777777777777778,
              "#fb9f3a"
             ],
             [
              0.8888888888888888,
              "#fdca26"
             ],
             [
              1,
              "#f0f921"
             ]
            ],
            "type": "histogram2dcontour"
           }
          ],
          "mesh3d": [
           {
            "colorbar": {
             "outlinewidth": 0,
             "ticks": ""
            },
            "type": "mesh3d"
           }
          ],
          "parcoords": [
           {
            "line": {
             "colorbar": {
              "outlinewidth": 0,
              "ticks": ""
             }
            },
            "type": "parcoords"
           }
          ],
          "pie": [
           {
            "automargin": true,
            "type": "pie"
           }
          ],
          "scatter": [
           {
            "marker": {
             "colorbar": {
              "outlinewidth": 0,
              "ticks": ""
             }
            },
            "type": "scatter"
           }
          ],
          "scatter3d": [
           {
            "line": {
             "colorbar": {
              "outlinewidth": 0,
              "ticks": ""
             }
            },
            "marker": {
             "colorbar": {
              "outlinewidth": 0,
              "ticks": ""
             }
            },
            "type": "scatter3d"
           }
          ],
          "scattercarpet": [
           {
            "marker": {
             "colorbar": {
              "outlinewidth": 0,
              "ticks": ""
             }
            },
            "type": "scattercarpet"
           }
          ],
          "scattergeo": [
           {
            "marker": {
             "colorbar": {
              "outlinewidth": 0,
              "ticks": ""
             }
            },
            "type": "scattergeo"
           }
          ],
          "scattergl": [
           {
            "marker": {
             "colorbar": {
              "outlinewidth": 0,
              "ticks": ""
             }
            },
            "type": "scattergl"
           }
          ],
          "scattermapbox": [
           {
            "marker": {
             "colorbar": {
              "outlinewidth": 0,
              "ticks": ""
             }
            },
            "type": "scattermapbox"
           }
          ],
          "scatterpolar": [
           {
            "marker": {
             "colorbar": {
              "outlinewidth": 0,
              "ticks": ""
             }
            },
            "type": "scatterpolar"
           }
          ],
          "scatterpolargl": [
           {
            "marker": {
             "colorbar": {
              "outlinewidth": 0,
              "ticks": ""
             }
            },
            "type": "scatterpolargl"
           }
          ],
          "scatterternary": [
           {
            "marker": {
             "colorbar": {
              "outlinewidth": 0,
              "ticks": ""
             }
            },
            "type": "scatterternary"
           }
          ],
          "surface": [
           {
            "colorbar": {
             "outlinewidth": 0,
             "ticks": ""
            },
            "colorscale": [
             [
              0,
              "#0d0887"
             ],
             [
              0.1111111111111111,
              "#46039f"
             ],
             [
              0.2222222222222222,
              "#7201a8"
             ],
             [
              0.3333333333333333,
              "#9c179e"
             ],
             [
              0.4444444444444444,
              "#bd3786"
             ],
             [
              0.5555555555555556,
              "#d8576b"
             ],
             [
              0.6666666666666666,
              "#ed7953"
             ],
             [
              0.7777777777777778,
              "#fb9f3a"
             ],
             [
              0.8888888888888888,
              "#fdca26"
             ],
             [
              1,
              "#f0f921"
             ]
            ],
            "type": "surface"
           }
          ],
          "table": [
           {
            "cells": {
             "fill": {
              "color": "#EBF0F8"
             },
             "line": {
              "color": "white"
             }
            },
            "header": {
             "fill": {
              "color": "#C8D4E3"
             },
             "line": {
              "color": "white"
             }
            },
            "type": "table"
           }
          ]
         },
         "layout": {
          "annotationdefaults": {
           "arrowcolor": "#2a3f5f",
           "arrowhead": 0,
           "arrowwidth": 1
          },
          "autotypenumbers": "strict",
          "coloraxis": {
           "colorbar": {
            "outlinewidth": 0,
            "ticks": ""
           }
          },
          "colorscale": {
           "diverging": [
            [
             0,
             "#8e0152"
            ],
            [
             0.1,
             "#c51b7d"
            ],
            [
             0.2,
             "#de77ae"
            ],
            [
             0.3,
             "#f1b6da"
            ],
            [
             0.4,
             "#fde0ef"
            ],
            [
             0.5,
             "#f7f7f7"
            ],
            [
             0.6,
             "#e6f5d0"
            ],
            [
             0.7,
             "#b8e186"
            ],
            [
             0.8,
             "#7fbc41"
            ],
            [
             0.9,
             "#4d9221"
            ],
            [
             1,
             "#276419"
            ]
           ],
           "sequential": [
            [
             0,
             "#0d0887"
            ],
            [
             0.1111111111111111,
             "#46039f"
            ],
            [
             0.2222222222222222,
             "#7201a8"
            ],
            [
             0.3333333333333333,
             "#9c179e"
            ],
            [
             0.4444444444444444,
             "#bd3786"
            ],
            [
             0.5555555555555556,
             "#d8576b"
            ],
            [
             0.6666666666666666,
             "#ed7953"
            ],
            [
             0.7777777777777778,
             "#fb9f3a"
            ],
            [
             0.8888888888888888,
             "#fdca26"
            ],
            [
             1,
             "#f0f921"
            ]
           ],
           "sequentialminus": [
            [
             0,
             "#0d0887"
            ],
            [
             0.1111111111111111,
             "#46039f"
            ],
            [
             0.2222222222222222,
             "#7201a8"
            ],
            [
             0.3333333333333333,
             "#9c179e"
            ],
            [
             0.4444444444444444,
             "#bd3786"
            ],
            [
             0.5555555555555556,
             "#d8576b"
            ],
            [
             0.6666666666666666,
             "#ed7953"
            ],
            [
             0.7777777777777778,
             "#fb9f3a"
            ],
            [
             0.8888888888888888,
             "#fdca26"
            ],
            [
             1,
             "#f0f921"
            ]
           ]
          },
          "colorway": [
           "#636efa",
           "#EF553B",
           "#00cc96",
           "#ab63fa",
           "#FFA15A",
           "#19d3f3",
           "#FF6692",
           "#B6E880",
           "#FF97FF",
           "#FECB52"
          ],
          "font": {
           "color": "#2a3f5f"
          },
          "geo": {
           "bgcolor": "white",
           "lakecolor": "white",
           "landcolor": "#E5ECF6",
           "showlakes": true,
           "showland": true,
           "subunitcolor": "white"
          },
          "hoverlabel": {
           "align": "left"
          },
          "hovermode": "closest",
          "mapbox": {
           "style": "light"
          },
          "paper_bgcolor": "white",
          "plot_bgcolor": "#E5ECF6",
          "polar": {
           "angularaxis": {
            "gridcolor": "white",
            "linecolor": "white",
            "ticks": ""
           },
           "bgcolor": "#E5ECF6",
           "radialaxis": {
            "gridcolor": "white",
            "linecolor": "white",
            "ticks": ""
           }
          },
          "scene": {
           "xaxis": {
            "backgroundcolor": "#E5ECF6",
            "gridcolor": "white",
            "gridwidth": 2,
            "linecolor": "white",
            "showbackground": true,
            "ticks": "",
            "zerolinecolor": "white"
           },
           "yaxis": {
            "backgroundcolor": "#E5ECF6",
            "gridcolor": "white",
            "gridwidth": 2,
            "linecolor": "white",
            "showbackground": true,
            "ticks": "",
            "zerolinecolor": "white"
           },
           "zaxis": {
            "backgroundcolor": "#E5ECF6",
            "gridcolor": "white",
            "gridwidth": 2,
            "linecolor": "white",
            "showbackground": true,
            "ticks": "",
            "zerolinecolor": "white"
           }
          },
          "shapedefaults": {
           "line": {
            "color": "#2a3f5f"
           }
          },
          "ternary": {
           "aaxis": {
            "gridcolor": "white",
            "linecolor": "white",
            "ticks": ""
           },
           "baxis": {
            "gridcolor": "white",
            "linecolor": "white",
            "ticks": ""
           },
           "bgcolor": "#E5ECF6",
           "caxis": {
            "gridcolor": "white",
            "linecolor": "white",
            "ticks": ""
           }
          },
          "title": {
           "x": 0.05
          },
          "xaxis": {
           "automargin": true,
           "gridcolor": "white",
           "linecolor": "white",
           "ticks": "",
           "title": {
            "standoff": 15
           },
           "zerolinecolor": "white",
           "zerolinewidth": 2
          },
          "yaxis": {
           "automargin": true,
           "gridcolor": "white",
           "linecolor": "white",
           "ticks": "",
           "title": {
            "standoff": 15
           },
           "zerolinecolor": "white",
           "zerolinewidth": 2
          }
         }
        },
        "title": {
         "text": "Comparison of category distributions between original and new system"
        },
        "xaxis": {
         "autorange": true,
         "range": [
          -0.5,
          9.5
         ],
         "type": "category"
        },
        "yaxis": {
         "autorange": true,
         "range": [
          0,
          1096.842105263158
         ],
         "type": "linear"
        }
       }
      },
      "image/png": "[encoded data removed]",
      "text/html": [
       "<div>                            <div id=\"2c650861-2a34-40f4-8155-2592e6719aa5\" class=\"plotly-graph-div\" style=\"height:800px; width:100%;\"></div>            <script type=\"text/javascript\">                require([\"plotly\"], function(Plotly) {                    window.PLOTLYENV=window.PLOTLYENV || {};                                    if (document.getElementById(\"2c650861-2a34-40f4-8155-2592e6719aa5\")) {                    Plotly.newPlot(                        \"2c650861-2a34-40f4-8155-2592e6719aa5\",                        [{\"name\":\"Original\",\"type\":\"bar\",\"x\":[\"Herbata\",\"Inne artyku\\u0142y \\u017cywno\\u015bciowe, gdzie indziej niesklasyfikowane\",\"Pozosta\\u0142e wyroby piekarskie\",\"Sery i twarogi\",\"Soki owocowe i warzywne\",\"Sosy, przyprawy\",\"S\\u00f3l, przyprawy korzenne i zio\\u0142a kulinarne\",\"Warzywa suszone i pozosta\\u0142e przetwory warzywne\",\"Wyroby cukiernicze\",\"W\\u0119dliny\"],\"y\":[629,789,1020,1042,869,780,694,876,803,701]},{\"name\":\"New\",\"type\":\"bar\",\"x\":[\"Herbata\",\"Inne artyku\\u0142y \\u017cywno\\u015bciowe, gdzie indziej niesklasyfikowane\",\"Pozosta\\u0142e wyroby piekarskie\",\"Sery i twarogi\",\"Soki owocowe i warzywne\",\"Sosy, przyprawy\",\"S\\u00f3l, przyprawy korzenne i zio\\u0142a kulinarne\",\"Warzywa suszone i pozosta\\u0142e przetwory warzywne\",\"Wyroby cukiernicze\",\"W\\u0119dliny\"],\"y\":[1020,108,237,100,26,61,84,388,55,101]}],                        {\"barmode\":\"group\",\"height\":800,\"template\":{\"data\":{\"bar\":[{\"error_x\":{\"color\":\"#2a3f5f\"},\"error_y\":{\"color\":\"#2a3f5f\"},\"marker\":{\"line\":{\"color\":\"#E5ECF6\",\"width\":0.5},\"pattern\":{\"fillmode\":\"overlay\",\"size\":10,\"solidity\":0.2}},\"type\":\"bar\"}],\"barpolar\":[{\"marker\":{\"line\":{\"color\":\"#E5ECF6\",\"width\":0.5},\"pattern\":{\"fillmode\":\"overlay\",\"size\":10,\"solidity\":0.2}},\"type\":\"barpolar\"}],\"carpet\":[{\"aaxis\":{\"endlinecolor\":\"#2a3f5f\",\"gridcolor\":\"white\",\"linecolor\":\"white\",\"minorgridcolor\":\"white\",\"startlinecolor\":\"#2a3f5f\"},\"baxis\":{\"endlinecolor\":\"#2a3f5f\",\"gridcolor\":\"white\",\"linecolor\":\"white\",\"minorgridcolor\":\"white\",\"startlinecolor\":\"#2a3f5f\"},\"type\":\"carpet\"}],\"choropleth\":[{\"colorbar\":{\"outlinewidth\":0,\"ticks\":\"\"},\"type\":\"choropleth\"}],\"contour\":[{\"colorbar\":{\"outlinewidth\":0,\"ticks\":\"\"},\"colorscale\":[[0.0,\"#0d0887\"],[0.1111111111111111,\"#46039f\"],[0.2222222222222222,\"#7201a8\"],[0.3333333333333333,\"#9c179e\"],[0.4444444444444444,\"#bd3786\"],[0.5555555555555556,\"#d8576b\"],[0.6666666666666666,\"#ed7953\"],[0.7777777777777778,\"#fb9f3a\"],[0.8888888888888888,\"#fdca26\"],[1.0,\"#f0f921\"]],\"type\":\"contour\"}],\"contourcarpet\":[{\"colorbar\":{\"outlinewidth\":0,\"ticks\":\"\"},\"type\":\"contourcarpet\"}],\"heatmap\":[{\"colorbar\":{\"outlinewidth\":0,\"ticks\":\"\"},\"colorscale\":[[0.0,\"#0d0887\"],[0.1111111111111111,\"#46039f\"],[0.2222222222222222,\"#7201a8\"],[0.3333333333333333,\"#9c179e\"],[0.4444444444444444,\"#bd3786\"],[0.5555555555555556,\"#d8576b\"],[0.6666666666666666,\"#ed7953\"],[0.7777777777777778,\"#fb9f3a\"],[0.8888888888888888,\"#fdca26\"],[1.0,\"#f0f921\"]],\"type\":\"heatmap\"}],\"heatmapgl\":[{\"colorbar\":{\"outlinewidth\":0,\"ticks\":\"\"},\"colorscale\":[[0.0,\"#0d0887\"],[0.1111111111111111,\"#46039f\"],[0.2222222222222222,\"#7201a8\"],[0.3333333333333333,\"#9c179e\"],[0.4444444444444444,\"#bd3786\"],[0.5555555555555556,\"#d8576b\"],[0.6666666666666666,\"#ed7953\"],[0.7777777777777778,\"#fb9f3a\"],[0.8888888888888888,\"#fdca26\"],[1.0,\"#f0f921\"]],\"type\":\"heatmapgl\"}],\"histogram\":[{\"marker\":{\"pattern\":{\"fillmode\":\"overlay\",\"size\":10,\"solidity\":0.2}},\"type\":\"histogram\"}],\"histogram2d\":[{\"colorbar\":{\"outlinewidth\":0,\"ticks\":\"\"},\"colorscale\":[[0.0,\"#0d0887\"],[0.1111111111111111,\"#46039f\"],[0.2222222222222222,\"#7201a8\"],[0.3333333333333333,\"#9c179e\"],[0.4444444444444444,\"#bd3786\"],[0.5555555555555556,\"#d8576b\"],[0.6666666666666666,\"#ed7953\"],[0.7777777777777778,\"#fb9f3a\"],[0.8888888888888888,\"#fdca26\"],[1.0,\"#f0f921\"]],\"type\":\"histogram2d\"}],\"histogram2dcontour\":[{\"colorbar\":{\"outlinewidth\":0,\"ticks\":\"\"},\"colorscale\":[[0.0,\"#0d0887\"],[0.1111111111111111,\"#46039f\"],[0.2222222222222222,\"#7201a8\"],[0.3333333333333333,\"#9c179e\"],[0.4444444444444444,\"#bd3786\"],[0.5555555555555556,\"#d8576b\"],[0.6666666666666666,\"#ed7953\"],[0.7777777777777778,\"#fb9f3a\"],[0.8888888888888888,\"#fdca26\"],[1.0,\"#f0f921\"]],\"type\":\"histogram2dcontour\"}],\"mesh3d\":[{\"colorbar\":{\"outlinewidth\":0,\"ticks\":\"\"},\"type\":\"mesh3d\"}],\"parcoords\":[{\"line\":{\"colorbar\":{\"outlinewidth\":0,\"ticks\":\"\"}},\"type\":\"parcoords\"}],\"pie\":[{\"automargin\":true,\"type\":\"pie\"}],\"scatter\":[{\"marker\":{\"colorbar\":{\"outlinewidth\":0,\"ticks\":\"\"}},\"type\":\"scatter\"}],\"scatter3d\":[{\"line\":{\"colorbar\":{\"outlinewidth\":0,\"ticks\":\"\"}},\"marker\":{\"colorbar\":{\"outlinewidth\":0,\"ticks\":\"\"}},\"type\":\"scatter3d\"}],\"scattercarpet\":[{\"marker\":{\"colorbar\":{\"outlinewidth\":0,\"ticks\":\"\"}},\"type\":\"scattercarpet\"}],\"scattergeo\":[{\"marker\":{\"colorbar\":{\"outlinewidth\":0,\"ticks\":\"\"}},\"type\":\"scattergeo\"}],\"scattergl\":[{\"marker\":{\"colorbar\":{\"outlinewidth\":0,\"ticks\":\"\"}},\"type\":\"scattergl\"}],\"scattermapbox\":[{\"marker\":{\"colorbar\":{\"outlinewidth\":0,\"ticks\":\"\"}},\"type\":\"scattermapbox\"}],\"scatterpolar\":[{\"marker\":{\"colorbar\":{\"outlinewidth\":0,\"ticks\":\"\"}},\"type\":\"scatterpolar\"}],\"scatterpolargl\":[{\"marker\":{\"colorbar\":{\"outlinewidth\":0,\"ticks\":\"\"}},\"type\":\"scatterpolargl\"}],\"scatterternary\":[{\"marker\":{\"colorbar\":{\"outlinewidth\":0,\"ticks\":\"\"}},\"type\":\"scatterternary\"}],\"surface\":[{\"colorbar\":{\"outlinewidth\":0,\"ticks\":\"\"},\"colorscale\":[[0.0,\"#0d0887\"],[0.1111111111111111,\"#46039f\"],[0.2222222222222222,\"#7201a8\"],[0.3333333333333333,\"#9c179e\"],[0.4444444444444444,\"#bd3786\"],[0.5555555555555556,\"#d8576b\"],[0.6666666666666666,\"#ed7953\"],[0.7777777777777778,\"#fb9f3a\"],[0.8888888888888888,\"#fdca26\"],[1.0,\"#f0f921\"]],\"type\":\"surface\"}],\"table\":[{\"cells\":{\"fill\":{\"color\":\"#EBF0F8\"},\"line\":{\"color\":\"white\"}},\"header\":{\"fill\":{\"color\":\"#C8D4E3\"},\"line\":{\"color\":\"white\"}},\"type\":\"table\"}]},\"layout\":{\"annotationdefaults\":{\"arrowcolor\":\"#2a3f5f\",\"arrowhead\":0,\"arrowwidth\":1},\"autotypenumbers\":\"strict\",\"coloraxis\":{\"colorbar\":{\"outlinewidth\":0,\"ticks\":\"\"}},\"colorscale\":{\"diverging\":[[0,\"#8e0152\"],[0.1,\"#c51b7d\"],[0.2,\"#de77ae\"],[0.3,\"#f1b6da\"],[0.4,\"#fde0ef\"],[0.5,\"#f7f7f7\"],[0.6,\"#e6f5d0\"],[0.7,\"#b8e186\"],[0.8,\"#7fbc41\"],[0.9,\"#4d9221\"],[1,\"#276419\"]],\"sequential\":[[0.0,\"#0d0887\"],[0.1111111111111111,\"#46039f\"],[0.2222222222222222,\"#7201a8\"],[0.3333333333333333,\"#9c179e\"],[0.4444444444444444,\"#bd3786\"],[0.5555555555555556,\"#d8576b\"],[0.6666666666666666,\"#ed7953\"],[0.7777777777777778,\"#fb9f3a\"],[0.8888888888888888,\"#fdca26\"],[1.0,\"#f0f921\"]],\"sequentialminus\":[[0.0,\"#0d0887\"],[0.1111111111111111,\"#46039f\"],[0.2222222222222222,\"#7201a8\"],[0.3333333333333333,\"#9c179e\"],[0.4444444444444444,\"#bd3786\"],[0.5555555555555556,\"#d8576b\"],[0.6666666666666666,\"#ed7953\"],[0.7777777777777778,\"#fb9f3a\"],[0.8888888888888888,\"#fdca26\"],[1.0,\"#f0f921\"]]},\"colorway\":[\"#636efa\",\"#EF553B\",\"#00cc96\",\"#ab63fa\",\"#FFA15A\",\"#19d3f3\",\"#FF6692\",\"#B6E880\",\"#FF97FF\",\"#FECB52\"],\"font\":{\"color\":\"#2a3f5f\"},\"geo\":{\"bgcolor\":\"white\",\"lakecolor\":\"white\",\"landcolor\":\"#E5ECF6\",\"showlakes\":true,\"showland\":true,\"subunitcolor\":\"white\"},\"hoverlabel\":{\"align\":\"left\"},\"hovermode\":\"closest\",\"mapbox\":{\"style\":\"light\"},\"paper_bgcolor\":\"white\",\"plot_bgcolor\":\"#E5ECF6\",\"polar\":{\"angularaxis\":{\"gridcolor\":\"white\",\"linecolor\":\"white\",\"ticks\":\"\"},\"bgcolor\":\"#E5ECF6\",\"radialaxis\":{\"gridcolor\":\"white\",\"linecolor\":\"white\",\"ticks\":\"\"}},\"scene\":{\"xaxis\":{\"backgroundcolor\":\"#E5ECF6\",\"gridcolor\":\"white\",\"gridwidth\":2,\"linecolor\":\"white\",\"showbackground\":true,\"ticks\":\"\",\"zerolinecolor\":\"white\"},\"yaxis\":{\"backgroundcolor\":\"#E5ECF6\",\"gridcolor\":\"white\",\"gridwidth\":2,\"linecolor\":\"white\",\"showbackground\":true,\"ticks\":\"\",\"zerolinecolor\":\"white\"},\"zaxis\":{\"backgroundcolor\":\"#E5ECF6\",\"gridcolor\":\"white\",\"gridwidth\":2,\"linecolor\":\"white\",\"showbackground\":true,\"ticks\":\"\",\"zerolinecolor\":\"white\"}},\"shapedefaults\":{\"line\":{\"color\":\"#2a3f5f\"}},\"ternary\":{\"aaxis\":{\"gridcolor\":\"white\",\"linecolor\":\"white\",\"ticks\":\"\"},\"baxis\":{\"gridcolor\":\"white\",\"linecolor\":\"white\",\"ticks\":\"\"},\"bgcolor\":\"#E5ECF6\",\"caxis\":{\"gridcolor\":\"white\",\"linecolor\":\"white\",\"ticks\":\"\"}},\"title\":{\"x\":0.05},\"xaxis\":{\"automargin\":true,\"gridcolor\":\"white\",\"linecolor\":\"white\",\"ticks\":\"\",\"title\":{\"standoff\":15},\"zerolinecolor\":\"white\",\"zerolinewidth\":2},\"yaxis\":{\"automargin\":true,\"gridcolor\":\"white\",\"linecolor\":\"white\",\"ticks\":\"\",\"title\":{\"standoff\":15},\"zerolinecolor\":\"white\",\"zerolinewidth\":2}}},\"title\":{\"text\":\"Comparison of category distributions between original and new system\"}},                        {\"responsive\": true}                    ).then(function(){\n",
       "                            \n",
       "var gd = document.getElementById('2c650861-2a34-40f4-8155-2592e6719aa5');\n",
       "var x = new MutationObserver(function (mutations, observer) {{\n",
       "        var display = window.getComputedStyle(gd).display;\n",
       "        if (!display || display === 'none') {{\n",
       "            console.log([gd, 'removed!']);\n",
       "            Plotly.purge(gd);\n",
       "            observer.disconnect();\n",
       "        }}\n",
       "}});\n",
       "\n",
       "// Listen for the removal of the full notebook cells\n",
       "var notebookContainer = gd.closest('#notebook-container');\n",
       "if (notebookContainer) {{\n",
       "    x.observe(notebookContainer, {childList: true});\n",
       "}}\n",
       "\n",
       "// Listen for the clearing of the current output cell\n",
       "var outputEl = gd.closest('.output');\n",
       "if (outputEl) {{\n",
       "    x.observe(outputEl, {childList: true});\n",
       "}}\n",
       "\n",
       "                        })                };                });            </script>        </div>"
      ]
     },
     "metadata": {},
     "output_type": "display_data"
    }
   ],
   "source": [
    "#Lets compare distributions between the two systems\n",
    "\n",
    "import plotly.graph_objects as go\n",
    "distribution_original = df[\"kategoria\"].value_counts()[0:10].sort_index()\n",
    "distribution_new = df[df[\"new kategoria\"].isin(distribution_original.index.values)][\"new kategoria\"].value_counts().sort_index()\n",
    "categories = distribution_original.index.values\n",
    "fig = go.Figure(data=[\n",
    "    go.Bar(name='Original', x=categories, y=distribution_original.values),\n",
    "    go.Bar(name='New', x=categories, y=distribution_new.values)\n",
    "])\n",
    "fig.update_layout(barmode='group', height=800, title=\"Comparison of category distributions between original and new system\")\n",
    "fig.show()"
   ]
  },
  {
   "cell_type": "code",
   "execution_count": 60,
   "id": "87a3d09d-8891-4fd2-a787-51b27b7f218e",
   "metadata": {},
   "outputs": [],
   "source": [
    "#We can see the concept drift from the comparison chart above\n",
    "#Let's verify the concept drift with the same algorithm we used previously:\n",
    "#Building concept drift detector with the original category system:\n",
    "concept_drift_detector = KSDrift(df[[\"kategoria\"]].to_numpy(), p_val=0.05)"
   ]
  },
  {
   "cell_type": "code",
   "execution_count": 61,
   "id": "2ee30d03-68a3-46dd-92b0-d51433c29b1b",
   "metadata": {},
   "outputs": [
    {
     "data": {
      "text/plain": [
       "{'data': {'is_drift': 1,\n",
       "  'distance': array([0.29500902], dtype=float32),\n",
       "  'p_val': array([0.], dtype=float32),\n",
       "  'threshold': 0.05},\n",
       " 'meta': {'name': 'KSDrift', 'detector_type': 'offline', 'data_type': None}}"
      ]
     },
     "execution_count": 61,
     "metadata": {},
     "output_type": "execute_result"
    }
   ],
   "source": [
    "#Let's \"predict\" whether new category system introduces concept drift when compared to the original:\n",
    "#As we can see, it does. As expected.\n",
    "predictions = concept_drift_detector.predict(df[[\"new kategoria\"]].to_numpy(), drift_type=\"batch\", return_p_val=True, return_distance=True)\n",
    "predictions"
   ]
  }
 ],
 "metadata": {
  "kernelspec": {
   "display_name": "Python 3 (ipykernel)",
   "language": "python",
   "name": "python3"
  },
  "language_info": {
   "codemirror_mode": {
    "name": "ipython",
    "version": 3
   },
   "file_extension": ".py",
   "mimetype": "text/x-python",
   "name": "python",
   "nbconvert_exporter": "python",
   "pygments_lexer": "ipython3",
   "version": "3.8.5"
  }
 },
 "nbformat": 4,
 "nbformat_minor": 5
}
