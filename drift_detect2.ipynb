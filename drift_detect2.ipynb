{
 "cells": [
  {
   "cell_type": "markdown",
   "id": "2675f70c-ff31-448c-b7dd-35df0b9a49b5",
   "metadata": {},
   "source": [
    "## 1. Importing Data"
   ]
  },
  {
   "cell_type": "code",
   "execution_count": 1,
   "id": "f7b0b2bf-dd03-4d07-9a27-8485c3c2b980",
   "metadata": {},
   "outputs": [],
   "source": [
    "import pandas as pd"
   ]
  },
  {
   "cell_type": "code",
   "execution_count": 2,
   "id": "69e17b7b-aba5-4bb7-9f1c-7927d43667f1",
   "metadata": {},
   "outputs": [],
   "source": [
    "df = pd.read_excel(\"https://github.com/statisticspoland/ecoicop_classification/blob/master/products_allshops_dataset.xlsx?raw=true\")"
   ]
  },
  {
   "cell_type": "code",
   "execution_count": 3,
   "id": "726db378-3994-4cf5-96b6-8be1a2d6a746",
   "metadata": {},
   "outputs": [
    {
     "data": {
      "text/html": [
       "<div>\n",
       "<style scoped>\n",
       "    .dataframe tbody tr th:only-of-type {\n",
       "        vertical-align: middle;\n",
       "    }\n",
       "\n",
       "    .dataframe tbody tr th {\n",
       "        vertical-align: top;\n",
       "    }\n",
       "\n",
       "    .dataframe thead th {\n",
       "        text-align: right;\n",
       "    }\n",
       "</style>\n",
       "<table border=\"1\" class=\"dataframe\">\n",
       "  <thead>\n",
       "    <tr style=\"text-align: right;\">\n",
       "      <th></th>\n",
       "      <th>produkt</th>\n",
       "      <th>kategoria</th>\n",
       "    </tr>\n",
       "  </thead>\n",
       "  <tbody>\n",
       "    <tr>\n",
       "      <th>0</th>\n",
       "      <td>\"słynne roślinne\"</td>\n",
       "      <td>Margaryna i inne tłuszcze roślinne</td>\n",
       "    </tr>\n",
       "    <tr>\n",
       "      <th>1</th>\n",
       "      <td>#Hejki - Emotki lizaki ręcznie robione o smaka...</td>\n",
       "      <td>Wyroby cukiernicze</td>\n",
       "    </tr>\n",
       "    <tr>\n",
       "      <th>2</th>\n",
       "      <td>100% Pur jus d'orange - sok pomarańczowy z mią...</td>\n",
       "      <td>Soki owocowe i warzywne</td>\n",
       "    </tr>\n",
       "    <tr>\n",
       "      <th>3</th>\n",
       "      <td>100% sukraloza bez cukru (substancje słodzące)</td>\n",
       "      <td>Sztuczne substytuty cukru</td>\n",
       "    </tr>\n",
       "    <tr>\n",
       "      <th>4</th>\n",
       "      <td>100% z brzoskwiń produkt owocowy słodzony zag....</td>\n",
       "      <td>Dżemy, marmolady i miód</td>\n",
       "    </tr>\n",
       "    <tr>\n",
       "      <th>...</th>\n",
       "      <td>...</td>\n",
       "      <td>...</td>\n",
       "    </tr>\n",
       "    <tr>\n",
       "      <th>16625</th>\n",
       "      <td>Żywiec Zdrój ze smakiem truskawki Napój niegaz...</td>\n",
       "      <td>Wody mineralne lub źródlane</td>\n",
       "    </tr>\n",
       "    <tr>\n",
       "      <th>16626</th>\n",
       "      <td>Żywiec green tea&amp;gruszka</td>\n",
       "      <td>Napoje orzeźwiające</td>\n",
       "    </tr>\n",
       "    <tr>\n",
       "      <th>16627</th>\n",
       "      <td>Żywioł - Woda źródlana delikatnie gazowana</td>\n",
       "      <td>Wody mineralne lub źródlane</td>\n",
       "    </tr>\n",
       "    <tr>\n",
       "      <th>16628</th>\n",
       "      <td>Żywioł - Woda źródlana gazowana</td>\n",
       "      <td>Wody mineralne lub źródlane</td>\n",
       "    </tr>\n",
       "    <tr>\n",
       "      <th>16629</th>\n",
       "      <td>Żywioł - Woda źródlana gazowana, 8 x 0,5 L</td>\n",
       "      <td>Wody mineralne lub źródlane</td>\n",
       "    </tr>\n",
       "  </tbody>\n",
       "</table>\n",
       "<p>16630 rows × 2 columns</p>\n",
       "</div>"
      ],
      "text/plain": [
       "                                                 produkt  \\\n",
       "0                                      \"słynne roślinne\"   \n",
       "1      #Hejki - Emotki lizaki ręcznie robione o smaka...   \n",
       "2      100% Pur jus d'orange - sok pomarańczowy z mią...   \n",
       "3         100% sukraloza bez cukru (substancje słodzące)   \n",
       "4      100% z brzoskwiń produkt owocowy słodzony zag....   \n",
       "...                                                  ...   \n",
       "16625  Żywiec Zdrój ze smakiem truskawki Napój niegaz...   \n",
       "16626                           Żywiec green tea&gruszka   \n",
       "16627         Żywioł - Woda źródlana delikatnie gazowana   \n",
       "16628                    Żywioł - Woda źródlana gazowana   \n",
       "16629         Żywioł - Woda źródlana gazowana, 8 x 0,5 L   \n",
       "\n",
       "                                kategoria  \n",
       "0      Margaryna i inne tłuszcze roślinne  \n",
       "1                      Wyroby cukiernicze  \n",
       "2                 Soki owocowe i warzywne  \n",
       "3               Sztuczne substytuty cukru  \n",
       "4                 Dżemy, marmolady i miód  \n",
       "...                                   ...  \n",
       "16625         Wody mineralne lub źródlane  \n",
       "16626                 Napoje orzeźwiające  \n",
       "16627         Wody mineralne lub źródlane  \n",
       "16628         Wody mineralne lub źródlane  \n",
       "16629         Wody mineralne lub źródlane  \n",
       "\n",
       "[16630 rows x 2 columns]"
      ]
     },
     "execution_count": 3,
     "metadata": {},
     "output_type": "execute_result"
    }
   ],
   "source": [
    "df"
   ]
  },
  {
   "cell_type": "code",
   "execution_count": 4,
   "id": "505dad46-bb0a-4677-95ee-1bf91dfcc12d",
   "metadata": {},
   "outputs": [],
   "source": [
    "#We drop categories with few rows (less than 50) to streamline the analysis:\n",
    "df = df[df.groupby(\"kategoria\")[\"kategoria\"].transform(\"count\").ge(50)]\n",
    "df = df.reset_index(drop=True)"
   ]
  },
  {
   "cell_type": "code",
   "execution_count": 5,
   "id": "b609631e-90f1-461f-a320-593a9cef6221",
   "metadata": {},
   "outputs": [],
   "source": [
    "#Set image renderer to display the images in nbviewer\n",
    "import plotly.io as pio\n",
    "pio.renderers.default = \"notebook_connected\""
   ]
  },
  {
   "cell_type": "markdown",
   "id": "223f8551-6dab-42cc-bfb9-57f3c40aef0d",
   "metadata": {
    "tags": []
   },
   "source": [
    "## 2. Generating drift in data with NMF"
   ]
  },
  {
   "cell_type": "markdown",
   "id": "99f429fc-e6b9-41ac-afc9-0cf7fb352d88",
   "metadata": {},
   "source": [
    "NMF: https://scikit-learn.org/stable/modules/generated/sklearn.decomposition.NMF.html"
   ]
  },
  {
   "cell_type": "code",
   "execution_count": 6,
   "id": "49735082-bfb0-4dc5-a067-189f93eb3e08",
   "metadata": {},
   "outputs": [
    {
     "name": "stdout",
     "output_type": "stream",
     "text": [
      "From text column: \n"
     ]
    },
    {
     "data": {
      "text/html": [
       "<div>\n",
       "<style scoped>\n",
       "    .dataframe tbody tr th:only-of-type {\n",
       "        vertical-align: middle;\n",
       "    }\n",
       "\n",
       "    .dataframe tbody tr th {\n",
       "        vertical-align: top;\n",
       "    }\n",
       "\n",
       "    .dataframe thead th {\n",
       "        text-align: right;\n",
       "    }\n",
       "</style>\n",
       "<table border=\"1\" class=\"dataframe\">\n",
       "  <thead>\n",
       "    <tr style=\"text-align: right;\">\n",
       "      <th></th>\n",
       "      <th>produkt</th>\n",
       "      <th>kategoria</th>\n",
       "    </tr>\n",
       "  </thead>\n",
       "  <tbody>\n",
       "    <tr>\n",
       "      <th>0</th>\n",
       "      <td>\"słynne roślinne\"</td>\n",
       "      <td>Margaryna i inne tłuszcze roślinne</td>\n",
       "    </tr>\n",
       "    <tr>\n",
       "      <th>1</th>\n",
       "      <td>#Hejki - Emotki lizaki ręcznie robione o smaka...</td>\n",
       "      <td>Wyroby cukiernicze</td>\n",
       "    </tr>\n",
       "    <tr>\n",
       "      <th>2</th>\n",
       "      <td>100% Pur jus d'orange - sok pomarańczowy z mią...</td>\n",
       "      <td>Soki owocowe i warzywne</td>\n",
       "    </tr>\n",
       "    <tr>\n",
       "      <th>3</th>\n",
       "      <td>100% z brzoskwiń produkt owocowy słodzony zag....</td>\n",
       "      <td>Dżemy, marmolady i miód</td>\n",
       "    </tr>\n",
       "    <tr>\n",
       "      <th>4</th>\n",
       "      <td>100% z czarnych porzeczek produkt owocowy słod...</td>\n",
       "      <td>Dżemy, marmolady i miód</td>\n",
       "    </tr>\n",
       "  </tbody>\n",
       "</table>\n",
       "</div>"
      ],
      "text/plain": [
       "                                             produkt  \\\n",
       "0                                  \"słynne roślinne\"   \n",
       "1  #Hejki - Emotki lizaki ręcznie robione o smaka...   \n",
       "2  100% Pur jus d'orange - sok pomarańczowy z mią...   \n",
       "3  100% z brzoskwiń produkt owocowy słodzony zag....   \n",
       "4  100% z czarnych porzeczek produkt owocowy słod...   \n",
       "\n",
       "                            kategoria  \n",
       "0  Margaryna i inne tłuszcze roślinne  \n",
       "1                  Wyroby cukiernicze  \n",
       "2             Soki owocowe i warzywne  \n",
       "3             Dżemy, marmolady i miód  \n",
       "4             Dżemy, marmolady i miód  "
      ]
     },
     "metadata": {},
     "output_type": "display_data"
    },
    {
     "name": "stdout",
     "output_type": "stream",
     "text": [
      "To bag of words: \n"
     ]
    },
    {
     "data": {
      "text/html": [
       "<div>\n",
       "<style scoped>\n",
       "    .dataframe tbody tr th:only-of-type {\n",
       "        vertical-align: middle;\n",
       "    }\n",
       "\n",
       "    .dataframe tbody tr th {\n",
       "        vertical-align: top;\n",
       "    }\n",
       "\n",
       "    .dataframe thead th {\n",
       "        text-align: right;\n",
       "    }\n",
       "</style>\n",
       "<table border=\"1\" class=\"dataframe\">\n",
       "  <thead>\n",
       "    <tr style=\"text-align: right;\">\n",
       "      <th></th>\n",
       "      <th>1,5</th>\n",
       "      <th>10</th>\n",
       "      <th>100</th>\n",
       "      <th>1000</th>\n",
       "      <th>110</th>\n",
       "      <th>12</th>\n",
       "      <th>120</th>\n",
       "      <th>125</th>\n",
       "      <th>130</th>\n",
       "      <th>135</th>\n",
       "      <th>...</th>\n",
       "      <th>świeże</th>\n",
       "      <th>źródlana</th>\n",
       "      <th>żelki</th>\n",
       "      <th>żucia</th>\n",
       "      <th>żurawina</th>\n",
       "      <th>żurawiną</th>\n",
       "      <th>żurek</th>\n",
       "      <th>żywiec</th>\n",
       "      <th>żółty</th>\n",
       "      <th>kategoria</th>\n",
       "    </tr>\n",
       "  </thead>\n",
       "  <tbody>\n",
       "    <tr>\n",
       "      <th>0</th>\n",
       "      <td>0</td>\n",
       "      <td>0</td>\n",
       "      <td>0</td>\n",
       "      <td>0</td>\n",
       "      <td>0</td>\n",
       "      <td>0</td>\n",
       "      <td>0</td>\n",
       "      <td>0</td>\n",
       "      <td>0</td>\n",
       "      <td>0</td>\n",
       "      <td>...</td>\n",
       "      <td>0</td>\n",
       "      <td>0</td>\n",
       "      <td>0</td>\n",
       "      <td>0</td>\n",
       "      <td>0</td>\n",
       "      <td>0</td>\n",
       "      <td>0</td>\n",
       "      <td>0</td>\n",
       "      <td>0</td>\n",
       "      <td>Margaryna i inne tłuszcze roślinne</td>\n",
       "    </tr>\n",
       "    <tr>\n",
       "      <th>1</th>\n",
       "      <td>0</td>\n",
       "      <td>0</td>\n",
       "      <td>0</td>\n",
       "      <td>0</td>\n",
       "      <td>0</td>\n",
       "      <td>0</td>\n",
       "      <td>0</td>\n",
       "      <td>0</td>\n",
       "      <td>0</td>\n",
       "      <td>0</td>\n",
       "      <td>...</td>\n",
       "      <td>0</td>\n",
       "      <td>0</td>\n",
       "      <td>0</td>\n",
       "      <td>0</td>\n",
       "      <td>0</td>\n",
       "      <td>0</td>\n",
       "      <td>0</td>\n",
       "      <td>0</td>\n",
       "      <td>0</td>\n",
       "      <td>Wyroby cukiernicze</td>\n",
       "    </tr>\n",
       "    <tr>\n",
       "      <th>2</th>\n",
       "      <td>0</td>\n",
       "      <td>0</td>\n",
       "      <td>1</td>\n",
       "      <td>0</td>\n",
       "      <td>0</td>\n",
       "      <td>0</td>\n",
       "      <td>0</td>\n",
       "      <td>0</td>\n",
       "      <td>0</td>\n",
       "      <td>0</td>\n",
       "      <td>...</td>\n",
       "      <td>0</td>\n",
       "      <td>0</td>\n",
       "      <td>0</td>\n",
       "      <td>0</td>\n",
       "      <td>0</td>\n",
       "      <td>0</td>\n",
       "      <td>0</td>\n",
       "      <td>0</td>\n",
       "      <td>0</td>\n",
       "      <td>Soki owocowe i warzywne</td>\n",
       "    </tr>\n",
       "    <tr>\n",
       "      <th>3</th>\n",
       "      <td>0</td>\n",
       "      <td>0</td>\n",
       "      <td>1</td>\n",
       "      <td>0</td>\n",
       "      <td>0</td>\n",
       "      <td>0</td>\n",
       "      <td>0</td>\n",
       "      <td>0</td>\n",
       "      <td>0</td>\n",
       "      <td>0</td>\n",
       "      <td>...</td>\n",
       "      <td>0</td>\n",
       "      <td>0</td>\n",
       "      <td>0</td>\n",
       "      <td>0</td>\n",
       "      <td>0</td>\n",
       "      <td>0</td>\n",
       "      <td>0</td>\n",
       "      <td>0</td>\n",
       "      <td>0</td>\n",
       "      <td>Dżemy, marmolady i miód</td>\n",
       "    </tr>\n",
       "    <tr>\n",
       "      <th>4</th>\n",
       "      <td>0</td>\n",
       "      <td>0</td>\n",
       "      <td>1</td>\n",
       "      <td>0</td>\n",
       "      <td>0</td>\n",
       "      <td>0</td>\n",
       "      <td>0</td>\n",
       "      <td>0</td>\n",
       "      <td>0</td>\n",
       "      <td>0</td>\n",
       "      <td>...</td>\n",
       "      <td>0</td>\n",
       "      <td>0</td>\n",
       "      <td>0</td>\n",
       "      <td>0</td>\n",
       "      <td>0</td>\n",
       "      <td>0</td>\n",
       "      <td>0</td>\n",
       "      <td>0</td>\n",
       "      <td>0</td>\n",
       "      <td>Dżemy, marmolady i miód</td>\n",
       "    </tr>\n",
       "    <tr>\n",
       "      <th>...</th>\n",
       "      <td>...</td>\n",
       "      <td>...</td>\n",
       "      <td>...</td>\n",
       "      <td>...</td>\n",
       "      <td>...</td>\n",
       "      <td>...</td>\n",
       "      <td>...</td>\n",
       "      <td>...</td>\n",
       "      <td>...</td>\n",
       "      <td>...</td>\n",
       "      <td>...</td>\n",
       "      <td>...</td>\n",
       "      <td>...</td>\n",
       "      <td>...</td>\n",
       "      <td>...</td>\n",
       "      <td>...</td>\n",
       "      <td>...</td>\n",
       "      <td>...</td>\n",
       "      <td>...</td>\n",
       "      <td>...</td>\n",
       "      <td>...</td>\n",
       "    </tr>\n",
       "    <tr>\n",
       "      <th>16258</th>\n",
       "      <td>1</td>\n",
       "      <td>0</td>\n",
       "      <td>0</td>\n",
       "      <td>0</td>\n",
       "      <td>0</td>\n",
       "      <td>0</td>\n",
       "      <td>0</td>\n",
       "      <td>0</td>\n",
       "      <td>0</td>\n",
       "      <td>0</td>\n",
       "      <td>...</td>\n",
       "      <td>0</td>\n",
       "      <td>0</td>\n",
       "      <td>0</td>\n",
       "      <td>0</td>\n",
       "      <td>0</td>\n",
       "      <td>0</td>\n",
       "      <td>0</td>\n",
       "      <td>1</td>\n",
       "      <td>0</td>\n",
       "      <td>Wody mineralne lub źródlane</td>\n",
       "    </tr>\n",
       "    <tr>\n",
       "      <th>16259</th>\n",
       "      <td>0</td>\n",
       "      <td>0</td>\n",
       "      <td>0</td>\n",
       "      <td>0</td>\n",
       "      <td>0</td>\n",
       "      <td>0</td>\n",
       "      <td>0</td>\n",
       "      <td>0</td>\n",
       "      <td>0</td>\n",
       "      <td>0</td>\n",
       "      <td>...</td>\n",
       "      <td>0</td>\n",
       "      <td>0</td>\n",
       "      <td>0</td>\n",
       "      <td>0</td>\n",
       "      <td>0</td>\n",
       "      <td>0</td>\n",
       "      <td>0</td>\n",
       "      <td>1</td>\n",
       "      <td>0</td>\n",
       "      <td>Napoje orzeźwiające</td>\n",
       "    </tr>\n",
       "    <tr>\n",
       "      <th>16260</th>\n",
       "      <td>0</td>\n",
       "      <td>0</td>\n",
       "      <td>0</td>\n",
       "      <td>0</td>\n",
       "      <td>0</td>\n",
       "      <td>0</td>\n",
       "      <td>0</td>\n",
       "      <td>0</td>\n",
       "      <td>0</td>\n",
       "      <td>0</td>\n",
       "      <td>...</td>\n",
       "      <td>0</td>\n",
       "      <td>1</td>\n",
       "      <td>0</td>\n",
       "      <td>0</td>\n",
       "      <td>0</td>\n",
       "      <td>0</td>\n",
       "      <td>0</td>\n",
       "      <td>0</td>\n",
       "      <td>0</td>\n",
       "      <td>Wody mineralne lub źródlane</td>\n",
       "    </tr>\n",
       "    <tr>\n",
       "      <th>16261</th>\n",
       "      <td>0</td>\n",
       "      <td>0</td>\n",
       "      <td>0</td>\n",
       "      <td>0</td>\n",
       "      <td>0</td>\n",
       "      <td>0</td>\n",
       "      <td>0</td>\n",
       "      <td>0</td>\n",
       "      <td>0</td>\n",
       "      <td>0</td>\n",
       "      <td>...</td>\n",
       "      <td>0</td>\n",
       "      <td>1</td>\n",
       "      <td>0</td>\n",
       "      <td>0</td>\n",
       "      <td>0</td>\n",
       "      <td>0</td>\n",
       "      <td>0</td>\n",
       "      <td>0</td>\n",
       "      <td>0</td>\n",
       "      <td>Wody mineralne lub źródlane</td>\n",
       "    </tr>\n",
       "    <tr>\n",
       "      <th>16262</th>\n",
       "      <td>0</td>\n",
       "      <td>0</td>\n",
       "      <td>0</td>\n",
       "      <td>0</td>\n",
       "      <td>0</td>\n",
       "      <td>0</td>\n",
       "      <td>0</td>\n",
       "      <td>0</td>\n",
       "      <td>0</td>\n",
       "      <td>0</td>\n",
       "      <td>...</td>\n",
       "      <td>0</td>\n",
       "      <td>1</td>\n",
       "      <td>0</td>\n",
       "      <td>0</td>\n",
       "      <td>0</td>\n",
       "      <td>0</td>\n",
       "      <td>0</td>\n",
       "      <td>0</td>\n",
       "      <td>0</td>\n",
       "      <td>Wody mineralne lub źródlane</td>\n",
       "    </tr>\n",
       "  </tbody>\n",
       "</table>\n",
       "<p>16263 rows × 501 columns</p>\n",
       "</div>"
      ],
      "text/plain": [
       "       1,5  10  100  1000  110  12  120  125  130  135  ...  świeże  źródlana  \\\n",
       "0        0   0    0     0    0   0    0    0    0    0  ...       0         0   \n",
       "1        0   0    0     0    0   0    0    0    0    0  ...       0         0   \n",
       "2        0   0    1     0    0   0    0    0    0    0  ...       0         0   \n",
       "3        0   0    1     0    0   0    0    0    0    0  ...       0         0   \n",
       "4        0   0    1     0    0   0    0    0    0    0  ...       0         0   \n",
       "...    ...  ..  ...   ...  ...  ..  ...  ...  ...  ...  ...     ...       ...   \n",
       "16258    1   0    0     0    0   0    0    0    0    0  ...       0         0   \n",
       "16259    0   0    0     0    0   0    0    0    0    0  ...       0         0   \n",
       "16260    0   0    0     0    0   0    0    0    0    0  ...       0         1   \n",
       "16261    0   0    0     0    0   0    0    0    0    0  ...       0         1   \n",
       "16262    0   0    0     0    0   0    0    0    0    0  ...       0         1   \n",
       "\n",
       "       żelki  żucia  żurawina  żurawiną  żurek  żywiec  żółty  \\\n",
       "0          0      0         0         0      0       0      0   \n",
       "1          0      0         0         0      0       0      0   \n",
       "2          0      0         0         0      0       0      0   \n",
       "3          0      0         0         0      0       0      0   \n",
       "4          0      0         0         0      0       0      0   \n",
       "...      ...    ...       ...       ...    ...     ...    ...   \n",
       "16258      0      0         0         0      0       1      0   \n",
       "16259      0      0         0         0      0       1      0   \n",
       "16260      0      0         0         0      0       0      0   \n",
       "16261      0      0         0         0      0       0      0   \n",
       "16262      0      0         0         0      0       0      0   \n",
       "\n",
       "                                kategoria  \n",
       "0      Margaryna i inne tłuszcze roślinne  \n",
       "1                      Wyroby cukiernicze  \n",
       "2                 Soki owocowe i warzywne  \n",
       "3                 Dżemy, marmolady i miód  \n",
       "4                 Dżemy, marmolady i miód  \n",
       "...                                   ...  \n",
       "16258         Wody mineralne lub źródlane  \n",
       "16259                 Napoje orzeźwiające  \n",
       "16260         Wody mineralne lub źródlane  \n",
       "16261         Wody mineralne lub źródlane  \n",
       "16262         Wody mineralne lub źródlane  \n",
       "\n",
       "[16263 rows x 501 columns]"
      ]
     },
     "metadata": {},
     "output_type": "display_data"
    }
   ],
   "source": [
    "#First we do a bag of words transformation for text feature \"produkt\"\n",
    "#This is used both by the model and drift detecters\n",
    "#Vectorizer and model parameters taken from https://github.com/statisticspoland/ecoicop_classification/blob/master/Random_Forest/random_forest_results.py\n",
    "from sklearn.feature_extraction.text import CountVectorizer\n",
    "from sklearn.decomposition import NMF\n",
    "\n",
    "#We reduce max features to make the analysis a little faster. For a better model performance the parameter can just be removed\n",
    "vectorizer = CountVectorizer(token_pattern='\\w\\w+|[1-9]\\.[1-9]\\%|[1-9]\\,[1-9]\\%|[1-9]\\.[1-9]|[1-9]\\,[1-9]|[1-9]\\%',  max_features=500)\n",
    "vectorizer.fit(df['produkt'])\n",
    "\n",
    "X_vectorized = pd.DataFrame(vectorizer.transform(df[\"produkt\"]).todense(), columns=vectorizer.get_feature_names())\n",
    "X_vectorized[\"kategoria\"] = df[\"kategoria\"]\n",
    "\n",
    "print(\"From text column: \")\n",
    "display(df[0:5])\n",
    "print(\"To bag of words: \")\n",
    "display(X_vectorized)"
   ]
  },
  {
   "cell_type": "code",
   "execution_count": 7,
   "id": "c0a52497-c17d-45c0-8936-eda0d740a743",
   "metadata": {},
   "outputs": [],
   "source": [
    "#We try to split the data to two \"categories\"\n",
    "nmf = NMF(n_components=2, init=\"random\")\n",
    "W = nmf.fit_transform(X_vectorized.drop(columns=[\"kategoria\"]))"
   ]
  },
  {
   "cell_type": "code",
   "execution_count": 8,
   "id": "1036c16a-48aa-43d3-88c9-b5b0b0ef2d32",
   "metadata": {},
   "outputs": [],
   "source": [
    "import numpy as np\n",
    "sort_idx = np.argsort(W[:, 0])"
   ]
  },
  {
   "cell_type": "code",
   "execution_count": 9,
   "id": "8eb3aea8-5243-470a-af78-b46633f655e6",
   "metadata": {},
   "outputs": [],
   "source": [
    "#import plotly.express as px\n",
    "#fig = px.line(W[:, 0][sort_idx][::-1], width=1000)\n",
    "#fig.show(renderer=\"svg\")"
   ]
  },
  {
   "cell_type": "code",
   "execution_count": 10,
   "id": "706856ea-5221-4c87-8860-f59e3279810f",
   "metadata": {},
   "outputs": [],
   "source": [
    "X_vectorized = X_vectorized.iloc[sort_idx[::-1]]"
   ]
  },
  {
   "cell_type": "code",
   "execution_count": 11,
   "id": "009b7f83-878c-4458-a0ee-7dc6b1aeeeec",
   "metadata": {},
   "outputs": [
    {
     "data": {
      "text/html": [
       "<div>\n",
       "<style scoped>\n",
       "    .dataframe tbody tr th:only-of-type {\n",
       "        vertical-align: middle;\n",
       "    }\n",
       "\n",
       "    .dataframe tbody tr th {\n",
       "        vertical-align: top;\n",
       "    }\n",
       "\n",
       "    .dataframe thead th {\n",
       "        text-align: right;\n",
       "    }\n",
       "</style>\n",
       "<table border=\"1\" class=\"dataframe\">\n",
       "  <thead>\n",
       "    <tr style=\"text-align: right;\">\n",
       "      <th></th>\n",
       "      <th>1,5</th>\n",
       "      <th>10</th>\n",
       "      <th>100</th>\n",
       "      <th>1000</th>\n",
       "      <th>110</th>\n",
       "      <th>12</th>\n",
       "      <th>120</th>\n",
       "      <th>125</th>\n",
       "      <th>130</th>\n",
       "      <th>135</th>\n",
       "      <th>...</th>\n",
       "      <th>świeże</th>\n",
       "      <th>źródlana</th>\n",
       "      <th>żelki</th>\n",
       "      <th>żucia</th>\n",
       "      <th>żurawina</th>\n",
       "      <th>żurawiną</th>\n",
       "      <th>żurek</th>\n",
       "      <th>żywiec</th>\n",
       "      <th>żółty</th>\n",
       "      <th>kategoria</th>\n",
       "    </tr>\n",
       "  </thead>\n",
       "  <tbody>\n",
       "    <tr>\n",
       "      <th>10446</th>\n",
       "      <td>0</td>\n",
       "      <td>0</td>\n",
       "      <td>0</td>\n",
       "      <td>0</td>\n",
       "      <td>0</td>\n",
       "      <td>0</td>\n",
       "      <td>0</td>\n",
       "      <td>0</td>\n",
       "      <td>0</td>\n",
       "      <td>0</td>\n",
       "      <td>...</td>\n",
       "      <td>0</td>\n",
       "      <td>0</td>\n",
       "      <td>0</td>\n",
       "      <td>0</td>\n",
       "      <td>0</td>\n",
       "      <td>0</td>\n",
       "      <td>0</td>\n",
       "      <td>0</td>\n",
       "      <td>0</td>\n",
       "      <td>Napoje orzeźwiające</td>\n",
       "    </tr>\n",
       "    <tr>\n",
       "      <th>943</th>\n",
       "      <td>0</td>\n",
       "      <td>0</td>\n",
       "      <td>0</td>\n",
       "      <td>0</td>\n",
       "      <td>0</td>\n",
       "      <td>0</td>\n",
       "      <td>0</td>\n",
       "      <td>0</td>\n",
       "      <td>0</td>\n",
       "      <td>0</td>\n",
       "      <td>...</td>\n",
       "      <td>0</td>\n",
       "      <td>0</td>\n",
       "      <td>0</td>\n",
       "      <td>0</td>\n",
       "      <td>0</td>\n",
       "      <td>0</td>\n",
       "      <td>0</td>\n",
       "      <td>0</td>\n",
       "      <td>0</td>\n",
       "      <td>Napoje orzeźwiające</td>\n",
       "    </tr>\n",
       "    <tr>\n",
       "      <th>941</th>\n",
       "      <td>0</td>\n",
       "      <td>0</td>\n",
       "      <td>0</td>\n",
       "      <td>0</td>\n",
       "      <td>0</td>\n",
       "      <td>0</td>\n",
       "      <td>0</td>\n",
       "      <td>0</td>\n",
       "      <td>0</td>\n",
       "      <td>0</td>\n",
       "      <td>...</td>\n",
       "      <td>0</td>\n",
       "      <td>0</td>\n",
       "      <td>0</td>\n",
       "      <td>0</td>\n",
       "      <td>0</td>\n",
       "      <td>0</td>\n",
       "      <td>0</td>\n",
       "      <td>0</td>\n",
       "      <td>0</td>\n",
       "      <td>Napoje orzeźwiające</td>\n",
       "    </tr>\n",
       "    <tr>\n",
       "      <th>10456</th>\n",
       "      <td>0</td>\n",
       "      <td>0</td>\n",
       "      <td>0</td>\n",
       "      <td>0</td>\n",
       "      <td>0</td>\n",
       "      <td>0</td>\n",
       "      <td>0</td>\n",
       "      <td>0</td>\n",
       "      <td>0</td>\n",
       "      <td>0</td>\n",
       "      <td>...</td>\n",
       "      <td>0</td>\n",
       "      <td>0</td>\n",
       "      <td>0</td>\n",
       "      <td>0</td>\n",
       "      <td>0</td>\n",
       "      <td>0</td>\n",
       "      <td>0</td>\n",
       "      <td>0</td>\n",
       "      <td>0</td>\n",
       "      <td>Napoje orzeźwiające</td>\n",
       "    </tr>\n",
       "    <tr>\n",
       "      <th>10457</th>\n",
       "      <td>0</td>\n",
       "      <td>0</td>\n",
       "      <td>0</td>\n",
       "      <td>0</td>\n",
       "      <td>0</td>\n",
       "      <td>0</td>\n",
       "      <td>0</td>\n",
       "      <td>0</td>\n",
       "      <td>0</td>\n",
       "      <td>0</td>\n",
       "      <td>...</td>\n",
       "      <td>0</td>\n",
       "      <td>0</td>\n",
       "      <td>0</td>\n",
       "      <td>0</td>\n",
       "      <td>0</td>\n",
       "      <td>0</td>\n",
       "      <td>0</td>\n",
       "      <td>0</td>\n",
       "      <td>0</td>\n",
       "      <td>Napoje orzeźwiające</td>\n",
       "    </tr>\n",
       "    <tr>\n",
       "      <th>...</th>\n",
       "      <td>...</td>\n",
       "      <td>...</td>\n",
       "      <td>...</td>\n",
       "      <td>...</td>\n",
       "      <td>...</td>\n",
       "      <td>...</td>\n",
       "      <td>...</td>\n",
       "      <td>...</td>\n",
       "      <td>...</td>\n",
       "      <td>...</td>\n",
       "      <td>...</td>\n",
       "      <td>...</td>\n",
       "      <td>...</td>\n",
       "      <td>...</td>\n",
       "      <td>...</td>\n",
       "      <td>...</td>\n",
       "      <td>...</td>\n",
       "      <td>...</td>\n",
       "      <td>...</td>\n",
       "      <td>...</td>\n",
       "      <td>...</td>\n",
       "    </tr>\n",
       "    <tr>\n",
       "      <th>3268</th>\n",
       "      <td>0</td>\n",
       "      <td>0</td>\n",
       "      <td>0</td>\n",
       "      <td>0</td>\n",
       "      <td>0</td>\n",
       "      <td>0</td>\n",
       "      <td>0</td>\n",
       "      <td>0</td>\n",
       "      <td>0</td>\n",
       "      <td>0</td>\n",
       "      <td>...</td>\n",
       "      <td>0</td>\n",
       "      <td>0</td>\n",
       "      <td>0</td>\n",
       "      <td>0</td>\n",
       "      <td>0</td>\n",
       "      <td>0</td>\n",
       "      <td>0</td>\n",
       "      <td>0</td>\n",
       "      <td>0</td>\n",
       "      <td>Dżemy, marmolady i miód</td>\n",
       "    </tr>\n",
       "    <tr>\n",
       "      <th>3267</th>\n",
       "      <td>0</td>\n",
       "      <td>0</td>\n",
       "      <td>0</td>\n",
       "      <td>0</td>\n",
       "      <td>0</td>\n",
       "      <td>0</td>\n",
       "      <td>0</td>\n",
       "      <td>0</td>\n",
       "      <td>0</td>\n",
       "      <td>0</td>\n",
       "      <td>...</td>\n",
       "      <td>0</td>\n",
       "      <td>0</td>\n",
       "      <td>0</td>\n",
       "      <td>0</td>\n",
       "      <td>0</td>\n",
       "      <td>0</td>\n",
       "      <td>0</td>\n",
       "      <td>0</td>\n",
       "      <td>0</td>\n",
       "      <td>Dżemy, marmolady i miód</td>\n",
       "    </tr>\n",
       "    <tr>\n",
       "      <th>3266</th>\n",
       "      <td>0</td>\n",
       "      <td>0</td>\n",
       "      <td>0</td>\n",
       "      <td>0</td>\n",
       "      <td>0</td>\n",
       "      <td>0</td>\n",
       "      <td>0</td>\n",
       "      <td>0</td>\n",
       "      <td>0</td>\n",
       "      <td>0</td>\n",
       "      <td>...</td>\n",
       "      <td>0</td>\n",
       "      <td>0</td>\n",
       "      <td>0</td>\n",
       "      <td>0</td>\n",
       "      <td>0</td>\n",
       "      <td>0</td>\n",
       "      <td>0</td>\n",
       "      <td>0</td>\n",
       "      <td>0</td>\n",
       "      <td>Dżemy, marmolady i miód</td>\n",
       "    </tr>\n",
       "    <tr>\n",
       "      <th>6349</th>\n",
       "      <td>0</td>\n",
       "      <td>0</td>\n",
       "      <td>0</td>\n",
       "      <td>0</td>\n",
       "      <td>0</td>\n",
       "      <td>0</td>\n",
       "      <td>0</td>\n",
       "      <td>0</td>\n",
       "      <td>0</td>\n",
       "      <td>0</td>\n",
       "      <td>...</td>\n",
       "      <td>0</td>\n",
       "      <td>0</td>\n",
       "      <td>0</td>\n",
       "      <td>0</td>\n",
       "      <td>0</td>\n",
       "      <td>0</td>\n",
       "      <td>0</td>\n",
       "      <td>0</td>\n",
       "      <td>0</td>\n",
       "      <td>Wędliny</td>\n",
       "    </tr>\n",
       "    <tr>\n",
       "      <th>0</th>\n",
       "      <td>0</td>\n",
       "      <td>0</td>\n",
       "      <td>0</td>\n",
       "      <td>0</td>\n",
       "      <td>0</td>\n",
       "      <td>0</td>\n",
       "      <td>0</td>\n",
       "      <td>0</td>\n",
       "      <td>0</td>\n",
       "      <td>0</td>\n",
       "      <td>...</td>\n",
       "      <td>0</td>\n",
       "      <td>0</td>\n",
       "      <td>0</td>\n",
       "      <td>0</td>\n",
       "      <td>0</td>\n",
       "      <td>0</td>\n",
       "      <td>0</td>\n",
       "      <td>0</td>\n",
       "      <td>0</td>\n",
       "      <td>Margaryna i inne tłuszcze roślinne</td>\n",
       "    </tr>\n",
       "  </tbody>\n",
       "</table>\n",
       "<p>16263 rows × 501 columns</p>\n",
       "</div>"
      ],
      "text/plain": [
       "       1,5  10  100  1000  110  12  120  125  130  135  ...  świeże  źródlana  \\\n",
       "10446    0   0    0     0    0   0    0    0    0    0  ...       0         0   \n",
       "943      0   0    0     0    0   0    0    0    0    0  ...       0         0   \n",
       "941      0   0    0     0    0   0    0    0    0    0  ...       0         0   \n",
       "10456    0   0    0     0    0   0    0    0    0    0  ...       0         0   \n",
       "10457    0   0    0     0    0   0    0    0    0    0  ...       0         0   \n",
       "...    ...  ..  ...   ...  ...  ..  ...  ...  ...  ...  ...     ...       ...   \n",
       "3268     0   0    0     0    0   0    0    0    0    0  ...       0         0   \n",
       "3267     0   0    0     0    0   0    0    0    0    0  ...       0         0   \n",
       "3266     0   0    0     0    0   0    0    0    0    0  ...       0         0   \n",
       "6349     0   0    0     0    0   0    0    0    0    0  ...       0         0   \n",
       "0        0   0    0     0    0   0    0    0    0    0  ...       0         0   \n",
       "\n",
       "       żelki  żucia  żurawina  żurawiną  żurek  żywiec  żółty  \\\n",
       "10446      0      0         0         0      0       0      0   \n",
       "943        0      0         0         0      0       0      0   \n",
       "941        0      0         0         0      0       0      0   \n",
       "10456      0      0         0         0      0       0      0   \n",
       "10457      0      0         0         0      0       0      0   \n",
       "...      ...    ...       ...       ...    ...     ...    ...   \n",
       "3268       0      0         0         0      0       0      0   \n",
       "3267       0      0         0         0      0       0      0   \n",
       "3266       0      0         0         0      0       0      0   \n",
       "6349       0      0         0         0      0       0      0   \n",
       "0          0      0         0         0      0       0      0   \n",
       "\n",
       "                                kategoria  \n",
       "10446                 Napoje orzeźwiające  \n",
       "943                   Napoje orzeźwiające  \n",
       "941                   Napoje orzeźwiające  \n",
       "10456                 Napoje orzeźwiające  \n",
       "10457                 Napoje orzeźwiające  \n",
       "...                                   ...  \n",
       "3268              Dżemy, marmolady i miód  \n",
       "3267              Dżemy, marmolady i miód  \n",
       "3266              Dżemy, marmolady i miód  \n",
       "6349                              Wędliny  \n",
       "0      Margaryna i inne tłuszcze roślinne  \n",
       "\n",
       "[16263 rows x 501 columns]"
      ]
     },
     "execution_count": 11,
     "metadata": {},
     "output_type": "execute_result"
    }
   ],
   "source": [
    "X_vectorized"
   ]
  },
  {
   "cell_type": "code",
   "execution_count": 12,
   "id": "17de6723-6f74-4c89-99fd-b53315a6b589",
   "metadata": {},
   "outputs": [],
   "source": [
    "#Also order original dataframe:\n",
    "df = df.iloc[sort_idx[::-1]]"
   ]
  },
  {
   "cell_type": "code",
   "execution_count": 13,
   "id": "31d72427-a8ac-4dc9-8d5b-ac3a6488b20d",
   "metadata": {},
   "outputs": [],
   "source": [
    "#TODO VISUALIZE NMF\n",
    "#TODO ENSURE ALL CATEGORIES IN DRIFT?"
   ]
  },
  {
   "cell_type": "markdown",
   "id": "5ab86068-28d0-4a9a-af57-3872ad960793",
   "metadata": {},
   "source": [
    "## 3. Model lifecycle and drift detection"
   ]
  },
  {
   "cell_type": "code",
   "execution_count": 14,
   "id": "cbffc695-adc4-43fa-bed5-794909c5e088",
   "metadata": {},
   "outputs": [],
   "source": [
    "#To illustrate drift detection we simulate a model lifecycle and drift detection in various phases"
   ]
  },
  {
   "cell_type": "code",
   "execution_count": 15,
   "id": "8d895217-22fa-44d5-844a-2aa3f93bbde3",
   "metadata": {},
   "outputs": [],
   "source": [
    "#Splitting data:\n",
    "start_data = df[100:].copy().reset_index(drop=True)\n",
    "new_data_data_drift = df[0:100].copy().reset_index(drop=True)"
   ]
  },
  {
   "cell_type": "code",
   "execution_count": 16,
   "id": "4f638706-79b8-4362-a44a-0565a389fb60",
   "metadata": {},
   "outputs": [],
   "source": [
    "#TODO: NEW DATA NON DRIFT\n",
    "#TODO: NEW DATA CONCEPT DRIFT"
   ]
  },
  {
   "cell_type": "markdown",
   "id": "25b38966-5a3d-41a3-a6e4-ecc37939262b",
   "metadata": {
    "tags": []
   },
   "source": [
    "### 3.1 Training a model with training data"
   ]
  },
  {
   "cell_type": "code",
   "execution_count": 17,
   "id": "abf6bc50-f6d4-4e96-bf1b-50bcd172ac94",
   "metadata": {},
   "outputs": [],
   "source": [
    "#We have some training data, so let's train a model"
   ]
  },
  {
   "cell_type": "code",
   "execution_count": 18,
   "id": "af635ec6-63e7-49b1-a744-2b216e8e32ce",
   "metadata": {},
   "outputs": [],
   "source": [
    "#Train test split\n",
    "from sklearn.model_selection import train_test_split\n",
    "train, test = train_test_split(start_data, test_size=0.2, stratify=start_data[\"kategoria\"])"
   ]
  },
  {
   "cell_type": "code",
   "execution_count": 19,
   "id": "3a5520a1-2d21-4266-8434-1771d86ffd0c",
   "metadata": {},
   "outputs": [],
   "source": [
    "#Preprocessing\n",
    "#Bag of words transformation\n",
    "vectorizer = CountVectorizer(token_pattern='\\w\\w+|[1-9]\\.[1-9]\\%|[1-9]\\,[1-9]\\%|[1-9]\\.[1-9]|[1-9]\\,[1-9]|[1-9]\\%',  max_features=500)\n",
    "train_x = vectorizer.fit_transform(train[\"produkt\"])"
   ]
  },
  {
   "cell_type": "code",
   "execution_count": 20,
   "id": "95dfbc4a-b8b0-42aa-aa12-74a6d46437b4",
   "metadata": {},
   "outputs": [
    {
     "data": {
      "text/plain": [
       "RandomForestClassifier(bootstrap=False, max_features='log2',\n",
       "                       min_samples_split=3, n_estimators=200)"
      ]
     },
     "execution_count": 20,
     "metadata": {},
     "output_type": "execute_result"
    }
   ],
   "source": [
    "#BUILD MODEL\n",
    "#Model taken from https://github.com/statisticspoland/ecoicop_classification/blob/master/Random_Forest/random_forest_results.py\n",
    "\n",
    "from sklearn.ensemble import RandomForestClassifier\n",
    "\n",
    "clf = RandomForestClassifier(\n",
    "    n_estimators=200,\n",
    "    criterion='gini',\n",
    "    min_samples_leaf=1,\n",
    "    min_samples_split=3,\n",
    "    max_features='log2',\n",
    "    bootstrap=False,\n",
    "    oob_score=False,\n",
    "    warm_start=False,\n",
    "    class_weight=None\n",
    ")\n",
    "\n",
    "clf.fit(train_x, train[\"kategoria\"])"
   ]
  },
  {
   "cell_type": "code",
   "execution_count": 21,
   "id": "a0fd297f-fd11-493b-ba48-a994fd8faf21",
   "metadata": {},
   "outputs": [],
   "source": [
    "test_x = vectorizer.transform(test[\"produkt\"])\n",
    "test_predictions = clf.predict(test_x)"
   ]
  },
  {
   "cell_type": "code",
   "execution_count": 22,
   "id": "dcdfc6d9-3496-4166-98dc-15eba7eca75a",
   "metadata": {},
   "outputs": [],
   "source": [
    "from sklearn.metrics import accuracy_score"
   ]
  },
  {
   "cell_type": "code",
   "execution_count": 23,
   "id": "ca2ceed0-802c-48a9-81ef-ce95259b6e85",
   "metadata": {},
   "outputs": [
    {
     "name": "stdout",
     "output_type": "stream",
     "text": [
      "Testing model accuracy for sanity\n",
      "Model accuracy: 0.8085369625734612\n",
      "Model accuracy seems to be fine for our purposes\n"
     ]
    }
   ],
   "source": [
    "print(\"Testing model accuracy for sanity\")\n",
    "test_accuracy = accuracy_score(test[\"kategoria\"], test_predictions)\n",
    "print(f\"Model accuracy: {test_accuracy}\")\n",
    "print(\"Model accuracy seems to be fine for our purposes\")"
   ]
  },
  {
   "cell_type": "markdown",
   "id": "11522bd5-349d-46db-ab57-73cd4ded5bf9",
   "metadata": {},
   "source": [
    "### 3.2 Predicting on new data and detecting data drift"
   ]
  },
  {
   "cell_type": "code",
   "execution_count": 24,
   "id": "f91324cc-ffc7-4a9b-a0e2-2926beac0dc0",
   "metadata": {
    "tags": []
   },
   "outputs": [],
   "source": [
    "#Building reference data:\n",
    "#We use the data that the model was trained on:\n",
    "reference_data =  pd.DataFrame(vectorizer.transform(train[\"produkt\"]).todense(), columns=vectorizer.get_feature_names())\n",
    "#Get X Columns:\n",
    "x_cols = list(reference_data.columns.values)\n",
    "#Add Y Column\n",
    "reference_data[\"kategoria\"] = train[\"kategoria\"].reset_index(drop=True)\n",
    "reference_data[\"prediction\"] = clf.predict(vectorizer.transform(train[\"produkt\"]))"
   ]
  },
  {
   "cell_type": "code",
   "execution_count": 25,
   "id": "f3c7bf8b-55b6-4df8-bb76-7c72aff13fa7",
   "metadata": {},
   "outputs": [],
   "source": [
    "#Preprocess new incoming data"
   ]
  },
  {
   "cell_type": "code",
   "execution_count": 26,
   "id": "d2bdef1f-9f01-456b-8aeb-60cf044e6e09",
   "metadata": {},
   "outputs": [],
   "source": [
    "new_data_data_drift_vec = pd.DataFrame(vectorizer.transform(new_data_data_drift[\"produkt\"]).todense(), columns=vectorizer.get_feature_names())"
   ]
  },
  {
   "cell_type": "code",
   "execution_count": 27,
   "id": "57c28cc0-74c4-4122-bba8-265b5f5fc19d",
   "metadata": {},
   "outputs": [],
   "source": [
    "#Let's check the drift with KS\n",
    "from alibi_detect.cd import KSDrift\n",
    "ks_detector = KSDrift(reference_data[x_cols].to_numpy(), p_val=0.05, correction=\"bonferroni\")"
   ]
  },
  {
   "cell_type": "code",
   "execution_count": 28,
   "id": "b1456b72-2102-49d1-877c-9e2a286a2c75",
   "metadata": {},
   "outputs": [],
   "source": [
    "preds = ks_detector.predict(new_data_data_drift_vec.to_numpy(), drift_type=\"batch\", return_p_val=True, return_distance=True)"
   ]
  },
  {
   "cell_type": "code",
   "execution_count": 29,
   "id": "2da14d38-8d74-4b6e-a439-2ad6791fdd12",
   "metadata": {},
   "outputs": [
    {
     "name": "stdout",
     "output_type": "stream",
     "text": [
      "KS Drift detected? Yes\n"
     ]
    }
   ],
   "source": [
    "print(f\"KS Drift detected? {'Yes' if preds['data']['is_drift'] else 'No'}\")"
   ]
  },
  {
   "cell_type": "code",
   "execution_count": 30,
   "id": "42076fb8-6d57-47fd-a472-2bd4fe1bcf2c",
   "metadata": {},
   "outputs": [],
   "source": [
    "p_values = preds[\"data\"][\"p_val\"]\n",
    "p_idx = np.argsort(p_values)\n",
    "p_values = p_values[p_idx]"
   ]
  },
  {
   "cell_type": "code",
   "execution_count": 31,
   "id": "3cf28d80-549f-43cc-a17a-0f5c5d428bcc",
   "metadata": {},
   "outputs": [
    {
     "name": "stdout",
     "output_type": "stream",
     "text": [
      "Alibi Detect KSDrift for 15 most drifted features\n"
     ]
    },
    {
     "data": {
      "text/html": [
       "<div>\n",
       "<style scoped>\n",
       "    .dataframe tbody tr th:only-of-type {\n",
       "        vertical-align: middle;\n",
       "    }\n",
       "\n",
       "    .dataframe tbody tr th {\n",
       "        vertical-align: top;\n",
       "    }\n",
       "\n",
       "    .dataframe thead th {\n",
       "        text-align: right;\n",
       "    }\n",
       "</style>\n",
       "<table border=\"1\" class=\"dataframe\">\n",
       "  <thead>\n",
       "    <tr style=\"text-align: right;\">\n",
       "      <th></th>\n",
       "      <th>Feature</th>\n",
       "      <th>Distance</th>\n",
       "      <th>P-Value</th>\n",
       "      <th>Drift?</th>\n",
       "    </tr>\n",
       "  </thead>\n",
       "  <tbody>\n",
       "    <tr>\n",
       "      <th>0</th>\n",
       "      <td>napój</td>\n",
       "      <td>0.939938</td>\n",
       "      <td>0.000000e+00</td>\n",
       "      <td>True</td>\n",
       "    </tr>\n",
       "    <tr>\n",
       "      <th>1</th>\n",
       "      <td>gazowany</td>\n",
       "      <td>0.722034</td>\n",
       "      <td>0.000000e+00</td>\n",
       "      <td>True</td>\n",
       "    </tr>\n",
       "    <tr>\n",
       "      <th>2</th>\n",
       "      <td>ml</td>\n",
       "      <td>0.685661</td>\n",
       "      <td>0.000000e+00</td>\n",
       "      <td>True</td>\n",
       "    </tr>\n",
       "    <tr>\n",
       "      <th>3</th>\n",
       "      <td>smaku</td>\n",
       "      <td>0.601199</td>\n",
       "      <td>9.195117e-35</td>\n",
       "      <td>True</td>\n",
       "    </tr>\n",
       "    <tr>\n",
       "      <th>4</th>\n",
       "      <td>500</td>\n",
       "      <td>0.322390</td>\n",
       "      <td>1.174557e-09</td>\n",
       "      <td>True</td>\n",
       "    </tr>\n",
       "    <tr>\n",
       "      <th>5</th>\n",
       "      <td>250</td>\n",
       "      <td>0.188964</td>\n",
       "      <td>1.437088e-03</td>\n",
       "      <td>True</td>\n",
       "    </tr>\n",
       "    <tr>\n",
       "      <th>6</th>\n",
       "      <td>niegazowany</td>\n",
       "      <td>0.113813</td>\n",
       "      <td>1.423196e-01</td>\n",
       "      <td>False</td>\n",
       "    </tr>\n",
       "    <tr>\n",
       "      <th>7</th>\n",
       "      <td>black</td>\n",
       "      <td>0.097448</td>\n",
       "      <td>2.851609e-01</td>\n",
       "      <td>False</td>\n",
       "    </tr>\n",
       "    <tr>\n",
       "      <th>8</th>\n",
       "      <td>cytrynowym</td>\n",
       "      <td>0.087912</td>\n",
       "      <td>4.052379e-01</td>\n",
       "      <td>False</td>\n",
       "    </tr>\n",
       "    <tr>\n",
       "      <th>9</th>\n",
       "      <td>330</td>\n",
       "      <td>0.045282</td>\n",
       "      <td>9.817010e-01</td>\n",
       "      <td>False</td>\n",
       "    </tr>\n",
       "    <tr>\n",
       "      <th>10</th>\n",
       "      <td>100</td>\n",
       "      <td>0.043155</td>\n",
       "      <td>9.890017e-01</td>\n",
       "      <td>False</td>\n",
       "    </tr>\n",
       "    <tr>\n",
       "      <th>11</th>\n",
       "      <td>ser</td>\n",
       "      <td>0.041686</td>\n",
       "      <td>9.926244e-01</td>\n",
       "      <td>False</td>\n",
       "    </tr>\n",
       "    <tr>\n",
       "      <th>12</th>\n",
       "      <td>cytryny</td>\n",
       "      <td>0.037912</td>\n",
       "      <td>9.978919e-01</td>\n",
       "      <td>False</td>\n",
       "    </tr>\n",
       "    <tr>\n",
       "      <th>13</th>\n",
       "      <td>kubuś</td>\n",
       "      <td>0.035746</td>\n",
       "      <td>9.991487e-01</td>\n",
       "      <td>False</td>\n",
       "    </tr>\n",
       "    <tr>\n",
       "      <th>14</th>\n",
       "      <td>mango</td>\n",
       "      <td>0.033194</td>\n",
       "      <td>9.997694e-01</td>\n",
       "      <td>False</td>\n",
       "    </tr>\n",
       "  </tbody>\n",
       "</table>\n",
       "</div>"
      ],
      "text/plain": [
       "        Feature  Distance       P-Value  Drift?\n",
       "0         napój  0.939938  0.000000e+00    True\n",
       "1      gazowany  0.722034  0.000000e+00    True\n",
       "2            ml  0.685661  0.000000e+00    True\n",
       "3         smaku  0.601199  9.195117e-35    True\n",
       "4           500  0.322390  1.174557e-09    True\n",
       "5           250  0.188964  1.437088e-03    True\n",
       "6   niegazowany  0.113813  1.423196e-01   False\n",
       "7         black  0.097448  2.851609e-01   False\n",
       "8    cytrynowym  0.087912  4.052379e-01   False\n",
       "9           330  0.045282  9.817010e-01   False\n",
       "10          100  0.043155  9.890017e-01   False\n",
       "11          ser  0.041686  9.926244e-01   False\n",
       "12      cytryny  0.037912  9.978919e-01   False\n",
       "13        kubuś  0.035746  9.991487e-01   False\n",
       "14        mango  0.033194  9.997694e-01   False"
      ]
     },
     "execution_count": 31,
     "metadata": {},
     "output_type": "execute_result"
    }
   ],
   "source": [
    "ks_drift_data = pd.DataFrame(data={\"Feature\": np.array(x_cols)[p_idx][0:15], \"Distance\": preds[\"data\"][\"distance\"][p_idx][0:15], \"P-Value\": p_values[0:15]})\n",
    "ks_drift_data[\"Drift?\"] = ks_drift_data[\"P-Value\"] < 0.05\n",
    "print(\"Alibi Detect KSDrift for 15 most drifted features\")\n",
    "ks_drift_data"
   ]
  },
  {
   "cell_type": "code",
   "execution_count": 32,
   "id": "4e62c90f-fc1e-42bf-a106-dffb8b9c6f85",
   "metadata": {},
   "outputs": [
    {
     "data": {
      "text/html": [
       "        <script type=\"text/javascript\">\n",
       "        window.PlotlyConfig = {MathJaxConfig: 'local'};\n",
       "        if (window.MathJax) {MathJax.Hub.Config({SVG: {font: \"STIX-Web\"}});}\n",
       "        if (typeof require !== 'undefined') {\n",
       "        require.undef(\"plotly\");\n",
       "        requirejs.config({\n",
       "            paths: {\n",
       "                'plotly': ['https://cdn.plot.ly/plotly-2.4.2.min']\n",
       "            }\n",
       "        });\n",
       "        require(['plotly'], function(Plotly) {\n",
       "            window._Plotly = Plotly;\n",
       "        });\n",
       "        }\n",
       "        </script>\n",
       "        "
      ]
     },
     "metadata": {},
     "output_type": "display_data"
    },
    {
     "data": {
      "text/html": [
       "<div>                            <div id=\"2608f249-242b-48e6-a9d0-c40045b09504\" class=\"plotly-graph-div\" style=\"height:525px; width:100%;\"></div>            <script type=\"text/javascript\">                require([\"plotly\"], function(Plotly) {                    window.PLOTLYENV=window.PLOTLYENV || {};                                    if (document.getElementById(\"2608f249-242b-48e6-a9d0-c40045b09504\")) {                    Plotly.newPlot(                        \"2608f249-242b-48e6-a9d0-c40045b09504\",                        [{\"hovertemplate\":\"feature=%{x}<br>p-value=%{y}<extra></extra>\",\"legendgroup\":\"\",\"marker\":{\"color\":\"#636efa\",\"symbol\":\"circle\"},\"mode\":\"markers\",\"name\":\"\",\"orientation\":\"v\",\"showlegend\":false,\"type\":\"scatter\",\"x\":[\"nap\\u00f3j\",\"gazowany\",\"ml\",\"smaku\",\"500\",\"250\",\"niegazowany\",\"black\",\"cytrynowym\",\"330\",\"100\",\"ser\",\"cytryny\",\"kubu\\u015b\",\"mango\"],\"xaxis\":\"x\",\"y\":[0.0,0.0,0.0,9.195116870512071e-35,1.1745568961885056e-09,0.0014370877761393785,0.14231961965560913,0.2851608991622925,0.4052378535270691,0.9817010164260864,0.9890016913414001,0.9926244020462036,0.997891902923584,0.9991487264633179,0.9997694492340088],\"yaxis\":\"y\"}],                        {\"legend\":{\"tracegroupgap\":0},\"shapes\":[{\"line\":{\"color\":\"red\"},\"type\":\"line\",\"x0\":0,\"x1\":1,\"xref\":\"x domain\",\"y0\":0.05,\"y1\":0.05,\"yref\":\"y\"}],\"template\":{\"data\":{\"bar\":[{\"error_x\":{\"color\":\"#2a3f5f\"},\"error_y\":{\"color\":\"#2a3f5f\"},\"marker\":{\"line\":{\"color\":\"#E5ECF6\",\"width\":0.5},\"pattern\":{\"fillmode\":\"overlay\",\"size\":10,\"solidity\":0.2}},\"type\":\"bar\"}],\"barpolar\":[{\"marker\":{\"line\":{\"color\":\"#E5ECF6\",\"width\":0.5},\"pattern\":{\"fillmode\":\"overlay\",\"size\":10,\"solidity\":0.2}},\"type\":\"barpolar\"}],\"carpet\":[{\"aaxis\":{\"endlinecolor\":\"#2a3f5f\",\"gridcolor\":\"white\",\"linecolor\":\"white\",\"minorgridcolor\":\"white\",\"startlinecolor\":\"#2a3f5f\"},\"baxis\":{\"endlinecolor\":\"#2a3f5f\",\"gridcolor\":\"white\",\"linecolor\":\"white\",\"minorgridcolor\":\"white\",\"startlinecolor\":\"#2a3f5f\"},\"type\":\"carpet\"}],\"choropleth\":[{\"colorbar\":{\"outlinewidth\":0,\"ticks\":\"\"},\"type\":\"choropleth\"}],\"contour\":[{\"colorbar\":{\"outlinewidth\":0,\"ticks\":\"\"},\"colorscale\":[[0.0,\"#0d0887\"],[0.1111111111111111,\"#46039f\"],[0.2222222222222222,\"#7201a8\"],[0.3333333333333333,\"#9c179e\"],[0.4444444444444444,\"#bd3786\"],[0.5555555555555556,\"#d8576b\"],[0.6666666666666666,\"#ed7953\"],[0.7777777777777778,\"#fb9f3a\"],[0.8888888888888888,\"#fdca26\"],[1.0,\"#f0f921\"]],\"type\":\"contour\"}],\"contourcarpet\":[{\"colorbar\":{\"outlinewidth\":0,\"ticks\":\"\"},\"type\":\"contourcarpet\"}],\"heatmap\":[{\"colorbar\":{\"outlinewidth\":0,\"ticks\":\"\"},\"colorscale\":[[0.0,\"#0d0887\"],[0.1111111111111111,\"#46039f\"],[0.2222222222222222,\"#7201a8\"],[0.3333333333333333,\"#9c179e\"],[0.4444444444444444,\"#bd3786\"],[0.5555555555555556,\"#d8576b\"],[0.6666666666666666,\"#ed7953\"],[0.7777777777777778,\"#fb9f3a\"],[0.8888888888888888,\"#fdca26\"],[1.0,\"#f0f921\"]],\"type\":\"heatmap\"}],\"heatmapgl\":[{\"colorbar\":{\"outlinewidth\":0,\"ticks\":\"\"},\"colorscale\":[[0.0,\"#0d0887\"],[0.1111111111111111,\"#46039f\"],[0.2222222222222222,\"#7201a8\"],[0.3333333333333333,\"#9c179e\"],[0.4444444444444444,\"#bd3786\"],[0.5555555555555556,\"#d8576b\"],[0.6666666666666666,\"#ed7953\"],[0.7777777777777778,\"#fb9f3a\"],[0.8888888888888888,\"#fdca26\"],[1.0,\"#f0f921\"]],\"type\":\"heatmapgl\"}],\"histogram\":[{\"marker\":{\"pattern\":{\"fillmode\":\"overlay\",\"size\":10,\"solidity\":0.2}},\"type\":\"histogram\"}],\"histogram2d\":[{\"colorbar\":{\"outlinewidth\":0,\"ticks\":\"\"},\"colorscale\":[[0.0,\"#0d0887\"],[0.1111111111111111,\"#46039f\"],[0.2222222222222222,\"#7201a8\"],[0.3333333333333333,\"#9c179e\"],[0.4444444444444444,\"#bd3786\"],[0.5555555555555556,\"#d8576b\"],[0.6666666666666666,\"#ed7953\"],[0.7777777777777778,\"#fb9f3a\"],[0.8888888888888888,\"#fdca26\"],[1.0,\"#f0f921\"]],\"type\":\"histogram2d\"}],\"histogram2dcontour\":[{\"colorbar\":{\"outlinewidth\":0,\"ticks\":\"\"},\"colorscale\":[[0.0,\"#0d0887\"],[0.1111111111111111,\"#46039f\"],[0.2222222222222222,\"#7201a8\"],[0.3333333333333333,\"#9c179e\"],[0.4444444444444444,\"#bd3786\"],[0.5555555555555556,\"#d8576b\"],[0.6666666666666666,\"#ed7953\"],[0.7777777777777778,\"#fb9f3a\"],[0.8888888888888888,\"#fdca26\"],[1.0,\"#f0f921\"]],\"type\":\"histogram2dcontour\"}],\"mesh3d\":[{\"colorbar\":{\"outlinewidth\":0,\"ticks\":\"\"},\"type\":\"mesh3d\"}],\"parcoords\":[{\"line\":{\"colorbar\":{\"outlinewidth\":0,\"ticks\":\"\"}},\"type\":\"parcoords\"}],\"pie\":[{\"automargin\":true,\"type\":\"pie\"}],\"scatter\":[{\"marker\":{\"colorbar\":{\"outlinewidth\":0,\"ticks\":\"\"}},\"type\":\"scatter\"}],\"scatter3d\":[{\"line\":{\"colorbar\":{\"outlinewidth\":0,\"ticks\":\"\"}},\"marker\":{\"colorbar\":{\"outlinewidth\":0,\"ticks\":\"\"}},\"type\":\"scatter3d\"}],\"scattercarpet\":[{\"marker\":{\"colorbar\":{\"outlinewidth\":0,\"ticks\":\"\"}},\"type\":\"scattercarpet\"}],\"scattergeo\":[{\"marker\":{\"colorbar\":{\"outlinewidth\":0,\"ticks\":\"\"}},\"type\":\"scattergeo\"}],\"scattergl\":[{\"marker\":{\"colorbar\":{\"outlinewidth\":0,\"ticks\":\"\"}},\"type\":\"scattergl\"}],\"scattermapbox\":[{\"marker\":{\"colorbar\":{\"outlinewidth\":0,\"ticks\":\"\"}},\"type\":\"scattermapbox\"}],\"scatterpolar\":[{\"marker\":{\"colorbar\":{\"outlinewidth\":0,\"ticks\":\"\"}},\"type\":\"scatterpolar\"}],\"scatterpolargl\":[{\"marker\":{\"colorbar\":{\"outlinewidth\":0,\"ticks\":\"\"}},\"type\":\"scatterpolargl\"}],\"scatterternary\":[{\"marker\":{\"colorbar\":{\"outlinewidth\":0,\"ticks\":\"\"}},\"type\":\"scatterternary\"}],\"surface\":[{\"colorbar\":{\"outlinewidth\":0,\"ticks\":\"\"},\"colorscale\":[[0.0,\"#0d0887\"],[0.1111111111111111,\"#46039f\"],[0.2222222222222222,\"#7201a8\"],[0.3333333333333333,\"#9c179e\"],[0.4444444444444444,\"#bd3786\"],[0.5555555555555556,\"#d8576b\"],[0.6666666666666666,\"#ed7953\"],[0.7777777777777778,\"#fb9f3a\"],[0.8888888888888888,\"#fdca26\"],[1.0,\"#f0f921\"]],\"type\":\"surface\"}],\"table\":[{\"cells\":{\"fill\":{\"color\":\"#EBF0F8\"},\"line\":{\"color\":\"white\"}},\"header\":{\"fill\":{\"color\":\"#C8D4E3\"},\"line\":{\"color\":\"white\"}},\"type\":\"table\"}]},\"layout\":{\"annotationdefaults\":{\"arrowcolor\":\"#2a3f5f\",\"arrowhead\":0,\"arrowwidth\":1},\"autotypenumbers\":\"strict\",\"coloraxis\":{\"colorbar\":{\"outlinewidth\":0,\"ticks\":\"\"}},\"colorscale\":{\"diverging\":[[0,\"#8e0152\"],[0.1,\"#c51b7d\"],[0.2,\"#de77ae\"],[0.3,\"#f1b6da\"],[0.4,\"#fde0ef\"],[0.5,\"#f7f7f7\"],[0.6,\"#e6f5d0\"],[0.7,\"#b8e186\"],[0.8,\"#7fbc41\"],[0.9,\"#4d9221\"],[1,\"#276419\"]],\"sequential\":[[0.0,\"#0d0887\"],[0.1111111111111111,\"#46039f\"],[0.2222222222222222,\"#7201a8\"],[0.3333333333333333,\"#9c179e\"],[0.4444444444444444,\"#bd3786\"],[0.5555555555555556,\"#d8576b\"],[0.6666666666666666,\"#ed7953\"],[0.7777777777777778,\"#fb9f3a\"],[0.8888888888888888,\"#fdca26\"],[1.0,\"#f0f921\"]],\"sequentialminus\":[[0.0,\"#0d0887\"],[0.1111111111111111,\"#46039f\"],[0.2222222222222222,\"#7201a8\"],[0.3333333333333333,\"#9c179e\"],[0.4444444444444444,\"#bd3786\"],[0.5555555555555556,\"#d8576b\"],[0.6666666666666666,\"#ed7953\"],[0.7777777777777778,\"#fb9f3a\"],[0.8888888888888888,\"#fdca26\"],[1.0,\"#f0f921\"]]},\"colorway\":[\"#636efa\",\"#EF553B\",\"#00cc96\",\"#ab63fa\",\"#FFA15A\",\"#19d3f3\",\"#FF6692\",\"#B6E880\",\"#FF97FF\",\"#FECB52\"],\"font\":{\"color\":\"#2a3f5f\"},\"geo\":{\"bgcolor\":\"white\",\"lakecolor\":\"white\",\"landcolor\":\"#E5ECF6\",\"showlakes\":true,\"showland\":true,\"subunitcolor\":\"white\"},\"hoverlabel\":{\"align\":\"left\"},\"hovermode\":\"closest\",\"mapbox\":{\"style\":\"light\"},\"paper_bgcolor\":\"white\",\"plot_bgcolor\":\"#E5ECF6\",\"polar\":{\"angularaxis\":{\"gridcolor\":\"white\",\"linecolor\":\"white\",\"ticks\":\"\"},\"bgcolor\":\"#E5ECF6\",\"radialaxis\":{\"gridcolor\":\"white\",\"linecolor\":\"white\",\"ticks\":\"\"}},\"scene\":{\"xaxis\":{\"backgroundcolor\":\"#E5ECF6\",\"gridcolor\":\"white\",\"gridwidth\":2,\"linecolor\":\"white\",\"showbackground\":true,\"ticks\":\"\",\"zerolinecolor\":\"white\"},\"yaxis\":{\"backgroundcolor\":\"#E5ECF6\",\"gridcolor\":\"white\",\"gridwidth\":2,\"linecolor\":\"white\",\"showbackground\":true,\"ticks\":\"\",\"zerolinecolor\":\"white\"},\"zaxis\":{\"backgroundcolor\":\"#E5ECF6\",\"gridcolor\":\"white\",\"gridwidth\":2,\"linecolor\":\"white\",\"showbackground\":true,\"ticks\":\"\",\"zerolinecolor\":\"white\"}},\"shapedefaults\":{\"line\":{\"color\":\"#2a3f5f\"}},\"ternary\":{\"aaxis\":{\"gridcolor\":\"white\",\"linecolor\":\"white\",\"ticks\":\"\"},\"baxis\":{\"gridcolor\":\"white\",\"linecolor\":\"white\",\"ticks\":\"\"},\"bgcolor\":\"#E5ECF6\",\"caxis\":{\"gridcolor\":\"white\",\"linecolor\":\"white\",\"ticks\":\"\"}},\"title\":{\"x\":0.05},\"xaxis\":{\"automargin\":true,\"gridcolor\":\"white\",\"linecolor\":\"white\",\"ticks\":\"\",\"title\":{\"standoff\":15},\"zerolinecolor\":\"white\",\"zerolinewidth\":2},\"yaxis\":{\"automargin\":true,\"gridcolor\":\"white\",\"linecolor\":\"white\",\"ticks\":\"\",\"title\":{\"standoff\":15},\"zerolinecolor\":\"white\",\"zerolinewidth\":2}}},\"title\":{\"text\":\"P-Values for a sample of features\"},\"xaxis\":{\"anchor\":\"y\",\"domain\":[0.0,1.0],\"title\":{\"text\":\"feature\"}},\"yaxis\":{\"anchor\":\"x\",\"domain\":[0.0,1.0],\"range\":[0,1],\"title\":{\"text\":\"p-value\"}}},                        {\"responsive\": true}                    ).then(function(){\n",
       "                            \n",
       "var gd = document.getElementById('2608f249-242b-48e6-a9d0-c40045b09504');\n",
       "var x = new MutationObserver(function (mutations, observer) {{\n",
       "        var display = window.getComputedStyle(gd).display;\n",
       "        if (!display || display === 'none') {{\n",
       "            console.log([gd, 'removed!']);\n",
       "            Plotly.purge(gd);\n",
       "            observer.disconnect();\n",
       "        }}\n",
       "}});\n",
       "\n",
       "// Listen for the removal of the full notebook cells\n",
       "var notebookContainer = gd.closest('#notebook-container');\n",
       "if (notebookContainer) {{\n",
       "    x.observe(notebookContainer, {childList: true});\n",
       "}}\n",
       "\n",
       "// Listen for the clearing of the current output cell\n",
       "var outputEl = gd.closest('.output');\n",
       "if (outputEl) {{\n",
       "    x.observe(outputEl, {childList: true});\n",
       "}}\n",
       "\n",
       "                        })                };                });            </script>        </div>"
      ]
     },
     "metadata": {},
     "output_type": "display_data"
    }
   ],
   "source": [
    "#TODO: DISTANCE LINE\n",
    "from plotly import express as px\n",
    "fig = px.scatter({\"p-value\": p_values[0:15], \"feature\": np.array(x_cols)[p_idx][0:15]}, x=\"feature\", y=\"p-value\", range_y=[0,1],\n",
    "                 title=\"P-Values for a sample of features\")\n",
    "fig.add_hline(y=0.05, line_color=\"red\")\n",
    "fig.show()"
   ]
  },
  {
   "cell_type": "code",
   "execution_count": 33,
   "id": "2073b5f8-671d-48d4-8491-7ab05ffd93af",
   "metadata": {},
   "outputs": [],
   "source": [
    "from evidently.dashboard import Dashboard\n",
    "from evidently.tabs import DataDriftTab, CatTargetDriftTab"
   ]
  },
  {
   "cell_type": "code",
   "execution_count": 34,
   "id": "d82d8662-6ca0-4bb9-9427-836e0f7bc8a7",
   "metadata": {},
   "outputs": [],
   "source": [
    "drift_dashboard = Dashboard(tabs=[DataDriftTab])"
   ]
  },
  {
   "cell_type": "code",
   "execution_count": 35,
   "id": "dffd7033-3564-4556-8f88-aeb07ad7f182",
   "metadata": {},
   "outputs": [],
   "source": [
    "drift_dashboard.calculate(reference_data[x_cols], new_data_data_drift_vec.copy())"
   ]
  },
  {
   "cell_type": "code",
   "execution_count": 36,
   "id": "b1b2adc5-ae45-4880-8359-c18586fd1b2a",
   "metadata": {},
   "outputs": [],
   "source": [
    "drift_dashboard.save(\"data_dift_report.html\")"
   ]
  },
  {
   "cell_type": "code",
   "execution_count": 37,
   "id": "c3bc247b-777b-4284-a72a-561192709a64",
   "metadata": {},
   "outputs": [],
   "source": [
    "#TODO: COMPARISON: EVIDENTLY, ALIBI DETECT, high treshold for evidently"
   ]
  },
  {
   "cell_type": "code",
   "execution_count": 38,
   "id": "60fd2d19-c3df-4541-a1f5-a4fc4d3aece5",
   "metadata": {},
   "outputs": [],
   "source": [
    "#Testing with predicted categories\n",
    "test_predictions = clf.predict(vectorizer.transform(new_data_data_drift[\"produkt\"]))"
   ]
  },
  {
   "cell_type": "code",
   "execution_count": 39,
   "id": "ca422980-5156-4d8c-9c37-147c2c46625e",
   "metadata": {},
   "outputs": [],
   "source": [
    "new_data_data_drift_vec[\"prediction\"] = test_predictions"
   ]
  },
  {
   "cell_type": "code",
   "execution_count": 40,
   "id": "218522aa-b8c2-4668-a2d4-5fe68ec03cb2",
   "metadata": {},
   "outputs": [],
   "source": [
    "cat_target_drift_dashboard = Dashboard(tabs=[CatTargetDriftTab])\n",
    "column_mapping = {}\n",
    "column_mapping[\"prediction\"] = \"prediction\"\n",
    "column_mapping[\"numerical_features\"] = x_cols"
   ]
  },
  {
   "cell_type": "code",
   "execution_count": 41,
   "id": "309be9f7-3d2a-42c4-a943-ba2072990d78",
   "metadata": {},
   "outputs": [
    {
     "name": "stderr",
     "output_type": "stream",
     "text": [
      "d:\\git\\drift-detection-simulation\\env\\lib\\site-packages\\scipy\\stats\\stats.py:6125: RuntimeWarning:\n",
      "\n",
      "divide by zero encountered in true_divide\n",
      "\n"
     ]
    }
   ],
   "source": [
    "cat_target_drift_dashboard.calculate(reference_data.drop(columns=[\"kategoria\"]), new_data_data_drift_vec.copy(), column_mapping=column_mapping)"
   ]
  },
  {
   "cell_type": "code",
   "execution_count": 42,
   "id": "adbc83a4-12b0-4fa4-9dee-230f2db82283",
   "metadata": {},
   "outputs": [],
   "source": [
    "cat_target_drift_dashboard.save(\"predicted_target_drift.html\")"
   ]
  },
  {
   "cell_type": "code",
   "execution_count": 43,
   "id": "19bccf8d-b72f-4fc3-bde3-efd231bfbafe",
   "metadata": {},
   "outputs": [],
   "source": [
    "#TODO: WHY THIS IS NOT CONCEPT DRIFT"
   ]
  },
  {
   "cell_type": "markdown",
   "id": "e2667858-1f09-4186-a8d2-7280efb783aa",
   "metadata": {},
   "source": [
    "### 3.3 Real Y values and model performance"
   ]
  },
  {
   "cell_type": "code",
   "execution_count": 44,
   "id": "2873f708-cc77-488a-9a4e-2eaa60f9dbe5",
   "metadata": {},
   "outputs": [],
   "source": [
    "new_data_data_drift_vec[\"kategoria\"] = new_data_data_drift[\"kategoria\"] #Let's assume we get real \"kategoria\" values"
   ]
  },
  {
   "cell_type": "code",
   "execution_count": 45,
   "id": "3ae9f022-294c-45b4-9de3-e0437b844e55",
   "metadata": {},
   "outputs": [],
   "source": [
    "new_accuracy = accuracy_score(new_data_data_drift_vec[\"kategoria\"], new_data_data_drift_vec[\"prediction\"])"
   ]
  },
  {
   "cell_type": "code",
   "execution_count": 46,
   "id": "0f5910ac-efec-4147-a110-2d7ae0583d48",
   "metadata": {},
   "outputs": [
    {
     "data": {
      "text/plain": [
       "0.89"
      ]
     },
     "execution_count": 46,
     "metadata": {},
     "output_type": "execute_result"
    }
   ],
   "source": [
    "#Accuracy seems to even increase. Why? Because concept drift has not occured\n",
    "new_accuracy"
   ]
  },
  {
   "cell_type": "code",
   "execution_count": 47,
   "id": "ce99f8cb-48c5-4dee-982a-710f110884d1",
   "metadata": {},
   "outputs": [],
   "source": [
    "from evidently.tabs import ClassificationPerformanceTab"
   ]
  },
  {
   "cell_type": "code",
   "execution_count": 48,
   "id": "80010923-d870-45cd-b0c9-dc7361d2d540",
   "metadata": {},
   "outputs": [],
   "source": [
    "classification_performance_dashboard = Dashboard(tabs=[ClassificationPerformanceTab])"
   ]
  },
  {
   "cell_type": "code",
   "execution_count": 49,
   "id": "78b10c7b-f736-4857-b44c-ffb124681dd2",
   "metadata": {},
   "outputs": [],
   "source": [
    "column_mapping[\"target\"] = \"kategoria\""
   ]
  },
  {
   "cell_type": "code",
   "execution_count": 50,
   "id": "e37cb8cd-1ec8-40d2-9a48-59e91dbf4032",
   "metadata": {},
   "outputs": [],
   "source": [
    "#sample to speed up analysis\n",
    "sample_reference, _ = train_test_split(reference_data, train_size=100, stratify=reference_data[\"kategoria\"])"
   ]
  },
  {
   "cell_type": "code",
   "execution_count": 51,
   "id": "7dc3f7cd-3b6c-4e4a-9823-f2571adc1c1f",
   "metadata": {},
   "outputs": [],
   "source": [
    "#Sample features to speed up report\n",
    "from random import sample\n",
    "x_cols_sample = sample(x_cols, 10)\n",
    "column_mapping[\"numerical_features\"] = x_cols_sample"
   ]
  },
  {
   "cell_type": "code",
   "execution_count": 52,
   "id": "457722a7-dbb3-4c4b-8ac8-02ce08f553e6",
   "metadata": {},
   "outputs": [],
   "source": [
    "import warnings\n",
    "\n",
    "with warnings.catch_warnings():\n",
    "    warnings.simplefilter(\"ignore\")\n",
    "    \n",
    "    classification_performance_dashboard.calculate(\n",
    "        reference_data=sample_reference[x_cols_sample+[\"kategoria\", \"prediction\"]].copy(),\n",
    "        current_data=new_data_data_drift_vec[x_cols_sample+[\"kategoria\", \"prediction\"]].copy(),\n",
    "        column_mapping=column_mapping\n",
    "    )"
   ]
  },
  {
   "cell_type": "code",
   "execution_count": 53,
   "id": "8c9a0324-b6a3-4efc-b8c9-ec53b621b0cb",
   "metadata": {},
   "outputs": [],
   "source": [
    "classification_performance_dashboard.save(\"classification_performance.html\")"
   ]
  },
  {
   "cell_type": "markdown",
   "id": "bbd36b27-80ac-40af-aaf4-1b31720bb198",
   "metadata": {},
   "source": [
    "## 4. Other temp"
   ]
  },
  {
   "cell_type": "code",
   "execution_count": 54,
   "id": "ef4598c5-42fd-448f-a961-e97c46589b07",
   "metadata": {},
   "outputs": [
    {
     "name": "stdout",
     "output_type": "stream",
     "text": [
      "No GPU detected, fall back on CPU.\n"
     ]
    }
   ],
   "source": [
    "#Other alibi_detect algorithm:\n",
    "from alibi_detect.cd import MMDDrift\n",
    "mmm_detector= MMDDrift(reference_data[x_cols].to_numpy(), p_val=0.05, backend='pytorch')"
   ]
  },
  {
   "cell_type": "code",
   "execution_count": 57,
   "id": "46b82ec9-d7c2-4bdc-adb1-b89c4405c838",
   "metadata": {},
   "outputs": [],
   "source": [
    "preds_mmm = mmm_detector.predict(new_data_data_drift_vec[x_cols].to_numpy(), return_p_val=True, return_distance=True)"
   ]
  },
  {
   "cell_type": "code",
   "execution_count": 58,
   "id": "90da4d0a-6013-4d30-9d4f-0e5771a12a24",
   "metadata": {},
   "outputs": [
    {
     "data": {
      "text/plain": [
       "{'data': {'is_drift': 1,\n",
       "  'distance': 0.34631967544555664,\n",
       "  'p_val': 0.0,\n",
       "  'threshold': 0.05,\n",
       "  'distance_threshold': 0.0009915829},\n",
       " 'meta': {'name': 'MMDDriftTorch',\n",
       "  'detector_type': 'offline',\n",
       "  'data_type': None,\n",
       "  'backend': 'pytorch'}}"
      ]
     },
     "execution_count": 58,
     "metadata": {},
     "output_type": "execute_result"
    }
   ],
   "source": [
    "preds_mmm"
   ]
  }
 ],
 "metadata": {
  "kernelspec": {
   "display_name": "Python 3 (ipykernel)",
   "language": "python",
   "name": "python3"
  },
  "language_info": {
   "codemirror_mode": {
    "name": "ipython",
    "version": 3
   },
   "file_extension": ".py",
   "mimetype": "text/x-python",
   "name": "python",
   "nbconvert_exporter": "python",
   "pygments_lexer": "ipython3",
   "version": "3.8.5"
  }
 },
 "nbformat": 4,
 "nbformat_minor": 5
}
